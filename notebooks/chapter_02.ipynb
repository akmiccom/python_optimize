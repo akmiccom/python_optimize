{
 "cells": [
  {
   "cell_type": "markdown",
   "metadata": {},
   "source": [
    "#### 2-1 連立一次方程式を python の数理最適化ライブラリで解く\n",
    "リンゴ120円、ナシ150円を合わせて10個買ったら1440円だった。それぞれ何個買ったのか？"
   ]
  },
  {
   "cell_type": "code",
   "execution_count": 23,
   "metadata": {},
   "outputs": [],
   "source": [
    "from pulp import LpProblem, LpVariable, LpMaximize, LpStatus"
   ]
  },
  {
   "cell_type": "markdown",
   "metadata": {},
   "source": [
    "問題の定義"
   ]
  },
  {
   "cell_type": "code",
   "execution_count": 24,
   "metadata": {},
   "outputs": [],
   "source": [
    "apple_price = 120\n",
    "pear_price = 150\n",
    "total_price = 1440\n",
    "total_quantity = 10"
   ]
  },
  {
   "cell_type": "markdown",
   "metadata": {},
   "source": [
    "数理モデル、変数の定義"
   ]
  },
  {
   "cell_type": "code",
   "execution_count": 25,
   "metadata": {},
   "outputs": [],
   "source": [
    "problem = LpProblem('SLE', LpMaximize)\n",
    "x = LpVariable('x', cat='Continuous')\n",
    "y = LpVariable('y', cat='Continuous')"
   ]
  },
  {
   "cell_type": "markdown",
   "metadata": {},
   "source": [
    "条件式の定義"
   ]
  },
  {
   "cell_type": "code",
   "execution_count": 26,
   "metadata": {},
   "outputs": [],
   "source": [
    "problem += apple_price * x + pear_price * y == total_price\n",
    "problem += x + y == total_quantity"
   ]
  },
  {
   "cell_type": "markdown",
   "metadata": {},
   "source": [
    "計算及び結果の表示"
   ]
  },
  {
   "cell_type": "code",
   "execution_count": 27,
   "metadata": {},
   "outputs": [
    {
     "name": "stdout",
     "output_type": "stream",
     "text": [
      "Status= Optimal\n",
      "x= 2.0 y= 8.0\n"
     ]
    }
   ],
   "source": [
    "status = problem.solve()\n",
    "print('Status=', LpStatus[status])\n",
    "print('x=', x.value(), 'y=', y.value())"
   ]
  },
  {
   "cell_type": "markdown",
   "metadata": {},
   "source": [
    "#### 2-2 線形計画問題を python の数理最適化ライブラリで解く\n",
    "ある工場の利益を最大化する問題\n",
    "- 製品 p を 1kg 製造するためには、原料 m が1kg、原料 n が2kg必要\n",
    "- 製品 q を 1kg 製造するためには、原料 m が3kg、原料 n が1kg必要\n",
    "- 原料 m の在庫は 30kg、原料 n の在庫は 40kg\n",
    "- 単位量あたりの利益は、製品 p は1万円、製品 q は2万円"
   ]
  },
  {
   "cell_type": "code",
   "execution_count": 1,
   "metadata": {},
   "outputs": [],
   "source": [
    "from pulp import LpProblem, LpVariable, LpMaximize, LpStatus"
   ]
  },
  {
   "cell_type": "markdown",
   "metadata": {},
   "source": [
    "問題、数理モデル、変数の定義"
   ]
  },
  {
   "cell_type": "code",
   "execution_count": 2,
   "metadata": {},
   "outputs": [],
   "source": [
    "mx, nx = 1, 2\n",
    "my, ny = 3, 1\n",
    "profit_x, profit_y = 10000, 20000\n",
    "\n",
    "problem = LpProblem('LP', LpMaximize)\n",
    "x = LpVariable('x', cat='Continuaus')\n",
    "y = LpVariable('y', cat='Continuaus')"
   ]
  },
  {
   "cell_type": "markdown",
   "metadata": {},
   "source": [
    "条件式の定義"
   ]
  },
  {
   "cell_type": "code",
   "execution_count": 3,
   "metadata": {},
   "outputs": [],
   "source": [
    "problem += mx * x + my * y <= 30\n",
    "problem += nx * x + ny * y <= 40\n",
    "problem += x >= 0\n",
    "problem += y >= 0\n",
    "problem += profit_x * x + profit_y * y"
   ]
  },
  {
   "cell_type": "markdown",
   "metadata": {},
   "source": [
    "計算及び結果表示"
   ]
  },
  {
   "cell_type": "code",
   "execution_count": 4,
   "metadata": {},
   "outputs": [
    {
     "name": "stdout",
     "output_type": "stream",
     "text": [
      "Status: Optimal\n",
      "x= 18.0 y= 4.0 Obj= 260000.0\n"
     ]
    }
   ],
   "source": [
    "status = problem.solve()\n",
    "\n",
    "print('Status:', LpStatus[status])\n",
    "print('x=', x.value(), 'y=', y.value(), 'Obj=', problem.objective.value())"
   ]
  },
  {
   "cell_type": "markdown",
   "metadata": {},
   "source": [
    "#### 2-3 規模の大きな数理最適化問題を Python のライブラリで解く\n",
    "- ある工場の利益最大化問題\n",
    "  - 製品 p1, p2, p3, p4 を製造\n",
    "  - 原料 m1, m2, m3 の使用量ファイル(requires.csv)\n",
    "  - 原料 m1, m2, m3 の在庫ファイル(stocks.csv)\n",
    "  - 原料 m1, m2, m3 の利益ファイル(gains.csv)\n",
    "- リスト\n",
    "  - 製品 $[p_1, p_2, p_3, p_4]$\n",
    "  - 原料 $[m_1, m_2, m_3]$\n",
    "- 定数\n",
    "  - 在庫 $stock_m$\n",
    "  - 必要原料 $require_{p,m}$\n",
    "  - 利益 $gain_p$\n",
    "- 変数\n",
    "  - 生産量 $x_p$\n",
    "- 制約式\n",
    "  - 生産数は 0 以上 $x_p \\ge 0$\n",
    "  - 在庫数の範囲 $\\sum_P require_{p,m}\\cdot x_p \\le stock_m$\n",
    "- 目的関数\n",
    "  - 最大化 $Maximaize \\sum_P gain_p \\cdot x_p$"
   ]
  },
  {
   "cell_type": "code",
   "execution_count": 32,
   "metadata": {},
   "outputs": [],
   "source": [
    "from pulp import LpProblem, LpVariable, LpMaximize, lpSum, LpStatus\n",
    "import pandas as pd\n",
    "from glob import glob"
   ]
  },
  {
   "cell_type": "markdown",
   "metadata": {},
   "source": [
    "データ取得"
   ]
  },
  {
   "cell_type": "code",
   "execution_count": 33,
   "metadata": {},
   "outputs": [
    {
     "data": {
      "text/html": [
       "<div>\n",
       "<style scoped>\n",
       "    .dataframe tbody tr th:only-of-type {\n",
       "        vertical-align: middle;\n",
       "    }\n",
       "\n",
       "    .dataframe tbody tr th {\n",
       "        vertical-align: top;\n",
       "    }\n",
       "\n",
       "    .dataframe thead th {\n",
       "        text-align: right;\n",
       "    }\n",
       "</style>\n",
       "<table border=\"1\" class=\"dataframe\">\n",
       "  <thead>\n",
       "    <tr style=\"text-align: right;\">\n",
       "      <th></th>\n",
       "      <th>p</th>\n",
       "      <th>m</th>\n",
       "      <th>require</th>\n",
       "    </tr>\n",
       "  </thead>\n",
       "  <tbody>\n",
       "    <tr>\n",
       "      <th>0</th>\n",
       "      <td>p1</td>\n",
       "      <td>m1</td>\n",
       "      <td>2</td>\n",
       "    </tr>\n",
       "    <tr>\n",
       "      <th>1</th>\n",
       "      <td>p1</td>\n",
       "      <td>m2</td>\n",
       "      <td>0</td>\n",
       "    </tr>\n",
       "    <tr>\n",
       "      <th>2</th>\n",
       "      <td>p1</td>\n",
       "      <td>m3</td>\n",
       "      <td>1</td>\n",
       "    </tr>\n",
       "    <tr>\n",
       "      <th>3</th>\n",
       "      <td>p2</td>\n",
       "      <td>m1</td>\n",
       "      <td>3</td>\n",
       "    </tr>\n",
       "    <tr>\n",
       "      <th>4</th>\n",
       "      <td>p2</td>\n",
       "      <td>m2</td>\n",
       "      <td>2</td>\n",
       "    </tr>\n",
       "    <tr>\n",
       "      <th>5</th>\n",
       "      <td>p2</td>\n",
       "      <td>m3</td>\n",
       "      <td>0</td>\n",
       "    </tr>\n",
       "    <tr>\n",
       "      <th>6</th>\n",
       "      <td>p3</td>\n",
       "      <td>m1</td>\n",
       "      <td>0</td>\n",
       "    </tr>\n",
       "    <tr>\n",
       "      <th>7</th>\n",
       "      <td>p3</td>\n",
       "      <td>m2</td>\n",
       "      <td>2</td>\n",
       "    </tr>\n",
       "    <tr>\n",
       "      <th>8</th>\n",
       "      <td>p3</td>\n",
       "      <td>m3</td>\n",
       "      <td>2</td>\n",
       "    </tr>\n",
       "    <tr>\n",
       "      <th>9</th>\n",
       "      <td>p4</td>\n",
       "      <td>m1</td>\n",
       "      <td>2</td>\n",
       "    </tr>\n",
       "    <tr>\n",
       "      <th>10</th>\n",
       "      <td>p4</td>\n",
       "      <td>m2</td>\n",
       "      <td>2</td>\n",
       "    </tr>\n",
       "    <tr>\n",
       "      <th>11</th>\n",
       "      <td>p4</td>\n",
       "      <td>m3</td>\n",
       "      <td>2</td>\n",
       "    </tr>\n",
       "  </tbody>\n",
       "</table>\n",
       "</div>"
      ],
      "text/plain": [
       "     p   m  require\n",
       "0   p1  m1        2\n",
       "1   p1  m2        0\n",
       "2   p1  m3        1\n",
       "3   p2  m1        3\n",
       "4   p2  m2        2\n",
       "5   p2  m3        0\n",
       "6   p3  m1        0\n",
       "7   p3  m2        2\n",
       "8   p3  m3        2\n",
       "9   p4  m1        2\n",
       "10  p4  m2        2\n",
       "11  p4  m3        2"
      ]
     },
     "metadata": {},
     "output_type": "display_data"
    },
    {
     "data": {
      "text/html": [
       "<div>\n",
       "<style scoped>\n",
       "    .dataframe tbody tr th:only-of-type {\n",
       "        vertical-align: middle;\n",
       "    }\n",
       "\n",
       "    .dataframe tbody tr th {\n",
       "        vertical-align: top;\n",
       "    }\n",
       "\n",
       "    .dataframe thead th {\n",
       "        text-align: right;\n",
       "    }\n",
       "</style>\n",
       "<table border=\"1\" class=\"dataframe\">\n",
       "  <thead>\n",
       "    <tr style=\"text-align: right;\">\n",
       "      <th></th>\n",
       "      <th>m</th>\n",
       "      <th>stock</th>\n",
       "    </tr>\n",
       "  </thead>\n",
       "  <tbody>\n",
       "    <tr>\n",
       "      <th>0</th>\n",
       "      <td>m1</td>\n",
       "      <td>35</td>\n",
       "    </tr>\n",
       "    <tr>\n",
       "      <th>1</th>\n",
       "      <td>m2</td>\n",
       "      <td>22</td>\n",
       "    </tr>\n",
       "    <tr>\n",
       "      <th>2</th>\n",
       "      <td>m3</td>\n",
       "      <td>27</td>\n",
       "    </tr>\n",
       "  </tbody>\n",
       "</table>\n",
       "</div>"
      ],
      "text/plain": [
       "    m  stock\n",
       "0  m1     35\n",
       "1  m2     22\n",
       "2  m3     27"
      ]
     },
     "metadata": {},
     "output_type": "display_data"
    },
    {
     "data": {
      "text/html": [
       "<div>\n",
       "<style scoped>\n",
       "    .dataframe tbody tr th:only-of-type {\n",
       "        vertical-align: middle;\n",
       "    }\n",
       "\n",
       "    .dataframe tbody tr th {\n",
       "        vertical-align: top;\n",
       "    }\n",
       "\n",
       "    .dataframe thead th {\n",
       "        text-align: right;\n",
       "    }\n",
       "</style>\n",
       "<table border=\"1\" class=\"dataframe\">\n",
       "  <thead>\n",
       "    <tr style=\"text-align: right;\">\n",
       "      <th></th>\n",
       "      <th>p</th>\n",
       "      <th>gain</th>\n",
       "    </tr>\n",
       "  </thead>\n",
       "  <tbody>\n",
       "    <tr>\n",
       "      <th>0</th>\n",
       "      <td>p1</td>\n",
       "      <td>3</td>\n",
       "    </tr>\n",
       "    <tr>\n",
       "      <th>1</th>\n",
       "      <td>p2</td>\n",
       "      <td>4</td>\n",
       "    </tr>\n",
       "    <tr>\n",
       "      <th>2</th>\n",
       "      <td>p3</td>\n",
       "      <td>4</td>\n",
       "    </tr>\n",
       "    <tr>\n",
       "      <th>3</th>\n",
       "      <td>p4</td>\n",
       "      <td>5</td>\n",
       "    </tr>\n",
       "  </tbody>\n",
       "</table>\n",
       "</div>"
      ],
      "text/plain": [
       "    p  gain\n",
       "0  p1     3\n",
       "1  p2     4\n",
       "2  p3     4\n",
       "3  p4     5"
      ]
     },
     "metadata": {},
     "output_type": "display_data"
    }
   ],
   "source": [
    "requires_df = pd.read_csv(glob('../*/*/requires.csv')[0])\n",
    "stocks_df = pd.read_csv(glob('../*/*/stocks.csv')[0])\n",
    "gains_df = pd.read_csv(glob('../*/*/gains.csv')[0])\n",
    "display(requires_df)\n",
    "display(stocks_df)\n",
    "display(gains_df)"
   ]
  },
  {
   "cell_type": "markdown",
   "metadata": {},
   "source": [
    "リスト定義"
   ]
  },
  {
   "cell_type": "code",
   "execution_count": 34,
   "metadata": {},
   "outputs": [
    {
     "data": {
      "text/plain": [
       "(['p1', 'p2', 'p3', 'p4'], ['m1', 'm2', 'm3'])"
      ]
     },
     "execution_count": 34,
     "metadata": {},
     "output_type": "execute_result"
    }
   ],
   "source": [
    "products = gains_df['p'].to_list()\n",
    "materials = stocks_df['m'].to_list()\n",
    "products, materials"
   ]
  },
  {
   "cell_type": "markdown",
   "metadata": {},
   "source": [
    "定数の定義"
   ]
  },
  {
   "cell_type": "code",
   "execution_count": 35,
   "metadata": {},
   "outputs": [
    {
     "data": {
      "text/plain": [
       "({'m1': 35, 'm2': 22, 'm3': 27}, {'p1': 3, 'p2': 4, 'p3': 4, 'p4': 5})"
      ]
     },
     "execution_count": 35,
     "metadata": {},
     "output_type": "execute_result"
    }
   ],
   "source": [
    "stock = stocks_df.set_index('m').to_dict()['stock']\n",
    "require = {(row.p, row.m): row.require for row in requires_df.itertuples()}\n",
    "gain = {row.p: row.gain for row in gains_df.itertuples()}\n",
    "stock, gain"
   ]
  },
  {
   "cell_type": "code",
   "execution_count": 36,
   "metadata": {},
   "outputs": [
    {
     "data": {
      "text/plain": [
       "{('p1', 'm1'): 2,\n",
       " ('p1', 'm2'): 0,\n",
       " ('p1', 'm3'): 1,\n",
       " ('p2', 'm1'): 3,\n",
       " ('p2', 'm2'): 2,\n",
       " ('p2', 'm3'): 0,\n",
       " ('p3', 'm1'): 0,\n",
       " ('p3', 'm2'): 2,\n",
       " ('p3', 'm3'): 2,\n",
       " ('p4', 'm1'): 2,\n",
       " ('p4', 'm2'): 2,\n",
       " ('p4', 'm3'): 2}"
      ]
     },
     "execution_count": 36,
     "metadata": {},
     "output_type": "execute_result"
    }
   ],
   "source": [
    "require"
   ]
  },
  {
   "cell_type": "markdown",
   "metadata": {},
   "source": [
    "数理モデル、変数の定義(線形計画問題と整数計画問題)"
   ]
  },
  {
   "cell_type": "code",
   "execution_count": 37,
   "metadata": {},
   "outputs": [],
   "source": [
    "# problem = LpProblem('LP2', LpMaximize)\n",
    "# x = LpVariable.dicts('x', products, cat='Continuous')\n",
    "problem = LpProblem('IP', LpMaximize)\n",
    "x = LpVariable.dicts('x', products, cat='Integer')"
   ]
  },
  {
   "cell_type": "markdown",
   "metadata": {},
   "source": [
    "条件式、目的関数の定義"
   ]
  },
  {
   "cell_type": "code",
   "execution_count": 38,
   "metadata": {},
   "outputs": [],
   "source": [
    "# 個別に記述した場合\n",
    "# problem += x['p1'] >= 0\n",
    "# problem += x['p2'] >= 0\n",
    "# problem += x['p3'] >= 0\n",
    "# problem += x['p4'] >= 0\n",
    "\n",
    "for p in products:\n",
    "    problem += x[p] >= 0"
   ]
  },
  {
   "cell_type": "code",
   "execution_count": 39,
   "metadata": {},
   "outputs": [],
   "source": [
    "# 個別に記述\n",
    "# m1_stock = [x['p1'] * require['p1', 'm1'], x['p2'] * require['p2', 'm1'], x['p3'] * require['p3', 'm1'], x['p4'] * require['p4', 'm1']]\n",
    "# problem += lpSum(m1_stock) <= stock['m1']\n",
    "# m2_stock = [x['p1'] * require['p1', 'm2'], x['p2'] * require['p2', 'm2'], x['p3'] * require['p3', 'm2'], x['p4'] * require['p4', 'm2']]\n",
    "# problem += lpSum(m2_stock) <= stock['m2']\n",
    "# m3_stock = [x['p1'] * require['p1', 'm3'], x['p2'] * require['p2', 'm3'], x['p3'] * require['p3', 'm3'], x['p4'] * require['p4', 'm3']]\n",
    "# problem += lpSum(m3_stock) <= stock['m3']\n",
    "\n",
    "# 材料ごとに記述\n",
    "# problem += lpSum([require[p, 'm1'] * x[p] for p in products]) <= stock['m1']\n",
    "# problem += lpSum([require[p, 'm2'] * x[p] for p in products]) <= stock['m2']\n",
    "# problem += lpSum([require[p, 'm3'] * x[p] for p in products]) <= stock['m3']\n",
    "\n",
    "for m in materials:\n",
    "    problem += lpSum([require[p, m] * x[p] for p in products]) <= stock[m]\n",
    "\n",
    "problem += lpSum([gain[p] * x[p] for p in products])"
   ]
  },
  {
   "cell_type": "markdown",
   "metadata": {},
   "source": [
    "求解と結果の表示"
   ]
  },
  {
   "cell_type": "code",
   "execution_count": 40,
   "metadata": {},
   "outputs": [
    {
     "name": "stdout",
     "output_type": "stream",
     "text": [
      "Status: Optimal\n",
      "p1 13.0\n",
      "p2 3.0\n",
      "p3 7.0\n",
      "p4 -0.0\n",
      "Obj= 79.0\n"
     ]
    }
   ],
   "source": [
    "status = problem.solve()\n",
    "print('Status:', LpStatus[status])\n",
    "\n",
    "for p in products:\n",
    "    print(p, x[p].value())\n",
    "print('Obj=', problem.objective.value())"
   ]
  }
 ],
 "metadata": {
  "kernelspec": {
   "display_name": "Python 3",
   "language": "python",
   "name": "python3"
  },
  "language_info": {
   "codemirror_mode": {
    "name": "ipython",
    "version": 3
   },
   "file_extension": ".py",
   "mimetype": "text/x-python",
   "name": "python",
   "nbconvert_exporter": "python",
   "pygments_lexer": "ipython3",
   "version": "3.11.9"
  }
 },
 "nbformat": 4,
 "nbformat_minor": 2
}
