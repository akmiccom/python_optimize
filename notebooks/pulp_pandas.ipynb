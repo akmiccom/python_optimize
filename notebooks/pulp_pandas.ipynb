{
 "cells": [
  {
   "cell_type": "code",
   "execution_count": 8,
   "metadata": {},
   "outputs": [
    {
     "name": "stdout",
     "output_type": "stream",
     "text": [
      "Status: Optimal\n"
     ]
    },
    {
     "data": {
      "text/plain": [
       "{(0, 0): 28.0,\n",
       " (0, 1): 7.0,\n",
       " (1, 2): 31.0,\n",
       " (1, 3): 5.0,\n",
       " (2, 1): 22.0,\n",
       " (2, 3): 20.0}"
      ]
     },
     "execution_count": 8,
     "metadata": {},
     "output_type": "execute_result"
    }
   ],
   "source": [
    "import numpy as np, pandas as pd\n",
    "from itertools import product\n",
    "from pulp import *\n",
    "\n",
    "\n",
    "np.random.seed(1)\n",
    "\n",
    "nw, nf = 3, 4\n",
    "pr = list(product(range(nw),range(nf)))\n",
    "供給 = np.random.randint(30, 50, nw)\n",
    "需要 = np.random.randint(20, 40, nf)\n",
    "輸送費 = np.random.randint(10, 20, (nw,nf))\n",
    "\n",
    "m1 = LpProblem('輸送費最適化', sense=LpMinimize)\n",
    "v1 = {(i, j): LpVariable(f'v{i}_{j}', lowBound=0) for i, j in pr}\n",
    "\n",
    "m1 += lpSum(輸送費[i][j] * v1[i, j] for i, j in pr)\n",
    "for i in range(nw):\n",
    "    m1 += lpSum(v1[i, j] for j in range(nf)) <= 供給[i]\n",
    "for j in range(nf):\n",
    "    m1 += lpSum(v1[i, j] for i in range(nw)) >= 需要[j]\n",
    "\n",
    "status = m1.solve()\n",
    "print('Status:', LpStatus[status])\n",
    "{k:value(x) for k,x in v1.items() if value(x) > 0}"
   ]
  },
  {
   "cell_type": "code",
   "execution_count": 11,
   "metadata": {},
   "outputs": [],
   "source": [
    "a = pd.DataFrame([(i,j) for i, j in pr], columns=['倉庫', '工場'])\n",
    "a['輸送費'] = 輸送費.flatten()\n",
    "a[:3]\n",
    "\n",
    "m2 = LpProblem('輸送費最適化pandas', sense=LpMinimize)\n",
    "a['Var'] = [LpVariable(f'v{i}', lowBound=0) for i in a.index]"
   ]
  },
  {
   "cell_type": "code",
   "execution_count": null,
   "metadata": {},
   "outputs": [],
   "source": []
  }
 ],
 "metadata": {
  "kernelspec": {
   "display_name": "Python 3",
   "language": "python",
   "name": "python3"
  },
  "language_info": {
   "codemirror_mode": {
    "name": "ipython",
    "version": 3
   },
   "file_extension": ".py",
   "mimetype": "text/x-python",
   "name": "python",
   "nbconvert_exporter": "python",
   "pygments_lexer": "ipython3",
   "version": "3.11.9"
  }
 },
 "nbformat": 4,
 "nbformat_minor": 2
}
