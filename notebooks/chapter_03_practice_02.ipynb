{
 "cells": [
  {
   "cell_type": "markdown",
   "metadata": {},
   "source": [
    "# Mathematical model\n",
    "### List\n",
    "$$ S = Students, \\ C = Class $$\n",
    "$$ S_{male} = male, \\ S_{female} = female $$\n",
    "$$ S_{leader} = leader, \\ S_{support} = support $$\n",
    "$$ S_{specific} = specific_pair $$\n",
    "### Variable\n",
    "$$ x_{s, c} \\in \\{0, 1\\} \\quad (s \\in S, c \\in C) $$\n",
    "### Constant\n",
    "$$ S_{score} = student\\_score $$\n",
    "$$ score\\_mean = student\\_score\\_mean $$"
   ]
  },
  {
   "cell_type": "markdown",
   "metadata": {},
   "source": [
    "### 制約式\n",
    "- クラスに必ず割り当てる\n",
    "$$ \\sum_{c\\in C} x_{s, c} = 1 \\quad (s\\in S) $$\n",
    "- クラス人数\n",
    "$$ \\sum_{s\\in S} x_{s, c} \\ge 39, \\ \\sum_{s\\in S} x_{s, c} \\le 40 \\quad (c\\in C) $$\n",
    "- 男女人数\n",
    "$$ \\sum_{s\\in S_{male}} x_{s, c} \\le 20, \\ \\sum_{s\\in S_{female}} x_{s, c} \\le 20 \\quad (c\\in C) $$\n",
    "- リーダーとサポート人数\n",
    "$$ \\sum_{s\\in S_{leader}} x_{s, c} \\ge 2, \\ \\sum_{s\\in S_{support}} x_{s, c} \\le 1 \\quad (c\\in C) $$\n",
    "- 全体平均との差異\n",
    "$$ score mean - 10 <= \\frac{\\sum_{s\\in S}x_{s, c} \\times score_s}{\\sum_{s\\in S}x_{s, c}} $$\n",
    "$$ score mean + 10 <= \\frac{\\sum_{s\\in S}x_{s, c} \\times score_s}{\\sum_{s\\in S}x_{s, c}} $$\n",
    "$$  $$\n"
   ]
  },
  {
   "cell_type": "code",
   "execution_count": 1,
   "metadata": {},
   "outputs": [],
   "source": [
    "from pulp import LpProblem, LpVariable, LpMaximize, LpStatus, lpSum\n",
    "import pandas as pd\n",
    "import matplotlib.pyplot as plt\n",
    "from glob import glob\n",
    "import math\n",
    "from itertools import product"
   ]
  },
  {
   "cell_type": "code",
   "execution_count": 2,
   "metadata": {},
   "outputs": [
    {
     "data": {
      "text/html": [
       "<div>\n",
       "<style scoped>\n",
       "    .dataframe tbody tr th:only-of-type {\n",
       "        vertical-align: middle;\n",
       "    }\n",
       "\n",
       "    .dataframe tbody tr th {\n",
       "        vertical-align: top;\n",
       "    }\n",
       "\n",
       "    .dataframe thead th {\n",
       "        text-align: right;\n",
       "    }\n",
       "</style>\n",
       "<table border=\"1\" class=\"dataframe\">\n",
       "  <thead>\n",
       "    <tr style=\"text-align: right;\">\n",
       "      <th></th>\n",
       "      <th>student_id</th>\n",
       "      <th>gender</th>\n",
       "      <th>leader_flag</th>\n",
       "      <th>support_flag</th>\n",
       "      <th>score</th>\n",
       "    </tr>\n",
       "  </thead>\n",
       "  <tbody>\n",
       "    <tr>\n",
       "      <th>0</th>\n",
       "      <td>1</td>\n",
       "      <td>0</td>\n",
       "      <td>0</td>\n",
       "      <td>0</td>\n",
       "      <td>335</td>\n",
       "    </tr>\n",
       "    <tr>\n",
       "      <th>1</th>\n",
       "      <td>2</td>\n",
       "      <td>1</td>\n",
       "      <td>0</td>\n",
       "      <td>0</td>\n",
       "      <td>379</td>\n",
       "    </tr>\n",
       "    <tr>\n",
       "      <th>2</th>\n",
       "      <td>3</td>\n",
       "      <td>0</td>\n",
       "      <td>0</td>\n",
       "      <td>0</td>\n",
       "      <td>350</td>\n",
       "    </tr>\n",
       "  </tbody>\n",
       "</table>\n",
       "</div>"
      ],
      "text/plain": [
       "   student_id  gender  leader_flag  support_flag  score\n",
       "0           1       0            0             0    335\n",
       "1           2       1            0             0    379\n",
       "2           3       0            0             0    350"
      ]
     },
     "metadata": {},
     "output_type": "display_data"
    },
    {
     "data": {
      "text/html": [
       "<div>\n",
       "<style scoped>\n",
       "    .dataframe tbody tr th:only-of-type {\n",
       "        vertical-align: middle;\n",
       "    }\n",
       "\n",
       "    .dataframe tbody tr th {\n",
       "        vertical-align: top;\n",
       "    }\n",
       "\n",
       "    .dataframe thead th {\n",
       "        text-align: right;\n",
       "    }\n",
       "</style>\n",
       "<table border=\"1\" class=\"dataframe\">\n",
       "  <thead>\n",
       "    <tr style=\"text-align: right;\">\n",
       "      <th></th>\n",
       "      <th>student_id1</th>\n",
       "      <th>student_id2</th>\n",
       "    </tr>\n",
       "  </thead>\n",
       "  <tbody>\n",
       "    <tr>\n",
       "      <th>0</th>\n",
       "      <td>118</td>\n",
       "      <td>189</td>\n",
       "    </tr>\n",
       "    <tr>\n",
       "      <th>1</th>\n",
       "      <td>72</td>\n",
       "      <td>50</td>\n",
       "    </tr>\n",
       "    <tr>\n",
       "      <th>2</th>\n",
       "      <td>314</td>\n",
       "      <td>233</td>\n",
       "    </tr>\n",
       "  </tbody>\n",
       "</table>\n",
       "</div>"
      ],
      "text/plain": [
       "   student_id1  student_id2\n",
       "0          118          189\n",
       "1           72           50\n",
       "2          314          233"
      ]
     },
     "execution_count": 2,
     "metadata": {},
     "output_type": "execute_result"
    }
   ],
   "source": [
    "students_df = pd.read_csv(glob('../*/*school/students.csv')[0])\n",
    "student_pairs_df = pd.read_csv(glob('../*/*school/student_pairs.csv')[0])\n",
    "display(students_df.head(3))\n",
    "student_pairs_df.head(3)"
   ]
  },
  {
   "cell_type": "code",
   "execution_count": 3,
   "metadata": {},
   "outputs": [],
   "source": [
    "MAX_STUDENT_NUM = 40\n",
    "S = students_df['student_id'].to_list()\n",
    "S\n",
    "class_num = math.ceil(students_df['student_id'].count() / MAX_STUDENT_NUM)\n",
    "C = [chr(65+i) for i in range(class_num)]\n",
    "C\n",
    "S_male = students_df['student_id'][students_df['gender'] == 1].to_list()\n",
    "S_male\n",
    "S_female = students_df['student_id'][students_df['gender'] == 0].to_list()\n",
    "S_female\n",
    "S_leader = students_df['student_id'][students_df['leader_flag'] == 1].to_list()\n",
    "S_leader\n",
    "S_support = students_df['student_id'][students_df['support_flag'] == 1].to_list()\n",
    "S_support\n",
    "S_specific = [(row.student_id1, row.student_id2) for row in student_pairs_df.itertuples()]\n",
    "S_specific\n",
    "score_mean = students_df['score'].mean()\n",
    "score_mean\n",
    "S_score = {row.student_id: row.score for row in students_df.itertuples()}\n",
    "SC = [(s, c) for s in S for c in C]\n",
    "SC\n",
    "\n",
    "students_df['rank'] = students_df['score'].rank(ascending=False, method='first')\n",
    "class_dict = {i:c for i, c in enumerate(C)}\n",
    "students_df['init_class'] = students_df['rank'].map(lambda x: x % 8).map(class_dict)\n",
    "\n",
    "init_flag = {(s, c): 0 for s in S for c in C}\n",
    "for row in students_df.itertuples():\n",
    "    init_flag[row.student_id, row.init_class] = 1\n",
    "init_flag\n",
    "\n",
    "x = LpVariable.dicts('x', SC, cat='Binary')"
   ]
  },
  {
   "cell_type": "code",
   "execution_count": 4,
   "metadata": {},
   "outputs": [
    {
     "name": "stdout",
     "output_type": "stream",
     "text": [
      "Optimal\n"
     ]
    }
   ],
   "source": [
    "m = LpProblem('class', sense=LpMaximize)\n",
    "\n",
    "m += lpSum([x[s, c] * init_flag[s, c] for s, c in SC])\n",
    "\n",
    "for s in S:\n",
    "    m += lpSum(x[s, c] for c in C) == 1\n",
    "\n",
    "for c in C:\n",
    "    m += lpSum(x[s, c] for s in S) >= 39\n",
    "    m += lpSum(x[s, c] for s in S) <= 40\n",
    "\n",
    "    m += lpSum(x[s, c] for s in S_male) <= 20\n",
    "    m += lpSum(x[s, c] for s in S_female) <= 20\n",
    "\n",
    "    m += lpSum(x[s, c] for s in S_leader) >= 2\n",
    "    m += lpSum(x[s, c] for s in S_support) <= 1\n",
    "\n",
    "    m += (score_mean - 10) * lpSum(x[s, c] for s in S) <= lpSum(x[s, c] * S_score[s] for s in S)\n",
    "    m += (score_mean + 10) * lpSum(x[s, c] for s in S) >= lpSum(x[s, c] * S_score[s] for s in S)\n",
    "\n",
    "for s1, s2 in S_specific:\n",
    "    for c in C:\n",
    "        m += x[s1, c] + x[s2, c] <= 1\n",
    "\n",
    "status = m.solve()\n",
    "print(LpStatus[status])"
   ]
  },
  {
   "cell_type": "code",
   "execution_count": 5,
   "metadata": {},
   "outputs": [
    {
     "name": "stdout",
     "output_type": "stream",
     "text": [
      "A 40 [2, 23, 56, 68, 76, 82, 89, 102, 106, 113, 115, 121, 123, 124, 127, 140, 172, 173, 185, 186, 204, 210, 228, 255, 267, 273, 274, 280, 285, 288, 289, 292, 295, 297, 304, 308, 311, 313, 316, 318]\n",
      "B 39 [11, 14, 17, 30, 32, 35, 41, 49, 64, 66, 79, 83, 86, 88, 97, 114, 119, 122, 132, 134, 141, 149, 151, 165, 175, 178, 190, 198, 200, 209, 213, 216, 226, 237, 272, 296, 303, 306, 307]\n",
      "C 40 [21, 38, 44, 46, 51, 54, 62, 63, 73, 75, 84, 85, 99, 120, 138, 142, 143, 144, 150, 166, 183, 184, 192, 193, 195, 201, 205, 207, 211, 212, 217, 221, 222, 243, 244, 263, 264, 287, 299, 315]\n",
      "D 40 [5, 24, 39, 47, 50, 61, 67, 74, 90, 92, 93, 100, 109, 116, 131, 136, 147, 152, 155, 167, 169, 170, 176, 177, 196, 199, 214, 218, 219, 227, 230, 231, 236, 238, 239, 253, 257, 259, 271, 309]\n",
      "E 39 [4, 8, 12, 13, 19, 22, 33, 43, 48, 55, 57, 59, 98, 112, 125, 130, 133, 137, 139, 153, 160, 189, 203, 234, 235, 240, 241, 249, 251, 254, 256, 261, 266, 268, 276, 283, 291, 294, 302]\n",
      "F 40 [1, 6, 16, 27, 28, 29, 40, 42, 45, 58, 70, 77, 91, 118, 128, 129, 135, 145, 146, 148, 156, 161, 162, 163, 174, 181, 188, 194, 202, 224, 229, 246, 258, 260, 262, 265, 286, 290, 300, 310]\n",
      "G 40 [7, 9, 10, 15, 18, 26, 31, 36, 37, 52, 71, 78, 80, 94, 96, 101, 104, 110, 126, 157, 159, 179, 180, 182, 191, 197, 215, 242, 245, 247, 248, 252, 275, 277, 282, 293, 298, 305, 312, 314]\n",
      "H 40 [3, 20, 25, 34, 53, 60, 65, 69, 72, 81, 87, 95, 103, 105, 107, 108, 111, 117, 154, 158, 164, 168, 171, 187, 206, 208, 220, 223, 225, 232, 233, 250, 269, 270, 278, 279, 281, 284, 301, 317]\n"
     ]
    }
   ],
   "source": [
    "class_organization = {}\n",
    "for c in C:\n",
    "    student_id_list = [s for s in S if x[s, c].value() == 1]\n",
    "    class_organization[c] = student_id_list\n",
    "    print(c, len(student_id_list), student_id_list)"
   ]
  },
  {
   "cell_type": "code",
   "execution_count": 6,
   "metadata": {},
   "outputs": [
    {
     "data": {
      "text/html": [
       "<div>\n",
       "<style scoped>\n",
       "    .dataframe tbody tr th:only-of-type {\n",
       "        vertical-align: middle;\n",
       "    }\n",
       "\n",
       "    .dataframe tbody tr th {\n",
       "        vertical-align: top;\n",
       "    }\n",
       "\n",
       "    .dataframe thead th {\n",
       "        text-align: right;\n",
       "    }\n",
       "</style>\n",
       "<table border=\"1\" class=\"dataframe\">\n",
       "  <thead>\n",
       "    <tr style=\"text-align: right;\">\n",
       "      <th></th>\n",
       "      <th>student_id</th>\n",
       "      <th>gender</th>\n",
       "      <th>leader_flag</th>\n",
       "      <th>support_flag</th>\n",
       "      <th>score</th>\n",
       "      <th>rank</th>\n",
       "      <th>init_class</th>\n",
       "      <th>class</th>\n",
       "    </tr>\n",
       "  </thead>\n",
       "  <tbody>\n",
       "    <tr>\n",
       "      <th>0</th>\n",
       "      <td>1</td>\n",
       "      <td>0</td>\n",
       "      <td>0</td>\n",
       "      <td>0</td>\n",
       "      <td>335</td>\n",
       "      <td>109.0</td>\n",
       "      <td>F</td>\n",
       "      <td>F</td>\n",
       "    </tr>\n",
       "    <tr>\n",
       "      <th>1</th>\n",
       "      <td>2</td>\n",
       "      <td>1</td>\n",
       "      <td>0</td>\n",
       "      <td>0</td>\n",
       "      <td>379</td>\n",
       "      <td>38.0</td>\n",
       "      <td>G</td>\n",
       "      <td>A</td>\n",
       "    </tr>\n",
       "    <tr>\n",
       "      <th>2</th>\n",
       "      <td>3</td>\n",
       "      <td>0</td>\n",
       "      <td>0</td>\n",
       "      <td>0</td>\n",
       "      <td>350</td>\n",
       "      <td>79.0</td>\n",
       "      <td>H</td>\n",
       "      <td>H</td>\n",
       "    </tr>\n",
       "  </tbody>\n",
       "</table>\n",
       "</div>"
      ],
      "text/plain": [
       "   student_id  gender  leader_flag  support_flag  score   rank init_class  \\\n",
       "0           1       0            0             0    335  109.0          F   \n",
       "1           2       1            0             0    379   38.0          G   \n",
       "2           3       0            0             0    350   79.0          H   \n",
       "\n",
       "  class  \n",
       "0     F  \n",
       "1     A  \n",
       "2     H  "
      ]
     },
     "execution_count": 6,
     "metadata": {},
     "output_type": "execute_result"
    }
   ],
   "source": [
    "result_df = students_df.copy()\n",
    "S2C = {s: c for s in S for c in C if x[s, c].value() == 1}\n",
    "result_df['class'] = result_df['student_id'].map(S2C)\n",
    "result_df.head(3)"
   ]
  },
  {
   "cell_type": "code",
   "execution_count": 7,
   "metadata": {},
   "outputs": [
    {
     "name": "stdout",
     "output_type": "stream",
     "text": [
      "False:  id 118 class F and id 189 class E\n",
      "False:  id 072 class H and id 050 class D\n",
      "False:  id 314 class G and id 233 class H\n"
     ]
    }
   ],
   "source": [
    "result_df.groupby('class').count()\n",
    "result_df.groupby(['class', 'gender']).count()\n",
    "result_df.groupby(['class', 'leader_flag']).count()\n",
    "result_df.groupby(['class', 'support_flag']).count()\n",
    "result_df.groupby(['class']).mean(numeric_only=True) - score_mean\n",
    "for s1, s2 in S_specific:\n",
    "    print(f'{S2C[s1]==S2C[s2]}: ', f'id {s1:03} class {S2C[s1]} and id {s2:03} class {S2C[s2]}')"
   ]
  },
  {
   "cell_type": "code",
   "execution_count": 8,
   "metadata": {},
   "outputs": [
    {
     "data": {
      "image/png": "[encoded data removed]",
      "text/plain": [
       "<Figure size 1400x600 with 8 Axes>"
      ]
     },
     "metadata": {},
     "output_type": "display_data"
    },
    {
     "data": {
      "image/png": "[encoded data removed]",
      "text/plain": [
       "<Figure size 1400x600 with 8 Axes>"
      ]
     },
     "metadata": {},
     "output_type": "display_data"
    }
   ],
   "source": [
    "nrows, ncols = 2, 4\n",
    "\n",
    "fig, axs1 = plt.subplots(nrows=nrows, ncols=ncols, figsize=(14, 6))\n",
    "for i in range(nrows):\n",
    "    for j in range(ncols):\n",
    "        class_ = chr(65+i+j)\n",
    "        class_score = students_df['score'][students_df['init_class'] == class_]\n",
    "        axs1[i][j].hist(class_score, bins=range(0, 500, 40))\n",
    "        axs1[i][j].set_ylim(0, 20)\n",
    "        axs1[i][j].set_xlabel('Score')\n",
    "        axs1[i][j].set_ylabel('Num')\n",
    "        axs1[i][j].set_title(f'Class {class_}')\n",
    "plt.tight_layout()\n",
    "plt.show()\n",
    "\n",
    "fig, axs2 = plt.subplots(nrows=nrows, ncols=ncols, figsize=(14, 6))\n",
    "for i in range(nrows):\n",
    "    for j in range(ncols):\n",
    "        class_ = chr(65+i+j)\n",
    "        class_score = result_df['score'][result_df['class'] == class_]\n",
    "        axs2[i][j].hist(class_score, bins=range(0, 500, 40), color='k')\n",
    "        axs2[i][j].set_ylim(0, 20)\n",
    "        axs2[i][j].set_xlabel('Score')\n",
    "        axs2[i][j].set_ylabel('Num')\n",
    "        axs2[i][j].set_title(f'Class {class_}')\n",
    "plt.tight_layout()\n",
    "plt.show()"
   ]
  },
  {
   "cell_type": "code",
   "execution_count": 9,
   "metadata": {},
   "outputs": [
    {
     "name": "stdout",
     "output_type": "stream",
     "text": [
      "A 40 [2, 23, 56, 68, 76, 82, 89, 102, 106, 113, 115, 121, 123, 124, 127, 140, 172, 173, 185, 186, 204, 210, 228, 255, 267, 273, 274, 280, 285, 288, 289, 292, 295, 297, 304, 308, 311, 313, 316, 318]\n",
      "B 39 [11, 14, 17, 30, 32, 35, 41, 49, 64, 66, 79, 83, 86, 88, 97, 114, 119, 122, 132, 134, 141, 149, 151, 165, 175, 178, 190, 198, 200, 209, 213, 216, 226, 237, 272, 296, 303, 306, 307]\n",
      "C 40 [21, 38, 44, 46, 51, 54, 62, 63, 73, 75, 84, 85, 99, 120, 138, 142, 143, 144, 150, 166, 183, 184, 192, 193, 195, 201, 205, 207, 211, 212, 217, 221, 222, 243, 244, 263, 264, 287, 299, 315]\n",
      "D 40 [5, 24, 39, 47, 50, 61, 67, 74, 90, 92, 93, 100, 109, 116, 131, 136, 147, 152, 155, 167, 169, 170, 176, 177, 196, 199, 214, 218, 219, 227, 230, 231, 236, 238, 239, 253, 257, 259, 271, 309]\n",
      "E 39 [4, 8, 12, 13, 19, 22, 33, 43, 48, 55, 57, 59, 98, 112, 125, 130, 133, 137, 139, 153, 160, 189, 203, 234, 235, 240, 241, 249, 251, 254, 256, 261, 266, 268, 276, 283, 291, 294, 302]\n",
      "F 40 [1, 6, 16, 27, 28, 29, 40, 42, 45, 58, 70, 77, 91, 118, 128, 129, 135, 145, 146, 148, 156, 161, 162, 163, 174, 181, 188, 194, 202, 224, 229, 246, 258, 260, 262, 265, 286, 290, 300, 310]\n",
      "G 40 [7, 9, 10, 15, 18, 26, 31, 36, 37, 52, 71, 78, 80, 94, 96, 101, 104, 110, 126, 157, 159, 179, 180, 182, 191, 197, 215, 242, 245, 247, 248, 252, 275, 277, 282, 293, 298, 305, 312, 314]\n",
      "H 40 [3, 20, 25, 34, 53, 60, 65, 69, 72, 81, 87, 95, 103, 105, 107, 108, 111, 117, 154, 158, 164, 168, 171, 187, 206, 208, 220, 223, 225, 232, 233, 250, 269, 270, 278, 279, 281, 284, 301, 317]\n"
     ]
    }
   ],
   "source": [
    "class_organization = {}\n",
    "for c in C:\n",
    "    student_id_list = [s for s in S if x[s, c].value() == 1]\n",
    "    class_organization[c] = student_id_list\n",
    "    print(c, len(student_id_list), student_id_list)"
   ]
  }
 ],
 "metadata": {
  "kernelspec": {
   "display_name": "Python 3",
   "language": "python",
   "name": "python3"
  },
  "language_info": {
   "codemirror_mode": {
    "name": "ipython",
    "version": 3
   },
   "file_extension": ".py",
   "mimetype": "text/x-python",
   "name": "python",
   "nbconvert_exporter": "python",
   "pygments_lexer": "ipython3",
   "version": "3.11.9"
  }
 },
 "nbformat": 4,
 "nbformat_minor": 2
}
