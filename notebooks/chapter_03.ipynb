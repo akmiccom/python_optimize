{
 "cells": [
  {
   "cell_type": "markdown",
   "metadata": {},
   "source": [
    "#### クラス編成\n",
    "- 課題整理(条件)\n",
    "  - 全生徒を1つのクラスに割り当てる\n",
    "  - クラス人数は39人以上40人以下\n",
    "  - 男子生徒、女子生徒は20人以下\n",
    "  - 学力試験のクラス平均点は学年平均の±10点\n",
    "  - リーダ気質の生徒を2人以上\n",
    "  - 特別支援生徒は1人以下\n",
    "  - 特定ペアの生徒は別クラスとする"
   ]
  },
  {
   "cell_type": "markdown",
   "metadata": {},
   "source": [
    "- List\n",
    "  - $S$ : Students list\n",
    "  - $C$ : Class list\n",
    "  - $S_{male}$ : Men list\n",
    "  - $S_{female}$ : Women list\n",
    "  - $S_{leader}$ : leaders list\n",
    "  - $S_{support}$ : supports list\n",
    "  - $S_{specific}$ : Specific Pairs list\n",
    "- Variable\n",
    "  - $x_{s,c} \\in \\{0, 1\\} (s\\in S, c\\in C)$\n",
    "- Constant\n",
    "  - $score_s$ : Score of students\n",
    "  - $score_{mean}$ : Score of mean\n",
    "- Constraints\n",
    "  1. $\\sum_{c\\in C} x_{s,c} = 1 \\quad (s \\in S)$\n",
    "  2. $\\sum_{s\\in S} x_{s,c} \\ge 39 \\quad (c \\in C), \\quad \\sum_{s\\in S} x_{s,c} \\le 40 \\quad (c \\in C)$\n",
    "  3. $\\sum_{s\\in S_{male}} x_{s,c} \\le 20 \\quad (c \\in C), \\quad \\sum_{s\\in S_{female}} x_{s,c} \\le 20 \\quad (c \\in C)$\n",
    "  4. $\\sum_{S_{leader}}x_{s,c} \\le 2$\n",
    "  5. $\\sum_{S_{support}}x_{s,c} \\le 1$\n",
    "  6. $(score_{mean}-10) \\cdot \\sum_{s\\in S} x_{s,c} \\ge \\sum_{s\\in S} score_s \\cdot x_{s,c}, \\quad \\sum_{s\\in S} score_s \\cdot x_{s,c} \\le (score_{mean}+10) \\cdot \\sum_{s\\in S} x_{s,c}$\n",
    "  7. $x_{s1,c} + x_{s2,c} \\le 1$\n",
    "- Objective\n",
    "  - None(Maximize)"
   ]
  },
  {
   "cell_type": "code",
   "execution_count": 1,
   "metadata": {},
   "outputs": [],
   "source": [
    "from pulp import LpProblem, LpVariable, LpMaximize, LpStatus, lpSum\n",
    "import pandas as pd\n",
    "import matplotlib.pyplot as plt\n",
    "from glob import glob\n",
    "import math"
   ]
  },
  {
   "cell_type": "code",
   "execution_count": 2,
   "metadata": {},
   "outputs": [
    {
     "data": {
      "text/plain": [
       "['..\\\\PyOptBook-main\\\\3.school\\\\students.csv',\n",
       " '..\\\\PyOptBook-main\\\\3.school\\\\student_pairs.csv']"
      ]
     },
     "execution_count": 2,
     "metadata": {},
     "output_type": "execute_result"
    }
   ],
   "source": [
    "glob('../*/*school/*.csv')"
   ]
  },
  {
   "cell_type": "code",
   "execution_count": 3,
   "metadata": {},
   "outputs": [],
   "source": [
    "students_df = pd.read_csv(glob('../*/*school/students.csv')[0])\n",
    "student_pairs_df = pd.read_csv(glob('../*/*school/student_pairs.csv')[0])"
   ]
  },
  {
   "cell_type": "code",
   "execution_count": 4,
   "metadata": {},
   "outputs": [
    {
     "data": {
      "text/html": [
       "<div>\n",
       "<style scoped>\n",
       "    .dataframe tbody tr th:only-of-type {\n",
       "        vertical-align: middle;\n",
       "    }\n",
       "\n",
       "    .dataframe tbody tr th {\n",
       "        vertical-align: top;\n",
       "    }\n",
       "\n",
       "    .dataframe thead th {\n",
       "        text-align: right;\n",
       "    }\n",
       "</style>\n",
       "<table border=\"1\" class=\"dataframe\">\n",
       "  <thead>\n",
       "    <tr style=\"text-align: right;\">\n",
       "      <th></th>\n",
       "      <th>student_id</th>\n",
       "      <th>gender</th>\n",
       "      <th>leader_flag</th>\n",
       "      <th>support_flag</th>\n",
       "      <th>score</th>\n",
       "    </tr>\n",
       "  </thead>\n",
       "  <tbody>\n",
       "    <tr>\n",
       "      <th>0</th>\n",
       "      <td>1</td>\n",
       "      <td>0</td>\n",
       "      <td>0</td>\n",
       "      <td>0</td>\n",
       "      <td>335</td>\n",
       "    </tr>\n",
       "    <tr>\n",
       "      <th>1</th>\n",
       "      <td>2</td>\n",
       "      <td>1</td>\n",
       "      <td>0</td>\n",
       "      <td>0</td>\n",
       "      <td>379</td>\n",
       "    </tr>\n",
       "    <tr>\n",
       "      <th>2</th>\n",
       "      <td>3</td>\n",
       "      <td>0</td>\n",
       "      <td>0</td>\n",
       "      <td>0</td>\n",
       "      <td>350</td>\n",
       "    </tr>\n",
       "  </tbody>\n",
       "</table>\n",
       "</div>"
      ],
      "text/plain": [
       "   student_id  gender  leader_flag  support_flag  score\n",
       "0           1       0            0             0    335\n",
       "1           2       1            0             0    379\n",
       "2           3       0            0             0    350"
      ]
     },
     "execution_count": 4,
     "metadata": {},
     "output_type": "execute_result"
    }
   ],
   "source": [
    "students_df.head(3)"
   ]
  },
  {
   "cell_type": "code",
   "execution_count": 5,
   "metadata": {},
   "outputs": [
    {
     "data": {
      "text/plain": [
       "318"
      ]
     },
     "execution_count": 5,
     "metadata": {},
     "output_type": "execute_result"
    }
   ],
   "source": [
    "students_df['student_id'].nunique()"
   ]
  },
  {
   "cell_type": "code",
   "execution_count": 6,
   "metadata": {},
   "outputs": [
    {
     "data": {
      "text/plain": [
       "gender\n",
       "0    160\n",
       "1    158\n",
       "Name: count, dtype: int64"
      ]
     },
     "execution_count": 6,
     "metadata": {},
     "output_type": "execute_result"
    }
   ],
   "source": [
    "students_df['gender'].value_counts()"
   ]
  },
  {
   "cell_type": "code",
   "execution_count": 7,
   "metadata": {},
   "outputs": [
    {
     "data": {
      "text/plain": [
       "leader_flag\n",
       "0    301\n",
       "1     17\n",
       "Name: count, dtype: int64"
      ]
     },
     "execution_count": 7,
     "metadata": {},
     "output_type": "execute_result"
    }
   ],
   "source": [
    "students_df['leader_flag'].value_counts()"
   ]
  },
  {
   "cell_type": "code",
   "execution_count": 8,
   "metadata": {},
   "outputs": [
    {
     "data": {
      "text/plain": [
       "support_flag\n",
       "0    314\n",
       "1      4\n",
       "Name: count, dtype: int64"
      ]
     },
     "execution_count": 8,
     "metadata": {},
     "output_type": "execute_result"
    }
   ],
   "source": [
    "students_df['support_flag'].value_counts()"
   ]
  },
  {
   "cell_type": "code",
   "execution_count": 9,
   "metadata": {},
   "outputs": [
    {
     "data": {
      "text/plain": [
       "count    318.000000\n",
       "mean     303.644654\n",
       "std       65.179995\n",
       "min       88.000000\n",
       "25%      261.000000\n",
       "50%      310.000000\n",
       "75%      350.000000\n",
       "max      485.000000\n",
       "Name: score, dtype: float64"
      ]
     },
     "execution_count": 9,
     "metadata": {},
     "output_type": "execute_result"
    }
   ],
   "source": [
    "students_df['score'].describe()"
   ]
  },
  {
   "cell_type": "code",
   "execution_count": 10,
   "metadata": {},
   "outputs": [
    {
     "data": {
      "text/plain": [
       "<Axes: >"
      ]
     },
     "execution_count": 10,
     "metadata": {},
     "output_type": "execute_result"
    },
    {
     "data": {
      "image/png": "[encoded data removed]",
      "text/plain": [
       "<Figure size 640x480 with 1 Axes>"
      ]
     },
     "metadata": {},
     "output_type": "display_data"
    }
   ],
   "source": [
    "students_df['score'].hist()"
   ]
  },
  {
   "cell_type": "code",
   "execution_count": 11,
   "metadata": {},
   "outputs": [
    {
     "data": {
      "text/html": [
       "<div>\n",
       "<style scoped>\n",
       "    .dataframe tbody tr th:only-of-type {\n",
       "        vertical-align: middle;\n",
       "    }\n",
       "\n",
       "    .dataframe tbody tr th {\n",
       "        vertical-align: top;\n",
       "    }\n",
       "\n",
       "    .dataframe thead th {\n",
       "        text-align: right;\n",
       "    }\n",
       "</style>\n",
       "<table border=\"1\" class=\"dataframe\">\n",
       "  <thead>\n",
       "    <tr style=\"text-align: right;\">\n",
       "      <th></th>\n",
       "      <th>student_id1</th>\n",
       "      <th>student_id2</th>\n",
       "    </tr>\n",
       "  </thead>\n",
       "  <tbody>\n",
       "    <tr>\n",
       "      <th>0</th>\n",
       "      <td>118</td>\n",
       "      <td>189</td>\n",
       "    </tr>\n",
       "    <tr>\n",
       "      <th>1</th>\n",
       "      <td>72</td>\n",
       "      <td>50</td>\n",
       "    </tr>\n",
       "    <tr>\n",
       "      <th>2</th>\n",
       "      <td>314</td>\n",
       "      <td>233</td>\n",
       "    </tr>\n",
       "  </tbody>\n",
       "</table>\n",
       "</div>"
      ],
      "text/plain": [
       "   student_id1  student_id2\n",
       "0          118          189\n",
       "1           72           50\n",
       "2          314          233"
      ]
     },
     "execution_count": 11,
     "metadata": {},
     "output_type": "execute_result"
    }
   ],
   "source": [
    "student_pairs_df.head()"
   ]
  },
  {
   "cell_type": "markdown",
   "metadata": {},
   "source": [
    "数理モデル定義"
   ]
  },
  {
   "cell_type": "code",
   "execution_count": 12,
   "metadata": {},
   "outputs": [],
   "source": [
    "prob = LpProblem('ClassAssignmentProblem', LpMaximize)"
   ]
  },
  {
   "cell_type": "markdown",
   "metadata": {},
   "source": [
    "変数定義"
   ]
  },
  {
   "cell_type": "code",
   "execution_count": 13,
   "metadata": {},
   "outputs": [],
   "source": [
    "S = students_df['student_id'].to_list()\n",
    "class_num = math.ceil(students_df['student_id'].count()/40)\n",
    "C = [chr(i+65) for i in range(class_num)]\n",
    "SC = [(s, c) for s in S for c in C]\n",
    "\n",
    "x = LpVariable.dicts('x', SC, cat='Binary')"
   ]
  },
  {
   "cell_type": "markdown",
   "metadata": {},
   "source": [
    "条件定義"
   ]
  },
  {
   "cell_type": "code",
   "execution_count": 14,
   "metadata": {},
   "outputs": [],
   "source": [
    "# 生徒の振り分け式 x1a + x1b + … + x1h == 1\n",
    "for s in S:\n",
    "    prob += lpSum([x[s, c] for c in C]) == 1"
   ]
  },
  {
   "cell_type": "code",
   "execution_count": 15,
   "metadata": {},
   "outputs": [],
   "source": [
    "# クラス人数\n",
    "for c in C:\n",
    "    prob += lpSum([x[s, c] for s in S]) >= 39\n",
    "    prob += lpSum([x[s, c] for s in S]) <= 40"
   ]
  },
  {
   "cell_type": "code",
   "execution_count": 16,
   "metadata": {},
   "outputs": [],
   "source": [
    "# クラス男女人数\n",
    "S_male = students_df['student_id'][students_df['gender'] == 1].to_list()\n",
    "S_female = students_df['student_id'][students_df['gender'] == 0].to_list()\n",
    "for c in C:\n",
    "    prob += lpSum([x[s, c] for s in S_male]) <= 20\n",
    "    prob += lpSum([x[s, c] for s in S_female]) <= 20"
   ]
  },
  {
   "cell_type": "code",
   "execution_count": 17,
   "metadata": {},
   "outputs": [],
   "source": [
    "# 平均点差 ±10点\n",
    "score_mean = students_df['score'].mean()\n",
    "score = students_df.set_index('student_id').to_dict()['score']\n",
    "\n",
    "for c in C:\n",
    "    prob += (score_mean - 10) * lpSum([x[s, c] for s in S]) <= lpSum([x[s, c]*score[s] for s in S])\n",
    "    prob += lpSum([x[s, c]*score[s] for s in S]) <= (score_mean + 10) * lpSum([x[s, c] for s in S]) "
   ]
  },
  {
   "cell_type": "code",
   "execution_count": 18,
   "metadata": {},
   "outputs": [],
   "source": [
    "# リーダー\n",
    "S_leader = students_df['student_id'][students_df['leader_flag'] == 1].to_list()\n",
    "\n",
    "for c in C:\n",
    "    prob += lpSum([x[s, c] for s in S_leader]) >= 2"
   ]
  },
  {
   "cell_type": "code",
   "execution_count": 19,
   "metadata": {},
   "outputs": [],
   "source": [
    "# サポート\n",
    "S_support = students_df['student_id'][students_df['support_flag'] == 1].to_list()\n",
    "\n",
    "for c in C:\n",
    "    prob += lpSum([x[s, c] for s in S_support]) <= 1"
   ]
  },
  {
   "cell_type": "code",
   "execution_count": 20,
   "metadata": {},
   "outputs": [],
   "source": [
    "# 特定ペアの排除\n",
    "SS = [(row.student_id1, row.student_id2) for row in student_pairs_df.itertuples()]\n",
    "\n",
    "for s1, s2 in SS:\n",
    "    for c in C:\n",
    "        prob += x[s1, c] + x[s2, c] <= 1"
   ]
  },
  {
   "cell_type": "markdown",
   "metadata": {},
   "source": [
    "初期クラス編成を成績順で追加"
   ]
  },
  {
   "cell_type": "code",
   "execution_count": 21,
   "metadata": {},
   "outputs": [],
   "source": [
    "students_df['score_rank'] = students_df['score'].rank(ascending=False, method='first')\n",
    "\n",
    "class_dic = {i:chr(i+65) for i in range(8)}\n",
    "\n",
    "students_df['init_assigned_class'] = students_df['score_rank'].map(lambda x:x % 8).map(class_dic)\n",
    "\n",
    "init_flag = {(s, c): 0 for s in S for c in C}\n",
    "init_flag\n",
    "for row in students_df.itertuples():\n",
    "    init_flag[row.student_id, row.init_assigned_class] == 1\n",
    "\n",
    "# fig, axs = plt.subplots(2, 4, figsize=(14, 6))\n",
    "# for i, c in enumerate(C):\n",
    "#     cls_df = students_df[students_df['init_assigned_class']==c]\n",
    "#     ax = fig.add_subplot(\n",
    "#         2, 4, i+1,\n",
    "#         xlabel = 'Score', ylabel = 'num',\n",
    "#         xlim=(0, 500), ylim=(0, 20),\n",
    "#         title=f'Class : {c}'\n",
    "#         )\n",
    "#     ax.hist(cls_df['score'], bins=range(0, 500, 40))\n",
    "# plt.tight_layout()\n",
    "# plt.show()"
   ]
  },
  {
   "cell_type": "markdown",
   "metadata": {},
   "source": [
    "目的関数の追加"
   ]
  },
  {
   "cell_type": "code",
   "execution_count": 22,
   "metadata": {},
   "outputs": [],
   "source": [
    "# 初期編成とできるだけ一致させる\n",
    "prob += lpSum([x[s, c] * init_flag[s, c] for s, c in SC])"
   ]
  },
  {
   "cell_type": "code",
   "execution_count": 23,
   "metadata": {},
   "outputs": [
    {
     "name": "stdout",
     "output_type": "stream",
     "text": [
      "1\n",
      "Status: Optimal\n"
     ]
    }
   ],
   "source": [
    "status = prob.solve()\n",
    "print(status)\n",
    "print('Status:', LpStatus[status])"
   ]
  },
  {
   "cell_type": "code",
   "execution_count": 24,
   "metadata": {},
   "outputs": [
    {
     "name": "stdout",
     "output_type": "stream",
     "text": [
      "Class: A\n",
      "Num: 40\n",
      "Students: [2, 9, 19, 39, 42, 63, 65, 71, 79, 83, 85, 88, 99, 101, 109, 111, 123, 126, 136, 138, 145, 148, 165, 168, 173, 177, 179, 180, 193, 199, 206, 224, 233, 240, 246, 264, 267, 291, 292, 298]\n",
      "\n",
      "Class: B\n",
      "Num: 39\n",
      "Students: [1, 11, 15, 43, 48, 50, 70, 82, 89, 91, 102, 104, 113, 114, 120, 121, 124, 127, 134, 149, 159, 167, 170, 176, 190, 203, 213, 220, 222, 231, 238, 245, 270, 275, 276, 283, 287, 290, 317]\n",
      "\n",
      "Class: C\n",
      "Num: 40\n",
      "Students: [3, 14, 23, 25, 27, 31, 33, 41, 49, 53, 54, 58, 73, 93, 97, 98, 107, 122, 152, 156, 160, 171, 187, 210, 211, 217, 219, 227, 236, 242, 254, 258, 260, 268, 273, 274, 277, 278, 301, 318]\n",
      "\n",
      "Class: D\n",
      "Num: 40\n",
      "Students: [10, 13, 16, 20, 36, 37, 51, 56, 59, 61, 67, 68, 75, 84, 92, 108, 128, 139, 140, 142, 146, 158, 161, 175, 183, 192, 198, 200, 221, 225, 235, 241, 252, 255, 256, 257, 266, 284, 293, 316]\n",
      "\n",
      "Class: E\n",
      "Num: 40\n",
      "Students: [4, 5, 21, 22, 24, 38, 69, 72, 78, 87, 96, 105, 106, 115, 129, 132, 141, 143, 150, 154, 164, 166, 184, 189, 195, 196, 197, 243, 244, 247, 249, 250, 269, 271, 288, 300, 305, 309, 310, 315]\n",
      "\n",
      "Class: F\n",
      "Num: 40\n",
      "Students: [12, 17, 40, 45, 46, 74, 76, 80, 95, 100, 103, 110, 112, 116, 119, 125, 130, 135, 144, 151, 153, 169, 178, 182, 185, 188, 202, 205, 209, 230, 232, 237, 239, 272, 281, 282, 289, 303, 304, 306]\n",
      "\n",
      "Class: G\n",
      "Num: 40\n",
      "Students: [7, 18, 28, 32, 35, 44, 52, 55, 57, 60, 64, 66, 81, 117, 118, 131, 147, 155, 172, 181, 186, 194, 204, 207, 208, 214, 215, 216, 223, 226, 228, 229, 262, 265, 279, 280, 296, 299, 308, 313]\n",
      "\n",
      "Class: H\n",
      "Num: 39\n",
      "Students: [6, 8, 26, 29, 30, 34, 47, 62, 77, 86, 90, 94, 133, 137, 157, 162, 163, 174, 191, 201, 212, 218, 234, 248, 251, 253, 259, 261, 263, 285, 286, 294, 295, 297, 302, 307, 311, 312, 314]\n",
      "\n"
     ]
    }
   ],
   "source": [
    "# 結果表示\n",
    "C2Ss = {}\n",
    "for c in C:\n",
    "    C2Ss[c] = [s for s in S if x[s, c].value() == 1]\n",
    "\n",
    "for c, Ss in C2Ss.items():\n",
    "    print(f'Class: {c}')\n",
    "    print(f'Num: {len(Ss)}')\n",
    "    print(f'Students: {Ss}')\n",
    "    print()"
   ]
  },
  {
   "cell_type": "markdown",
   "metadata": {},
   "source": [
    "確認"
   ]
  },
  {
   "cell_type": "code",
   "execution_count": 25,
   "metadata": {},
   "outputs": [],
   "source": [
    "# 全生徒が割り当てられている\n",
    "for s in S:\n",
    "    assigned_class = [c for c in C if x[s, c].value() == 1]\n",
    "    if len(assigned_class) != 1:\n",
    "        print('error:', s, assigned_class)"
   ]
  },
  {
   "cell_type": "code",
   "execution_count": 26,
   "metadata": {},
   "outputs": [
    {
     "data": {
      "text/html": [
       "<div>\n",
       "<style scoped>\n",
       "    .dataframe tbody tr th:only-of-type {\n",
       "        vertical-align: middle;\n",
       "    }\n",
       "\n",
       "    .dataframe tbody tr th {\n",
       "        vertical-align: top;\n",
       "    }\n",
       "\n",
       "    .dataframe thead th {\n",
       "        text-align: right;\n",
       "    }\n",
       "</style>\n",
       "<table border=\"1\" class=\"dataframe\">\n",
       "  <thead>\n",
       "    <tr style=\"text-align: right;\">\n",
       "      <th></th>\n",
       "      <th>student_id</th>\n",
       "      <th>gender</th>\n",
       "      <th>leader_flag</th>\n",
       "      <th>support_flag</th>\n",
       "      <th>score</th>\n",
       "      <th>score_rank</th>\n",
       "      <th>init_assigned_class</th>\n",
       "      <th>assigned_class</th>\n",
       "    </tr>\n",
       "  </thead>\n",
       "  <tbody>\n",
       "    <tr>\n",
       "      <th>0</th>\n",
       "      <td>1</td>\n",
       "      <td>0</td>\n",
       "      <td>0</td>\n",
       "      <td>0</td>\n",
       "      <td>335</td>\n",
       "      <td>109.0</td>\n",
       "      <td>F</td>\n",
       "      <td>B</td>\n",
       "    </tr>\n",
       "    <tr>\n",
       "      <th>1</th>\n",
       "      <td>2</td>\n",
       "      <td>1</td>\n",
       "      <td>0</td>\n",
       "      <td>0</td>\n",
       "      <td>379</td>\n",
       "      <td>38.0</td>\n",
       "      <td>G</td>\n",
       "      <td>A</td>\n",
       "    </tr>\n",
       "    <tr>\n",
       "      <th>2</th>\n",
       "      <td>3</td>\n",
       "      <td>0</td>\n",
       "      <td>0</td>\n",
       "      <td>0</td>\n",
       "      <td>350</td>\n",
       "      <td>79.0</td>\n",
       "      <td>H</td>\n",
       "      <td>C</td>\n",
       "    </tr>\n",
       "    <tr>\n",
       "      <th>3</th>\n",
       "      <td>4</td>\n",
       "      <td>0</td>\n",
       "      <td>0</td>\n",
       "      <td>0</td>\n",
       "      <td>301</td>\n",
       "      <td>172.0</td>\n",
       "      <td>E</td>\n",
       "      <td>E</td>\n",
       "    </tr>\n",
       "    <tr>\n",
       "      <th>4</th>\n",
       "      <td>5</td>\n",
       "      <td>1</td>\n",
       "      <td>0</td>\n",
       "      <td>0</td>\n",
       "      <td>317</td>\n",
       "      <td>147.0</td>\n",
       "      <td>D</td>\n",
       "      <td>E</td>\n",
       "    </tr>\n",
       "  </tbody>\n",
       "</table>\n",
       "</div>"
      ],
      "text/plain": [
       "   student_id  gender  leader_flag  support_flag  score  score_rank  \\\n",
       "0           1       0            0             0    335       109.0   \n",
       "1           2       1            0             0    379        38.0   \n",
       "2           3       0            0             0    350        79.0   \n",
       "3           4       0            0             0    301       172.0   \n",
       "4           5       1            0             0    317       147.0   \n",
       "\n",
       "  init_assigned_class assigned_class  \n",
       "0                   F              B  \n",
       "1                   G              A  \n",
       "2                   H              C  \n",
       "3                   E              E  \n",
       "4                   D              E  "
      ]
     },
     "execution_count": 26,
     "metadata": {},
     "output_type": "execute_result"
    }
   ],
   "source": [
    "result_dt = students_df.copy()\n",
    "# クラス割り当て追加\n",
    "S2C = {s:c for s in S for c in C if x[s, c].value()==1}\n",
    "result_dt['assigned_class'] = result_dt['student_id'].map(S2C)\n",
    "result_dt.head()"
   ]
  },
  {
   "cell_type": "code",
   "execution_count": 27,
   "metadata": {},
   "outputs": [
    {
     "data": {
      "text/plain": [
       "assigned_class\n",
       "A    40\n",
       "B    39\n",
       "C    40\n",
       "D    40\n",
       "E    40\n",
       "F    40\n",
       "G    40\n",
       "H    39\n",
       "Name: student_id, dtype: int64"
      ]
     },
     "execution_count": 27,
     "metadata": {},
     "output_type": "execute_result"
    }
   ],
   "source": [
    "# 各クラスの人数\n",
    "result_dt.groupby('assigned_class')['student_id'].count()"
   ]
  },
  {
   "cell_type": "code",
   "execution_count": 28,
   "metadata": {},
   "outputs": [
    {
     "data": {
      "text/plain": [
       "assigned_class  gender\n",
       "A               0         20\n",
       "                1         20\n",
       "B               0         20\n",
       "                1         19\n",
       "C               0         20\n",
       "                1         20\n",
       "D               0         20\n",
       "                1         20\n",
       "E               0         20\n",
       "                1         20\n",
       "F               0         20\n",
       "                1         20\n",
       "G               0         20\n",
       "                1         20\n",
       "H               0         20\n",
       "                1         19\n",
       "Name: student_id, dtype: int64"
      ]
     },
     "execution_count": 28,
     "metadata": {},
     "output_type": "execute_result"
    }
   ],
   "source": [
    "# 男女の人数\n",
    "result_dt.groupby(['assigned_class', 'gender'])['student_id'].count()"
   ]
  },
  {
   "cell_type": "code",
   "execution_count": 29,
   "metadata": {},
   "outputs": [
    {
     "data": {
      "text/plain": [
       "assigned_class\n",
       "A   -3.230346\n",
       "B    9.926705\n",
       "C   -8.480346\n",
       "D   -6.205346\n",
       "E    9.094654\n",
       "F    4.119654\n",
       "G   -9.555346\n",
       "H    4.695936\n",
       "Name: score, dtype: float64"
      ]
     },
     "execution_count": 29,
     "metadata": {},
     "output_type": "execute_result"
    }
   ],
   "source": [
    "# 平均点\n",
    "result_dt.groupby(['assigned_class'])['score'].mean() - score_mean\n",
    "score_mean - result_dt.groupby(['assigned_class'])['score'].mean()"
   ]
  },
  {
   "cell_type": "code",
   "execution_count": 30,
   "metadata": {},
   "outputs": [
    {
     "data": {
      "text/plain": [
       "assigned_class\n",
       "A    3\n",
       "B    2\n",
       "C    2\n",
       "D    2\n",
       "E    2\n",
       "F    2\n",
       "G    2\n",
       "H    2\n",
       "Name: leader_flag, dtype: int64"
      ]
     },
     "execution_count": 30,
     "metadata": {},
     "output_type": "execute_result"
    }
   ],
   "source": [
    "# リーダー\n",
    "result_dt.groupby(['assigned_class'])['leader_flag'].sum()"
   ]
  },
  {
   "cell_type": "code",
   "execution_count": 31,
   "metadata": {},
   "outputs": [
    {
     "data": {
      "text/plain": [
       "assigned_class\n",
       "A    0\n",
       "B    0\n",
       "C    1\n",
       "D    0\n",
       "E    1\n",
       "F    0\n",
       "G    1\n",
       "H    1\n",
       "Name: support_flag, dtype: int64"
      ]
     },
     "execution_count": 31,
     "metadata": {},
     "output_type": "execute_result"
    }
   ],
   "source": [
    "# サポート\n",
    "result_dt.groupby(['assigned_class'])['support_flag'].sum()"
   ]
  },
  {
   "cell_type": "code",
   "execution_count": 32,
   "metadata": {},
   "outputs": [
    {
     "name": "stdout",
     "output_type": "stream",
     "text": [
      "case: 1, s1 :118-G, s2 :189-E, \n",
      "case: 2, s1 :72-E, s2 :50-B, \n",
      "case: 3, s1 :314-H, s2 :233-A, \n"
     ]
    }
   ],
   "source": [
    "# 特定ペア\n",
    "for i, (s1, s2) in enumerate(SS):\n",
    "    print('case:', i+1, end=', ')\n",
    "    c1 = S2C[s1]\n",
    "    c2 = S2C[s2]\n",
    "    print(f's1 :{s1}-{c1}', end=', ')\n",
    "    print(f's2 :{s2}-{c2}', end=', ')\n",
    "    print()"
   ]
  },
  {
   "cell_type": "code",
   "execution_count": 33,
   "metadata": {},
   "outputs": [
    {
     "data": {
      "image/png": "[encoded data removed]",
      "text/plain": [
       "<Figure size 1600x600 with 16 Axes>"
      ]
     },
     "metadata": {},
     "output_type": "display_data"
    }
   ],
   "source": [
    "fig, axs = plt.subplots(2, 4, figsize=(16, 6))\n",
    "for i, c in enumerate(C):\n",
    "    cls_df = result_dt[result_dt['assigned_class']==c]\n",
    "    ax = fig.add_subplot(\n",
    "        2, 4, i+1,\n",
    "        xlabel = 'Score', ylabel = 'num',\n",
    "        xlim=(0, 500), ylim=(0, 20),\n",
    "        title=f'Class : {c}'\n",
    "        )\n",
    "    ax.hist(cls_df['score'], bins=range(0, 500, 40))\n",
    "plt.tight_layout()"
   ]
  }
 ],
 "metadata": {
  "kernelspec": {
   "display_name": "Python 3",
   "language": "python",
   "name": "python3"
  },
  "language_info": {
   "codemirror_mode": {
    "name": "ipython",
    "version": 3
   },
   "file_extension": ".py",
   "mimetype": "text/x-python",
   "name": "python",
   "nbconvert_exporter": "python",
   "pygments_lexer": "ipython3",
   "version": "3.11.9"
  }
 },
 "nbformat": 4,
 "nbformat_minor": 2
}
