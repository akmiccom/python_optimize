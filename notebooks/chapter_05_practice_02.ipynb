{
 "cells": [
  {
   "cell_type": "code",
   "execution_count": 2,
   "metadata": {},
   "outputs": [],
   "source": [
    "from pulp import LpProblem, LpVariable, LpMaximize, LpMinimize, LpStatus, lpSum, value, LpConstraint\n",
    "from pulp import PULP_CBC_CMD\n",
    "import pandas as pd\n",
    "import matplotlib.pyplot as plt\n",
    "from glob import glob\n",
    "import seaborn as sns\n",
    "from  itertools import product\n",
    "import math\n",
    "import time\n",
    "import os"
   ]
  },
  {
   "cell_type": "code",
   "execution_count": 3,
   "metadata": {},
   "outputs": [
    {
     "name": "stdout",
     "output_type": "stream",
     "text": [
      "['distances', 'locations', 'orders', 'small_distances', 'small_locations', 'small_orders']\n"
     ]
    }
   ],
   "source": [
    "# Read files\n",
    "files = glob('../*/*routing_ver2/*.csv')\n",
    "# print(files)\n",
    "dfs, name_df = [], []\n",
    "for i, file in enumerate(files):\n",
    "    df_name = os.path.splitext(os.path.basename(files[i]))[0]\n",
    "    name_df.append(df_name)\n",
    "    df = pd.read_csv(files[i])\n",
    "    dfs.append(df)\n",
    "print(name_df)"
   ]
  },
  {
   "cell_type": "code",
   "execution_count": 4,
   "metadata": {},
   "outputs": [
    {
     "name": "stdout",
     "output_type": "stream",
     "text": [
      "(25, 3)\n"
     ]
    },
    {
     "data": {
      "text/html": [
       "<div>\n",
       "<style scoped>\n",
       "    .dataframe tbody tr th:only-of-type {\n",
       "        vertical-align: middle;\n",
       "    }\n",
       "\n",
       "    .dataframe tbody tr th {\n",
       "        vertical-align: top;\n",
       "    }\n",
       "\n",
       "    .dataframe thead th {\n",
       "        text-align: right;\n",
       "    }\n",
       "</style>\n",
       "<table border=\"1\" class=\"dataframe\">\n",
       "  <thead>\n",
       "    <tr style=\"text-align: right;\">\n",
       "      <th></th>\n",
       "      <th>k1</th>\n",
       "      <th>k2</th>\n",
       "      <th>t</th>\n",
       "    </tr>\n",
       "  </thead>\n",
       "  <tbody>\n",
       "    <tr>\n",
       "      <th>0</th>\n",
       "      <td>p</td>\n",
       "      <td>p</td>\n",
       "      <td>0.000000</td>\n",
       "    </tr>\n",
       "    <tr>\n",
       "      <th>1</th>\n",
       "      <td>p</td>\n",
       "      <td>s1</td>\n",
       "      <td>2.000000</td>\n",
       "    </tr>\n",
       "    <tr>\n",
       "      <th>2</th>\n",
       "      <td>p</td>\n",
       "      <td>s2</td>\n",
       "      <td>2.828427</td>\n",
       "    </tr>\n",
       "  </tbody>\n",
       "</table>\n",
       "</div>"
      ],
      "text/plain": [
       "  k1  k2         t\n",
       "0  p   p  0.000000\n",
       "1  p  s1  2.000000\n",
       "2  p  s2  2.828427"
      ]
     },
     "metadata": {},
     "output_type": "display_data"
    },
    {
     "name": "stdout",
     "output_type": "stream",
     "text": [
      "(5, 4)\n"
     ]
    },
    {
     "data": {
      "text/html": [
       "<div>\n",
       "<style scoped>\n",
       "    .dataframe tbody tr th:only-of-type {\n",
       "        vertical-align: middle;\n",
       "    }\n",
       "\n",
       "    .dataframe tbody tr th {\n",
       "        vertical-align: top;\n",
       "    }\n",
       "\n",
       "    .dataframe thead th {\n",
       "        text-align: right;\n",
       "    }\n",
       "</style>\n",
       "<table border=\"1\" class=\"dataframe\">\n",
       "  <thead>\n",
       "    <tr style=\"text-align: right;\">\n",
       "      <th></th>\n",
       "      <th>k</th>\n",
       "      <th>x</th>\n",
       "      <th>y</th>\n",
       "      <th>depo_flag</th>\n",
       "    </tr>\n",
       "  </thead>\n",
       "  <tbody>\n",
       "    <tr>\n",
       "      <th>0</th>\n",
       "      <td>p</td>\n",
       "      <td>0</td>\n",
       "      <td>0</td>\n",
       "      <td>1</td>\n",
       "    </tr>\n",
       "    <tr>\n",
       "      <th>1</th>\n",
       "      <td>s1</td>\n",
       "      <td>-2</td>\n",
       "      <td>0</td>\n",
       "      <td>0</td>\n",
       "    </tr>\n",
       "    <tr>\n",
       "      <th>2</th>\n",
       "      <td>s2</td>\n",
       "      <td>-2</td>\n",
       "      <td>-2</td>\n",
       "      <td>0</td>\n",
       "    </tr>\n",
       "  </tbody>\n",
       "</table>\n",
       "</div>"
      ],
      "text/plain": [
       "    k  x  y  depo_flag\n",
       "0   p  0  0          1\n",
       "1  s1 -2  0          0\n",
       "2  s2 -2 -2          0"
      ]
     },
     "metadata": {},
     "output_type": "display_data"
    },
    {
     "name": "stdout",
     "output_type": "stream",
     "text": [
      "(8, 5)\n"
     ]
    },
    {
     "data": {
      "text/html": [
       "<div>\n",
       "<style scoped>\n",
       "    .dataframe tbody tr th:only-of-type {\n",
       "        vertical-align: middle;\n",
       "    }\n",
       "\n",
       "    .dataframe tbody tr th {\n",
       "        vertical-align: top;\n",
       "    }\n",
       "\n",
       "    .dataframe thead th {\n",
       "        text-align: right;\n",
       "    }\n",
       "</style>\n",
       "<table border=\"1\" class=\"dataframe\">\n",
       "  <thead>\n",
       "    <tr style=\"text-align: right;\">\n",
       "      <th></th>\n",
       "      <th>r</th>\n",
       "      <th>s</th>\n",
       "      <th>w</th>\n",
       "      <th>b</th>\n",
       "      <th>e</th>\n",
       "    </tr>\n",
       "  </thead>\n",
       "  <tbody>\n",
       "    <tr>\n",
       "      <th>0</th>\n",
       "      <td>r1</td>\n",
       "      <td>s1</td>\n",
       "      <td>1000</td>\n",
       "      <td>1</td>\n",
       "      <td>1</td>\n",
       "    </tr>\n",
       "    <tr>\n",
       "      <th>1</th>\n",
       "      <td>r2</td>\n",
       "      <td>s2</td>\n",
       "      <td>1000</td>\n",
       "      <td>1</td>\n",
       "      <td>2</td>\n",
       "    </tr>\n",
       "    <tr>\n",
       "      <th>2</th>\n",
       "      <td>r3</td>\n",
       "      <td>s3</td>\n",
       "      <td>1000</td>\n",
       "      <td>2</td>\n",
       "      <td>2</td>\n",
       "    </tr>\n",
       "  </tbody>\n",
       "</table>\n",
       "</div>"
      ],
      "text/plain": [
       "    r   s     w  b  e\n",
       "0  r1  s1  1000  1  1\n",
       "1  r2  s2  1000  1  2\n",
       "2  r3  s3  1000  2  2"
      ]
     },
     "metadata": {},
     "output_type": "display_data"
    }
   ],
   "source": [
    "for df in dfs[3:]:\n",
    "    print(df.shape)\n",
    "    display(df.head(3))"
   ]
  },
  {
   "cell_type": "code",
   "execution_count": 6,
   "metadata": {},
   "outputs": [],
   "source": [
    "kk_df = dfs[3].copy()\n",
    "k_df = dfs[4].copy()\n",
    "r_df = dfs[5].copy()"
   ]
  },
  {
   "cell_type": "code",
   "execution_count": 25,
   "metadata": {},
   "outputs": [],
   "source": [
    "# 日付\n",
    "D = list(range(r_df['b'].min(), r_df['e'].max()+1))\n",
    "D\n",
    "# ベース拠点\n",
    "P = k_df['k'][k_df['depo_flag'] == 1]\n",
    "# お店\n",
    "S = k_df['k'][k_df['depo_flag'] == 0]\n",
    "P, S\n",
    "# すべての拠点\n",
    "K = k_df['k']\n",
    "# 荷物\n",
    "R = r_df['r']\n",
    "K, R\n",
    "\n",
    "# 日付・拠点1・拠点2\n",
    "DKK = [(d, k1, k2) for d in D for k1 in K for k2 in K]\n",
    "# 日付・拠点\n",
    "DK = [(d, k) for d in D for k in K]\n",
    "# 日付・荷物\n",
    "DR = [(d, r) for d in D for r in R]\n",
    "# 荷物・お店\n",
    "R2S = {r.r: r.s for r in r_df.itertuples()}\n",
    "# 荷物・重量\n",
    "R2W = {r.r: r.w for r in r_df.itertuples()}\n",
    "# 荷物・配送日1\n",
    "R2B = {r.r: r.b for r in r_df.itertuples()}\n",
    "# 荷物・配送日2\n",
    "R2E = {r.r: r.e for r in r_df.itertuples()}\n",
    "# 拠点1・拠点2・時間\n",
    "KK2T = {(r.k1, r.k2): r.t for r in kk_df.itertuples()}"
   ]
  },
  {
   "cell_type": "code",
   "execution_count": 31,
   "metadata": {},
   "outputs": [],
   "source": [
    "x = LpVariable.dicts('x', DKK, cat='Binary')\n",
    "u = LpVariable.dicts('u', DK)\n",
    "y = LpVariable.dicts('y', DR, cat='Binary')\n",
    "h = LpVariable.dicts('h', D, cat='Continuous', lowBound=0)"
   ]
  },
  {
   "cell_type": "code",
   "execution_count": 35,
   "metadata": {},
   "outputs": [
    {
     "data": {
      "text/plain": [
       "vrp_small:\n",
       "MINIMIZE\n",
       "3000*h_1 + 3000*h_2 + 3000*h_3 + 3000*h_4 + -46000*y_(1,_'r1') + -46000*y_(1,_'r2') + -46000*y_(1,_'r3') + -69000*y_(1,_'r4') + -69000*y_(1,_'r5') + -69000*y_(1,_'r6') + -69000*y_(1,_'r7') + -138000*y_(1,_'r8') + -46000*y_(2,_'r1') + -46000*y_(2,_'r2') + -46000*y_(2,_'r3') + -69000*y_(2,_'r4') + -69000*y_(2,_'r5') + -69000*y_(2,_'r6') + -69000*y_(2,_'r7') + -138000*y_(2,_'r8') + -46000*y_(3,_'r1') + -46000*y_(3,_'r2') + -46000*y_(3,_'r3') + -69000*y_(3,_'r4') + -69000*y_(3,_'r5') + -69000*y_(3,_'r6') + -69000*y_(3,_'r7') + -138000*y_(3,_'r8') + -46000*y_(4,_'r1') + -46000*y_(4,_'r2') + -46000*y_(4,_'r3') + -69000*y_(4,_'r4') + -69000*y_(4,_'r5') + -69000*y_(4,_'r6') + -69000*y_(4,_'r7') + -138000*y_(4,_'r8') + 552000\n",
       "VARIABLES\n",
       "h_1 Continuous\n",
       "h_2 Continuous\n",
       "h_3 Continuous\n",
       "h_4 Continuous\n",
       "0 <= y_(1,_'r1') <= 1 Integer\n",
       "0 <= y_(1,_'r2') <= 1 Integer\n",
       "0 <= y_(1,_'r3') <= 1 Integer\n",
       "0 <= y_(1,_'r4') <= 1 Integer\n",
       "0 <= y_(1,_'r5') <= 1 Integer\n",
       "0 <= y_(1,_'r6') <= 1 Integer\n",
       "0 <= y_(1,_'r7') <= 1 Integer\n",
       "0 <= y_(1,_'r8') <= 1 Integer\n",
       "0 <= y_(2,_'r1') <= 1 Integer\n",
       "0 <= y_(2,_'r2') <= 1 Integer\n",
       "0 <= y_(2,_'r3') <= 1 Integer\n",
       "0 <= y_(2,_'r4') <= 1 Integer\n",
       "0 <= y_(2,_'r5') <= 1 Integer\n",
       "0 <= y_(2,_'r6') <= 1 Integer\n",
       "0 <= y_(2,_'r7') <= 1 Integer\n",
       "0 <= y_(2,_'r8') <= 1 Integer\n",
       "0 <= y_(3,_'r1') <= 1 Integer\n",
       "0 <= y_(3,_'r2') <= 1 Integer\n",
       "0 <= y_(3,_'r3') <= 1 Integer\n",
       "0 <= y_(3,_'r4') <= 1 Integer\n",
       "0 <= y_(3,_'r5') <= 1 Integer\n",
       "0 <= y_(3,_'r6') <= 1 Integer\n",
       "0 <= y_(3,_'r7') <= 1 Integer\n",
       "0 <= y_(3,_'r8') <= 1 Integer\n",
       "0 <= y_(4,_'r1') <= 1 Integer\n",
       "0 <= y_(4,_'r2') <= 1 Integer\n",
       "0 <= y_(4,_'r3') <= 1 Integer\n",
       "0 <= y_(4,_'r4') <= 1 Integer\n",
       "0 <= y_(4,_'r5') <= 1 Integer\n",
       "0 <= y_(4,_'r6') <= 1 Integer\n",
       "0 <= y_(4,_'r7') <= 1 Integer\n",
       "0 <= y_(4,_'r8') <= 1 Integer"
      ]
     },
     "execution_count": 35,
     "metadata": {},
     "output_type": "execute_result"
    }
   ],
   "source": [
    "m = LpProblem('vrp_small', sense=LpMinimize)\n",
    "\n",
    "OVERWORK_HOURLY_RATE = 3000\n",
    "WEIGHT_UNIT_PRICE = 46\n",
    "overwork_cost = lpSum([OVERWORK_HOURLY_RATE * h[d] for d in D])\n",
    "outsource_cost = lpSum(WEIGHT_UNIT_PRICE * R2W[r] * (1-lpSum([y[d, r] for d in D])) for r in R)\n",
    "m += overwork_cost + outsource_cost\n",
    "\n",
    "\n",
    "\n",
    "m"
   ]
  }
 ],
 "metadata": {
  "kernelspec": {
   "display_name": "Python 3",
   "language": "python",
   "name": "python3"
  },
  "language_info": {
   "codemirror_mode": {
    "name": "ipython",
    "version": 3
   },
   "file_extension": ".py",
   "mimetype": "text/x-python",
   "name": "python",
   "nbconvert_exporter": "python",
   "pygments_lexer": "ipython3",
   "version": "3.11.9"
  }
 },
 "nbformat": 4,
 "nbformat_minor": 2
}
