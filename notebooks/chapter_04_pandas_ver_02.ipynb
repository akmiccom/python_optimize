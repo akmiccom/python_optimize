{
 "cells": [
  {
   "cell_type": "markdown",
   "metadata": {},
   "source": [
    "セグメントから最適化"
   ]
  },
  {
   "cell_type": "code",
   "execution_count": 95,
   "metadata": {},
   "outputs": [],
   "source": [
    "from pulp import LpProblem, LpVariable, LpMaximize, LpStatus, lpSum, value\n",
    "import pandas as pd\n",
    "import matplotlib.pyplot as plt\n",
    "from glob import glob\n",
    "import math\n",
    "import seaborn as sns\n",
    "import time"
   ]
  },
  {
   "cell_type": "code",
   "execution_count": 96,
   "metadata": {},
   "outputs": [
    {
     "data": {
      "text/html": [
       "<div>\n",
       "<style scoped>\n",
       "    .dataframe tbody tr th:only-of-type {\n",
       "        vertical-align: middle;\n",
       "    }\n",
       "\n",
       "    .dataframe tbody tr th {\n",
       "        vertical-align: top;\n",
       "    }\n",
       "\n",
       "    .dataframe thead th {\n",
       "        text-align: right;\n",
       "    }\n",
       "</style>\n",
       "<table border=\"1\" class=\"dataframe\">\n",
       "  <thead>\n",
       "    <tr style=\"text-align: right;\">\n",
       "      <th></th>\n",
       "      <th>customer_id</th>\n",
       "      <th>age_cat</th>\n",
       "      <th>freq_cat</th>\n",
       "    </tr>\n",
       "  </thead>\n",
       "  <tbody>\n",
       "    <tr>\n",
       "      <th>0</th>\n",
       "      <td>1</td>\n",
       "      <td>age20~34</td>\n",
       "      <td>freq2</td>\n",
       "    </tr>\n",
       "    <tr>\n",
       "      <th>1</th>\n",
       "      <td>2</td>\n",
       "      <td>age35~49</td>\n",
       "      <td>freq0</td>\n",
       "    </tr>\n",
       "    <tr>\n",
       "      <th>2</th>\n",
       "      <td>3</td>\n",
       "      <td>age35~49</td>\n",
       "      <td>freq0</td>\n",
       "    </tr>\n",
       "  </tbody>\n",
       "</table>\n",
       "</div>"
      ],
      "text/plain": [
       "   customer_id   age_cat freq_cat\n",
       "0            1  age20~34    freq2\n",
       "1            2  age35~49    freq0\n",
       "2            3  age35~49    freq0"
      ]
     },
     "metadata": {},
     "output_type": "display_data"
    },
    {
     "data": {
      "text/html": [
       "<div>\n",
       "<style scoped>\n",
       "    .dataframe tbody tr th:only-of-type {\n",
       "        vertical-align: middle;\n",
       "    }\n",
       "\n",
       "    .dataframe tbody tr th {\n",
       "        vertical-align: top;\n",
       "    }\n",
       "\n",
       "    .dataframe thead th {\n",
       "        text-align: right;\n",
       "    }\n",
       "</style>\n",
       "<table border=\"1\" class=\"dataframe\">\n",
       "  <thead>\n",
       "    <tr style=\"text-align: right;\">\n",
       "      <th></th>\n",
       "      <th>age_cat</th>\n",
       "      <th>freq_cat</th>\n",
       "      <th>segment_id</th>\n",
       "      <th>prob_dm1</th>\n",
       "      <th>prob_dm2</th>\n",
       "      <th>prob_dm3</th>\n",
       "    </tr>\n",
       "  </thead>\n",
       "  <tbody>\n",
       "    <tr>\n",
       "      <th>0</th>\n",
       "      <td>age~19</td>\n",
       "      <td>freq0</td>\n",
       "      <td>1</td>\n",
       "      <td>0.07</td>\n",
       "      <td>0.12</td>\n",
       "      <td>0.29</td>\n",
       "    </tr>\n",
       "    <tr>\n",
       "      <th>1</th>\n",
       "      <td>age~19</td>\n",
       "      <td>freq1</td>\n",
       "      <td>2</td>\n",
       "      <td>0.21</td>\n",
       "      <td>0.30</td>\n",
       "      <td>0.58</td>\n",
       "    </tr>\n",
       "    <tr>\n",
       "      <th>2</th>\n",
       "      <td>age~19</td>\n",
       "      <td>freq2</td>\n",
       "      <td>3</td>\n",
       "      <td>0.28</td>\n",
       "      <td>0.39</td>\n",
       "      <td>0.74</td>\n",
       "    </tr>\n",
       "  </tbody>\n",
       "</table>\n",
       "</div>"
      ],
      "text/plain": [
       "  age_cat freq_cat  segment_id  prob_dm1  prob_dm2  prob_dm3\n",
       "0  age~19    freq0           1      0.07      0.12      0.29\n",
       "1  age~19    freq1           2      0.21      0.30      0.58\n",
       "2  age~19    freq2           3      0.28      0.39      0.74"
      ]
     },
     "metadata": {},
     "output_type": "display_data"
    }
   ],
   "source": [
    "# Read files\n",
    "files = glob('../*/*coupon/*.csv')\n",
    "cust_df = pd.read_csv(files[0])\n",
    "prob_df = pd.read_csv(files[1])\n",
    "# print(files)\n",
    "# print(cust_df.shape)\n",
    "# print(prob_df.shape)\n",
    "display(cust_df.head(3))\n",
    "display(prob_df.head(3))"
   ]
  },
  {
   "cell_type": "code",
   "execution_count": 99,
   "metadata": {},
   "outputs": [],
   "source": [
    "# クーポン付与による来客率の増加分を作成\n",
    "copy_df = prob_df.copy()\n",
    "copy_df.columns = ['age', 'freq', 'seg_id', 'prob_1', 'prob_2', 'prob_3']\n",
    "for i in range(3):\n",
    "    copy_df[f'prob_({i+1}-1)'] = copy_df[f'prob_{i+1}'] - copy_df['prob_1']\n",
    "# copy_df['prob_(2-1)'] = copy_df['prob_2'] - copy_df['prob_1']\n",
    "# copy_df['prob_(3-1)'] = copy_df['prob_3'] - copy_df['prob_1']\n",
    "# print(copy_df.shape)\n",
    "# display(copy_df.head(3))"
   ]
  },
  {
   "cell_type": "code",
   "execution_count": 100,
   "metadata": {},
   "outputs": [],
   "source": [
    "# ダイレクトメールの種類と人数を追加し結合\n",
    "p_df = pd.DataFrame()\n",
    "for i, (prob, diff) in enumerate(zip(['prob_1', 'prob_2', 'prob_3'], ['prob_(1-1)', 'prob_(2-1)', 'prob_(3-1)'])):\n",
    "    tmp_df = copy_df[['age', 'freq', 'seg_id', prob, diff]].copy()\n",
    "    tmp_df['dm'] = i+1\n",
    "    tmp_df['members'] = cust_df.merge(prob_df, on=['age_cat', 'freq_cat']).groupby('segment_id').count()['customer_id'].to_list()\n",
    "    tmp_df.columns = ['age', 'freq', 'seg_id', 'prob', 'prob_diff', 'dm', 'members']\n",
    "    p_df = pd.concat([p_df, tmp_df], axis=0)\n",
    "# display(p_df.head(3))"
   ]
  },
  {
   "cell_type": "code",
   "execution_count": 103,
   "metadata": {},
   "outputs": [],
   "source": [
    "# コスト列作成\n",
    "def cost_calculation(x):\n",
    "    costs = {1: 0, 2: 1000, 3: 2000}\n",
    "    return costs[x]\n",
    "p_df['cost'] = p_df['dm'].apply(cost_calculation)\n",
    "\n",
    "# 変数列作成\n",
    "p_df['variable'] = [\n",
    "    LpVariable(f'x_s{s:02}m{m}', cat='Continuous', lowBound=0, upBound=1) for s, m in zip(p_df['seg_id'], p_df['dm'])\n",
    "    ]\n",
    "\n",
    "# print(p_df.shape)\n",
    "# display(p_df[p_df['dm'] == 3].head(3))"
   ]
  },
  {
   "cell_type": "code",
   "execution_count": 104,
   "metadata": {},
   "outputs": [],
   "source": [
    "# Maxmize\n",
    "problem = LpProblem(name='DiscountCouponProblem02', sense=LpMaximize)\n",
    "\n",
    "# 最大化する値\n",
    "problem += lpSum(p_df['variable'] * p_df['prob_diff'] * p_df['members'])\n",
    "\n",
    "# 制約条件\n",
    "for k, v in p_df.groupby('seg_id'):\n",
    "    problem += lpSum(v['variable'].sum()) == 1\n",
    "\n",
    "# 制約条件\n",
    "problem += lpSum(p_df['variable'] * p_df['prob'] * p_df['cost'] * p_df['members']) <= 1000000\n",
    "\n",
    "# 制約条件\n",
    "for v in p_df['variable']:\n",
    "    problem += v >= 0.1\n",
    "\n",
    "# print(problem)"
   ]
  },
  {
   "cell_type": "code",
   "execution_count": 108,
   "metadata": {},
   "outputs": [
    {
     "name": "stdout",
     "output_type": "stream",
     "text": [
      "Status : Optimal\n",
      "Result : 326.1\n",
      "Time : 0.109 (sec)\n"
     ]
    }
   ],
   "source": [
    "time_start = time.time()\n",
    "status = problem.solve()\n",
    "time_stop = time.time()\n",
    "p_df['result'] = p_df['variable'].apply(value)\n",
    "\n",
    "print(f'Status : {LpStatus[status]}')\n",
    "print(f'Result : {value(problem.objective):.04}')\n",
    "print(f'Time : {time_stop - time_start:.03} (sec)')"
   ]
  },
  {
   "cell_type": "code",
   "execution_count": 109,
   "metadata": {},
   "outputs": [
    {
     "name": "stdout",
     "output_type": "stream",
     "text": [
      "1.0, 1.0, 1.0, 1.0, 1.0, 1.0, 1.0, 1.0, 1.0, 1.0, 1.0, 1.0, 1.0, 1.0, 1.0, 1.0, "
     ]
    }
   ],
   "source": [
    "# すべてのセグメントにおいて合計 1\n",
    "for k, v in p_df.groupby('seg_id'):\n",
    "    print(v['result'].sum(), end=', ')"
   ]
  },
  {
   "cell_type": "code",
   "execution_count": 110,
   "metadata": {},
   "outputs": [
    {
     "data": {
      "text/plain": [
       "999999.99968"
      ]
     },
     "execution_count": 110,
     "metadata": {},
     "output_type": "execute_result"
    }
   ],
   "source": [
    "# 予算 1,000,000 以下\n",
    "(p_df['result'] * p_df['prob'] * p_df['cost'] * p_df['members']).sum()"
   ]
  },
  {
   "cell_type": "code",
   "execution_count": 111,
   "metadata": {},
   "outputs": [
    {
     "name": "stdout",
     "output_type": "stream",
     "text": [
      "0.100, 0.800, 0.800, 0.800, 0.800, 0.800, 0.800, 0.800, 0.100, 0.800, \n",
      "0.800, 0.800, 0.100, 0.800, 0.800, 0.800, 0.800, 0.100, 0.100, 0.100, \n",
      "0.100, 0.100, 0.100, 0.100, 0.800, 0.100, 0.100, 0.100, 0.278, 0.100, \n",
      "0.100, 0.100, 0.100, 0.100, 0.100, 0.100, 0.100, 0.100, 0.100, 0.100, \n",
      "0.100, 0.100, 0.100, 0.100, 0.622, 0.100, 0.100, 0.100, "
     ]
    }
   ],
   "source": [
    "# セグメント別の dm10% 以上\n",
    "for i, v in enumerate(p_df['result']):\n",
    "    print(f'{v:.03f}', end=', ')\n",
    "    if i % 10 == 9:\n",
    "        print()"
   ]
  },
  {
   "cell_type": "code",
   "execution_count": 113,
   "metadata": {},
   "outputs": [
    {
     "data": {
      "text/html": [
       "<div>\n",
       "<style scoped>\n",
       "    .dataframe tbody tr th:only-of-type {\n",
       "        vertical-align: middle;\n",
       "    }\n",
       "\n",
       "    .dataframe tbody tr th {\n",
       "        vertical-align: top;\n",
       "    }\n",
       "\n",
       "    .dataframe thead th {\n",
       "        text-align: right;\n",
       "    }\n",
       "</style>\n",
       "<table border=\"1\" class=\"dataframe\">\n",
       "  <thead>\n",
       "    <tr style=\"text-align: right;\">\n",
       "      <th></th>\n",
       "      <th>send_dm1</th>\n",
       "      <th>send_dm2</th>\n",
       "      <th>send_dm3</th>\n",
       "    </tr>\n",
       "    <tr>\n",
       "      <th>seg_id</th>\n",
       "      <th></th>\n",
       "      <th></th>\n",
       "      <th></th>\n",
       "    </tr>\n",
       "  </thead>\n",
       "  <tbody>\n",
       "    <tr>\n",
       "      <th>1</th>\n",
       "      <td>0.1</td>\n",
       "      <td>0.800000</td>\n",
       "      <td>0.100000</td>\n",
       "    </tr>\n",
       "    <tr>\n",
       "      <th>2</th>\n",
       "      <td>0.8</td>\n",
       "      <td>0.100000</td>\n",
       "      <td>0.100000</td>\n",
       "    </tr>\n",
       "    <tr>\n",
       "      <th>3</th>\n",
       "      <td>0.8</td>\n",
       "      <td>0.100000</td>\n",
       "      <td>0.100000</td>\n",
       "    </tr>\n",
       "    <tr>\n",
       "      <th>4</th>\n",
       "      <td>0.8</td>\n",
       "      <td>0.100000</td>\n",
       "      <td>0.100000</td>\n",
       "    </tr>\n",
       "    <tr>\n",
       "      <th>5</th>\n",
       "      <td>0.8</td>\n",
       "      <td>0.100000</td>\n",
       "      <td>0.100000</td>\n",
       "    </tr>\n",
       "    <tr>\n",
       "      <th>6</th>\n",
       "      <td>0.8</td>\n",
       "      <td>0.100000</td>\n",
       "      <td>0.100000</td>\n",
       "    </tr>\n",
       "    <tr>\n",
       "      <th>7</th>\n",
       "      <td>0.8</td>\n",
       "      <td>0.100000</td>\n",
       "      <td>0.100000</td>\n",
       "    </tr>\n",
       "    <tr>\n",
       "      <th>8</th>\n",
       "      <td>0.8</td>\n",
       "      <td>0.100000</td>\n",
       "      <td>0.100000</td>\n",
       "    </tr>\n",
       "    <tr>\n",
       "      <th>9</th>\n",
       "      <td>0.1</td>\n",
       "      <td>0.800000</td>\n",
       "      <td>0.100000</td>\n",
       "    </tr>\n",
       "    <tr>\n",
       "      <th>10</th>\n",
       "      <td>0.8</td>\n",
       "      <td>0.100000</td>\n",
       "      <td>0.100000</td>\n",
       "    </tr>\n",
       "    <tr>\n",
       "      <th>11</th>\n",
       "      <td>0.8</td>\n",
       "      <td>0.100000</td>\n",
       "      <td>0.100000</td>\n",
       "    </tr>\n",
       "    <tr>\n",
       "      <th>12</th>\n",
       "      <td>0.8</td>\n",
       "      <td>0.100000</td>\n",
       "      <td>0.100000</td>\n",
       "    </tr>\n",
       "    <tr>\n",
       "      <th>13</th>\n",
       "      <td>0.1</td>\n",
       "      <td>0.277696</td>\n",
       "      <td>0.622304</td>\n",
       "    </tr>\n",
       "    <tr>\n",
       "      <th>14</th>\n",
       "      <td>0.8</td>\n",
       "      <td>0.100000</td>\n",
       "      <td>0.100000</td>\n",
       "    </tr>\n",
       "    <tr>\n",
       "      <th>15</th>\n",
       "      <td>0.8</td>\n",
       "      <td>0.100000</td>\n",
       "      <td>0.100000</td>\n",
       "    </tr>\n",
       "    <tr>\n",
       "      <th>16</th>\n",
       "      <td>0.8</td>\n",
       "      <td>0.100000</td>\n",
       "      <td>0.100000</td>\n",
       "    </tr>\n",
       "  </tbody>\n",
       "</table>\n",
       "</div>"
      ],
      "text/plain": [
       "        send_dm1  send_dm2  send_dm3\n",
       "seg_id                              \n",
       "1            0.1  0.800000  0.100000\n",
       "2            0.8  0.100000  0.100000\n",
       "3            0.8  0.100000  0.100000\n",
       "4            0.8  0.100000  0.100000\n",
       "5            0.8  0.100000  0.100000\n",
       "6            0.8  0.100000  0.100000\n",
       "7            0.8  0.100000  0.100000\n",
       "8            0.8  0.100000  0.100000\n",
       "9            0.1  0.800000  0.100000\n",
       "10           0.8  0.100000  0.100000\n",
       "11           0.8  0.100000  0.100000\n",
       "12           0.8  0.100000  0.100000\n",
       "13           0.1  0.277696  0.622304\n",
       "14           0.8  0.100000  0.100000\n",
       "15           0.8  0.100000  0.100000\n",
       "16           0.8  0.100000  0.100000"
      ]
     },
     "execution_count": 113,
     "metadata": {},
     "output_type": "execute_result"
    }
   ],
   "source": [
    "# 結果\n",
    "result_df = p_df.pivot_table(index='seg_id', columns='dm', values='result')\n",
    "result_df.columns = ['send_dm1', 'send_dm2', 'send_dm3']\n",
    "result_df"
   ]
  }
 ],
 "metadata": {
  "kernelspec": {
   "display_name": "Python 3",
   "language": "python",
   "name": "python3"
  },
  "language_info": {
   "codemirror_mode": {
    "name": "ipython",
    "version": 3
   },
   "file_extension": ".py",
   "mimetype": "text/x-python",
   "name": "python",
   "nbconvert_exporter": "python",
   "pygments_lexer": "ipython3",
   "version": "3.11.9"
  }
 },
 "nbformat": 4,
 "nbformat_minor": 2
}
