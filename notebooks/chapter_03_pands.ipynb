{
 "cells": [
  {
   "cell_type": "markdown",
   "metadata": {},
   "source": [
    "#### クラス編成\n",
    "- 課題整理(条件)\n",
    "  - 全生徒を1つのクラスに割り当てる\n",
    "  - クラス人数は39人以上40人以下\n",
    "  - 男子生徒、女子生徒は20人以下\n",
    "  - 学力試験のクラス平均点は学年平均の±10点\n",
    "  - リーダ気質の生徒を2人以上\n",
    "  - 特別支援生徒は1人以下\n",
    "  - 特定ペアの生徒は別クラスとする"
   ]
  },
  {
   "cell_type": "markdown",
   "metadata": {},
   "source": [
    "- List\n",
    "  - $S$ : Students list\n",
    "  - $C$ : Class list\n",
    "  - $S_{male}$ : Men list\n",
    "  - $S_{female}$ : Women list\n",
    "  - $S_{leader}$ : leaders list\n",
    "  - $S_{support}$ : supports list\n",
    "  - $S_{specific}$ : Specific Pairs list\n",
    "- Variable\n",
    "  - $x_{s,c} \\in \\{0, 1\\} (s\\in S, c\\in C)$\n",
    "- Constant\n",
    "  - $score_s$ : Score of students\n",
    "  - $score_{mean}$ : Score of mean\n",
    "- Constraints\n",
    "  1. $\\sum_{c\\in C} x_{s,c} = 1 \\quad (s \\in S)$\n",
    "  2. $\\sum_{s\\in S} x_{s,c} \\ge 39 \\quad (c \\in C), \\quad \\sum_{s\\in S} x_{s,c} \\le 40 \\quad (c \\in C)$\n",
    "  3. $\\sum_{s\\in S_{male}} x_{s,c} \\le 20 \\quad (c \\in C), \\quad \\sum_{s\\in S_{female}} x_{s,c} \\le 20 \\quad (c \\in C)$\n",
    "  4. $\\sum_{S_{leader}}x_{s,c} \\le 2$\n",
    "  5. $\\sum_{S_{support}}x_{s,c} \\le 1$\n",
    "  6. $(score_{mean}-10) \\cdot \\sum_{s\\in S} x_{s,c} \\ge \\sum_{s\\in S} score_s \\cdot x_{s,c}, \\quad \\sum_{s\\in S} score_s \\cdot x_{s,c} \\le (score_{mean}+10) \\cdot \\sum_{s\\in S} x_{s,c}$\n",
    "  7. $x_{s1,c} + x_{s2,c} \\le 1$\n",
    "- Objective\n",
    "  - None(Maximize)"
   ]
  },
  {
   "cell_type": "code",
   "execution_count": 435,
   "metadata": {},
   "outputs": [],
   "source": [
    "from pulp import LpProblem, LpVariable, LpMaximize, LpStatus, lpSum, value\n",
    "import pandas as pd\n",
    "import numpy as np\n",
    "import matplotlib.pyplot as plt\n",
    "from glob import glob\n",
    "import math\n",
    "from itertools import product"
   ]
  },
  {
   "cell_type": "code",
   "execution_count": 258,
   "metadata": {},
   "outputs": [],
   "source": [
    "glob('../*/*school/*.csv')\n",
    "students_df = pd.read_csv(glob('../*/*school/students.csv')[0])\n",
    "pairs_df = pd.read_csv(glob('../*/*school/student_pairs.csv')[0])"
   ]
  },
  {
   "cell_type": "code",
   "execution_count": 259,
   "metadata": {},
   "outputs": [
    {
     "data": {
      "text/html": [
       "<div>\n",
       "<style scoped>\n",
       "    .dataframe tbody tr th:only-of-type {\n",
       "        vertical-align: middle;\n",
       "    }\n",
       "\n",
       "    .dataframe tbody tr th {\n",
       "        vertical-align: top;\n",
       "    }\n",
       "\n",
       "    .dataframe thead th {\n",
       "        text-align: right;\n",
       "    }\n",
       "</style>\n",
       "<table border=\"1\" class=\"dataframe\">\n",
       "  <thead>\n",
       "    <tr style=\"text-align: right;\">\n",
       "      <th></th>\n",
       "      <th>student_id</th>\n",
       "      <th>gender</th>\n",
       "      <th>leader_flag</th>\n",
       "      <th>support_flag</th>\n",
       "      <th>score</th>\n",
       "    </tr>\n",
       "  </thead>\n",
       "  <tbody>\n",
       "    <tr>\n",
       "      <th>0</th>\n",
       "      <td>1</td>\n",
       "      <td>0</td>\n",
       "      <td>0</td>\n",
       "      <td>0</td>\n",
       "      <td>335</td>\n",
       "    </tr>\n",
       "    <tr>\n",
       "      <th>1</th>\n",
       "      <td>2</td>\n",
       "      <td>1</td>\n",
       "      <td>0</td>\n",
       "      <td>0</td>\n",
       "      <td>379</td>\n",
       "    </tr>\n",
       "    <tr>\n",
       "      <th>2</th>\n",
       "      <td>3</td>\n",
       "      <td>0</td>\n",
       "      <td>0</td>\n",
       "      <td>0</td>\n",
       "      <td>350</td>\n",
       "    </tr>\n",
       "  </tbody>\n",
       "</table>\n",
       "</div>"
      ],
      "text/plain": [
       "   student_id  gender  leader_flag  support_flag  score\n",
       "0           1       0            0             0    335\n",
       "1           2       1            0             0    379\n",
       "2           3       0            0             0    350"
      ]
     },
     "execution_count": 259,
     "metadata": {},
     "output_type": "execute_result"
    }
   ],
   "source": [
    "students_df.head(3)"
   ]
  },
  {
   "cell_type": "code",
   "execution_count": 260,
   "metadata": {},
   "outputs": [
    {
     "data": {
      "text/html": [
       "<div>\n",
       "<style scoped>\n",
       "    .dataframe tbody tr th:only-of-type {\n",
       "        vertical-align: middle;\n",
       "    }\n",
       "\n",
       "    .dataframe tbody tr th {\n",
       "        vertical-align: top;\n",
       "    }\n",
       "\n",
       "    .dataframe thead th {\n",
       "        text-align: right;\n",
       "    }\n",
       "</style>\n",
       "<table border=\"1\" class=\"dataframe\">\n",
       "  <thead>\n",
       "    <tr style=\"text-align: right;\">\n",
       "      <th></th>\n",
       "      <th>student_id1</th>\n",
       "      <th>student_id2</th>\n",
       "    </tr>\n",
       "  </thead>\n",
       "  <tbody>\n",
       "    <tr>\n",
       "      <th>0</th>\n",
       "      <td>118</td>\n",
       "      <td>189</td>\n",
       "    </tr>\n",
       "    <tr>\n",
       "      <th>1</th>\n",
       "      <td>72</td>\n",
       "      <td>50</td>\n",
       "    </tr>\n",
       "    <tr>\n",
       "      <th>2</th>\n",
       "      <td>314</td>\n",
       "      <td>233</td>\n",
       "    </tr>\n",
       "  </tbody>\n",
       "</table>\n",
       "</div>"
      ],
      "text/plain": [
       "   student_id1  student_id2\n",
       "0          118          189\n",
       "1           72           50\n",
       "2          314          233"
      ]
     },
     "execution_count": 260,
     "metadata": {},
     "output_type": "execute_result"
    }
   ],
   "source": [
    "pairs_df"
   ]
  },
  {
   "cell_type": "markdown",
   "metadata": {},
   "source": [
    "DataFrame にクラスを追加し変数を定義"
   ]
  },
  {
   "cell_type": "code",
   "execution_count": 298,
   "metadata": {},
   "outputs": [
    {
     "name": "stdout",
     "output_type": "stream",
     "text": [
      "(2544, 8)\n"
     ]
    },
    {
     "data": {
      "text/html": [
       "<div>\n",
       "<style scoped>\n",
       "    .dataframe tbody tr th:only-of-type {\n",
       "        vertical-align: middle;\n",
       "    }\n",
       "\n",
       "    .dataframe tbody tr th {\n",
       "        vertical-align: top;\n",
       "    }\n",
       "\n",
       "    .dataframe thead th {\n",
       "        text-align: right;\n",
       "    }\n",
       "</style>\n",
       "<table border=\"1\" class=\"dataframe\">\n",
       "  <thead>\n",
       "    <tr style=\"text-align: right;\">\n",
       "      <th></th>\n",
       "      <th>id</th>\n",
       "      <th>gender</th>\n",
       "      <th>leader</th>\n",
       "      <th>support</th>\n",
       "      <th>score</th>\n",
       "      <th>class</th>\n",
       "      <th>variable</th>\n",
       "      <th>score * var</th>\n",
       "    </tr>\n",
       "  </thead>\n",
       "  <tbody>\n",
       "    <tr>\n",
       "      <th>0</th>\n",
       "      <td>1</td>\n",
       "      <td>0</td>\n",
       "      <td>0</td>\n",
       "      <td>0</td>\n",
       "      <td>335</td>\n",
       "      <td>A</td>\n",
       "      <td>x_001_A</td>\n",
       "      <td>{x_001_A: 335}</td>\n",
       "    </tr>\n",
       "    <tr>\n",
       "      <th>1</th>\n",
       "      <td>2</td>\n",
       "      <td>1</td>\n",
       "      <td>0</td>\n",
       "      <td>0</td>\n",
       "      <td>379</td>\n",
       "      <td>A</td>\n",
       "      <td>x_002_A</td>\n",
       "      <td>{x_002_A: 379}</td>\n",
       "    </tr>\n",
       "    <tr>\n",
       "      <th>2</th>\n",
       "      <td>3</td>\n",
       "      <td>0</td>\n",
       "      <td>0</td>\n",
       "      <td>0</td>\n",
       "      <td>350</td>\n",
       "      <td>A</td>\n",
       "      <td>x_003_A</td>\n",
       "      <td>{x_003_A: 350}</td>\n",
       "    </tr>\n",
       "  </tbody>\n",
       "</table>\n",
       "</div>"
      ],
      "text/plain": [
       "   id  gender  leader  support  score class variable     score * var\n",
       "0   1       0       0        0    335     A  x_001_A  {x_001_A: 335}\n",
       "1   2       1       0        0    379     A  x_002_A  {x_002_A: 379}\n",
       "2   3       0       0        0    350     A  x_003_A  {x_003_A: 350}"
      ]
     },
     "execution_count": 298,
     "metadata": {},
     "output_type": "execute_result"
    }
   ],
   "source": [
    "s_df = students_df.copy()\n",
    "s_df = pd.concat([s_df, s_df, s_df, s_df, s_df, s_df, s_df, s_df], axis=0).reset_index(drop=True)\n",
    "s_df.columns = ['id', 'gender', 'leader', 'support', 'score']\n",
    "s_df['class'] = [chr(i+65)  for i in range(8) for _ in range(students_df.shape[0])]\n",
    "s_df['variable'] = [LpVariable(f'x_{id:03}_{chr(c+65)}', cat='Binary') for c in range(8) for id in students_df['student_id']]\n",
    "s_df['score * var'] = s_df['score'] * s_df['variable']\n",
    "print(s_df.shape)\n",
    "s_df.head(3)"
   ]
  },
  {
   "cell_type": "markdown",
   "metadata": {},
   "source": [
    "数理モデル定義"
   ]
  },
  {
   "cell_type": "code",
   "execution_count": 372,
   "metadata": {},
   "outputs": [
    {
     "name": "stdout",
     "output_type": "stream",
     "text": [
      "Status: Optimal\n"
     ]
    }
   ],
   "source": [
    "np.random.seed(1)\n",
    "prob = LpProblem('ClassAssignmentProblem', LpMaximize)\n",
    "\n",
    "for k, v in s_df.groupby('id'):\n",
    "    prob += lpSum(v['variable']) == 1\n",
    "prob\n",
    "\n",
    "for k, v in s_df.groupby('class'):\n",
    "    prob += lpSum(v['variable']) >= 39\n",
    "    prob += lpSum(v['variable']) <= 40\n",
    "\n",
    "# for k, v in s_df.groupby(['class']):\n",
    "    prob += lpSum(v['variable'][v['gender'] == 1]) <= 20\n",
    "    prob += lpSum(v['variable'][v['gender'] == 0]) <= 20\n",
    "\n",
    "# for k, v in s_df.groupby(['class']):\n",
    "    prob += lpSum(v['variable'][v['leader'] == 1]) >= 2\n",
    "\n",
    "# for k, v in s_df.groupby(['class']):\n",
    "    prob += lpSum(v['variable'][v['support'] == 1]) <= 1\n",
    "\n",
    "# for k, v in s_df.groupby(['class']):\n",
    "    prob += (students_df['score'].mean() - 10) * lpSum(v['variable']) <= lpSum(v['variable'] * v['score'])\n",
    "\n",
    "for i, s1, s2 in pairs_df.itertuples():\n",
    "    for k, v in s_df.groupby(['class']):\n",
    "        prob += lpSum([v['variable'][v['id'] == s1], v['variable'][v['id'] == s2]]) <= 1\n",
    "prob\n",
    "\n",
    "s_df['result'] =s_df['variable'].apply(value)\n",
    "\n",
    "status = prob.solve()\n",
    "print('Status:', LpStatus[status])"
   ]
  },
  {
   "cell_type": "code",
   "execution_count": 373,
   "metadata": {},
   "outputs": [
    {
     "name": "stdout",
     "output_type": "stream",
     "text": [
      "Class: C\n",
      "Num: 39\n",
      "id: [1, 18, 21, 22, 23, 24, 27, 28, 59, 64, 90, 93, 116, 127, 133, 138, 156, 158, 161, 163, 165, 182, 189, 192, 209, 217, 218, 219, 227, 230, 236, 243, 252, 255, 256, 266, 273, 295, 303]\n",
      "\n",
      "Class: A\n",
      "Num: 39\n",
      "id: [2, 6, 9, 19, 35, 39, 65, 68, 71, 83, 99, 108, 109, 117, 123, 136, 139, 140, 145, 177, 179, 180, 181, 184, 188, 193, 198, 206, 216, 221, 224, 246, 259, 261, 267, 291, 293, 298, 299]\n",
      "\n",
      "Class: F\n",
      "Num: 40\n",
      "id: [3, 7, 29, 41, 43, 44, 48, 49, 52, 55, 56, 62, 73, 76, 87, 91, 105, 111, 132, 137, 147, 150, 151, 152, 160, 204, 208, 223, 226, 238, 249, 262, 264, 269, 277, 297, 300, 312, 314, 318]\n",
      "\n",
      "Class: G\n",
      "Num: 40\n",
      "id: [4, 11, 12, 17, 26, 30, 31, 33, 38, 40, 47, 51, 53, 57, 72, 75, 86, 92, 95, 106, 126, 128, 148, 166, 168, 175, 178, 186, 191, 200, 201, 203, 205, 215, 220, 274, 283, 294, 306, 311]\n",
      "\n",
      "Class: H\n",
      "Num: 40\n",
      "id: [5, 8, 32, 34, 54, 60, 63, 74, 77, 82, 85, 94, 112, 113, 118, 119, 131, 134, 135, 141, 142, 154, 155, 169, 174, 190, 229, 244, 245, 253, 258, 265, 279, 280, 282, 284, 305, 307, 308, 309]\n",
      "\n",
      "Class: B\n",
      "Num: 40\n",
      "id: [10, 20, 37, 45, 50, 61, 69, 79, 81, 96, 101, 102, 115, 121, 124, 143, 146, 149, 167, 173, 187, 213, 214, 222, 225, 231, 232, 240, 247, 248, 250, 268, 276, 278, 289, 290, 292, 310, 316, 317]\n",
      "\n",
      "Class: D\n",
      "Num: 40\n",
      "id: [13, 16, 25, 70, 78, 80, 84, 89, 98, 103, 104, 107, 110, 130, 144, 157, 159, 176, 183, 185, 194, 197, 199, 210, 211, 212, 228, 233, 235, 237, 239, 241, 254, 260, 272, 275, 281, 286, 301, 313]\n",
      "\n",
      "Class: E\n",
      "Num: 40\n",
      "id: [14, 15, 36, 42, 46, 58, 66, 67, 88, 97, 100, 114, 120, 122, 125, 129, 153, 162, 164, 170, 171, 172, 195, 196, 202, 207, 234, 242, 251, 257, 263, 270, 271, 285, 287, 288, 296, 302, 304, 315]\n",
      "\n"
     ]
    }
   ],
   "source": [
    "result_df = s_df[s_df['result'] == 1]\n",
    "result_df = result_df.sort_values('id').reset_index(drop=True)\n",
    "\n",
    "C2Ss = {}\n",
    "for c in result_df['class'].unique():\n",
    "    C2Ss[c] = result_df['id'][result_df['class'] == c].to_list()\n",
    "\n",
    "for c, Ss in C2Ss.items():\n",
    "    print(f'Class: {c}')\n",
    "    print(f'Num: {len(Ss)}')\n",
    "    print(f'id: {Ss}')\n",
    "    print()"
   ]
  },
  {
   "cell_type": "code",
   "execution_count": 374,
   "metadata": {},
   "outputs": [
    {
     "data": {
      "text/html": [
       "<div>\n",
       "<style scoped>\n",
       "    .dataframe tbody tr th:only-of-type {\n",
       "        vertical-align: middle;\n",
       "    }\n",
       "\n",
       "    .dataframe tbody tr th {\n",
       "        vertical-align: top;\n",
       "    }\n",
       "\n",
       "    .dataframe thead th {\n",
       "        text-align: right;\n",
       "    }\n",
       "</style>\n",
       "<table border=\"1\" class=\"dataframe\">\n",
       "  <thead>\n",
       "    <tr style=\"text-align: right;\">\n",
       "      <th></th>\n",
       "      <th>id</th>\n",
       "      <th>gender</th>\n",
       "      <th>leader</th>\n",
       "      <th>support</th>\n",
       "      <th>score</th>\n",
       "      <th>class</th>\n",
       "      <th>variable</th>\n",
       "      <th>score * var</th>\n",
       "      <th>result</th>\n",
       "    </tr>\n",
       "  </thead>\n",
       "  <tbody>\n",
       "    <tr>\n",
       "      <th>0</th>\n",
       "      <td>1</td>\n",
       "      <td>0</td>\n",
       "      <td>0</td>\n",
       "      <td>0</td>\n",
       "      <td>335</td>\n",
       "      <td>C</td>\n",
       "      <td>x_001_C</td>\n",
       "      <td>{x_001_C: 335}</td>\n",
       "      <td>1.0</td>\n",
       "    </tr>\n",
       "    <tr>\n",
       "      <th>1</th>\n",
       "      <td>2</td>\n",
       "      <td>1</td>\n",
       "      <td>0</td>\n",
       "      <td>0</td>\n",
       "      <td>379</td>\n",
       "      <td>A</td>\n",
       "      <td>x_002_A</td>\n",
       "      <td>{x_002_A: 379}</td>\n",
       "      <td>1.0</td>\n",
       "    </tr>\n",
       "    <tr>\n",
       "      <th>2</th>\n",
       "      <td>3</td>\n",
       "      <td>0</td>\n",
       "      <td>0</td>\n",
       "      <td>0</td>\n",
       "      <td>350</td>\n",
       "      <td>F</td>\n",
       "      <td>x_003_F</td>\n",
       "      <td>{x_003_F: 350}</td>\n",
       "      <td>1.0</td>\n",
       "    </tr>\n",
       "    <tr>\n",
       "      <th>3</th>\n",
       "      <td>4</td>\n",
       "      <td>0</td>\n",
       "      <td>0</td>\n",
       "      <td>0</td>\n",
       "      <td>301</td>\n",
       "      <td>G</td>\n",
       "      <td>x_004_G</td>\n",
       "      <td>{x_004_G: 301}</td>\n",
       "      <td>1.0</td>\n",
       "    </tr>\n",
       "    <tr>\n",
       "      <th>4</th>\n",
       "      <td>5</td>\n",
       "      <td>1</td>\n",
       "      <td>0</td>\n",
       "      <td>0</td>\n",
       "      <td>317</td>\n",
       "      <td>H</td>\n",
       "      <td>x_005_H</td>\n",
       "      <td>{x_005_H: 317}</td>\n",
       "      <td>1.0</td>\n",
       "    </tr>\n",
       "    <tr>\n",
       "      <th>...</th>\n",
       "      <td>...</td>\n",
       "      <td>...</td>\n",
       "      <td>...</td>\n",
       "      <td>...</td>\n",
       "      <td>...</td>\n",
       "      <td>...</td>\n",
       "      <td>...</td>\n",
       "      <td>...</td>\n",
       "      <td>...</td>\n",
       "    </tr>\n",
       "    <tr>\n",
       "      <th>313</th>\n",
       "      <td>314</td>\n",
       "      <td>0</td>\n",
       "      <td>0</td>\n",
       "      <td>0</td>\n",
       "      <td>244</td>\n",
       "      <td>F</td>\n",
       "      <td>x_314_F</td>\n",
       "      <td>{x_314_F: 244}</td>\n",
       "      <td>1.0</td>\n",
       "    </tr>\n",
       "    <tr>\n",
       "      <th>314</th>\n",
       "      <td>315</td>\n",
       "      <td>1</td>\n",
       "      <td>0</td>\n",
       "      <td>0</td>\n",
       "      <td>309</td>\n",
       "      <td>E</td>\n",
       "      <td>x_315_E</td>\n",
       "      <td>{x_315_E: 309}</td>\n",
       "      <td>1.0</td>\n",
       "    </tr>\n",
       "    <tr>\n",
       "      <th>315</th>\n",
       "      <td>316</td>\n",
       "      <td>0</td>\n",
       "      <td>0</td>\n",
       "      <td>0</td>\n",
       "      <td>239</td>\n",
       "      <td>B</td>\n",
       "      <td>x_316_B</td>\n",
       "      <td>{x_316_B: 239}</td>\n",
       "      <td>1.0</td>\n",
       "    </tr>\n",
       "    <tr>\n",
       "      <th>316</th>\n",
       "      <td>317</td>\n",
       "      <td>1</td>\n",
       "      <td>0</td>\n",
       "      <td>0</td>\n",
       "      <td>356</td>\n",
       "      <td>B</td>\n",
       "      <td>x_317_B</td>\n",
       "      <td>{x_317_B: 356}</td>\n",
       "      <td>1.0</td>\n",
       "    </tr>\n",
       "    <tr>\n",
       "      <th>317</th>\n",
       "      <td>318</td>\n",
       "      <td>0</td>\n",
       "      <td>0</td>\n",
       "      <td>0</td>\n",
       "      <td>256</td>\n",
       "      <td>F</td>\n",
       "      <td>x_318_F</td>\n",
       "      <td>{x_318_F: 256}</td>\n",
       "      <td>1.0</td>\n",
       "    </tr>\n",
       "  </tbody>\n",
       "</table>\n",
       "<p>318 rows × 9 columns</p>\n",
       "</div>"
      ],
      "text/plain": [
       "      id  gender  leader  support  score class variable     score * var  \\\n",
       "0      1       0       0        0    335     C  x_001_C  {x_001_C: 335}   \n",
       "1      2       1       0        0    379     A  x_002_A  {x_002_A: 379}   \n",
       "2      3       0       0        0    350     F  x_003_F  {x_003_F: 350}   \n",
       "3      4       0       0        0    301     G  x_004_G  {x_004_G: 301}   \n",
       "4      5       1       0        0    317     H  x_005_H  {x_005_H: 317}   \n",
       "..   ...     ...     ...      ...    ...   ...      ...             ...   \n",
       "313  314       0       0        0    244     F  x_314_F  {x_314_F: 244}   \n",
       "314  315       1       0        0    309     E  x_315_E  {x_315_E: 309}   \n",
       "315  316       0       0        0    239     B  x_316_B  {x_316_B: 239}   \n",
       "316  317       1       0        0    356     B  x_317_B  {x_317_B: 356}   \n",
       "317  318       0       0        0    256     F  x_318_F  {x_318_F: 256}   \n",
       "\n",
       "     result  \n",
       "0       1.0  \n",
       "1       1.0  \n",
       "2       1.0  \n",
       "3       1.0  \n",
       "4       1.0  \n",
       "..      ...  \n",
       "313     1.0  \n",
       "314     1.0  \n",
       "315     1.0  \n",
       "316     1.0  \n",
       "317     1.0  \n",
       "\n",
       "[318 rows x 9 columns]"
      ]
     },
     "execution_count": 374,
     "metadata": {},
     "output_type": "execute_result"
    }
   ],
   "source": [
    "result_df"
   ]
  },
  {
   "cell_type": "code",
   "execution_count": 379,
   "metadata": {},
   "outputs": [
    {
     "data": {
      "text/plain": [
       "class\n",
       "A    39\n",
       "B    40\n",
       "C    39\n",
       "D    40\n",
       "E    40\n",
       "F    40\n",
       "G    40\n",
       "H    40\n",
       "Name: id, dtype: int64"
      ]
     },
     "execution_count": 379,
     "metadata": {},
     "output_type": "execute_result"
    }
   ],
   "source": [
    "result_df.groupby(['class'])['id'].count()"
   ]
  },
  {
   "cell_type": "code",
   "execution_count": 381,
   "metadata": {},
   "outputs": [
    {
     "data": {
      "text/plain": [
       "class  gender\n",
       "A      0         20\n",
       "       1         19\n",
       "B      0         20\n",
       "       1         20\n",
       "C      0         20\n",
       "       1         19\n",
       "D      0         20\n",
       "       1         20\n",
       "E      0         20\n",
       "       1         20\n",
       "F      0         20\n",
       "       1         20\n",
       "G      0         20\n",
       "       1         20\n",
       "H      0         20\n",
       "       1         20\n",
       "Name: id, dtype: int64"
      ]
     },
     "execution_count": 381,
     "metadata": {},
     "output_type": "execute_result"
    }
   ],
   "source": [
    "result_df.groupby(['class', 'gender'])['id'].count()"
   ]
  },
  {
   "cell_type": "code",
   "execution_count": 385,
   "metadata": {},
   "outputs": [
    {
     "data": {
      "text/plain": [
       "class  leader\n",
       "A      0         37\n",
       "       1          2\n",
       "B      0         38\n",
       "       1          2\n",
       "C      0         37\n",
       "       1          2\n",
       "D      0         38\n",
       "       1          2\n",
       "E      0         38\n",
       "       1          2\n",
       "F      0         38\n",
       "       1          2\n",
       "G      0         38\n",
       "       1          2\n",
       "H      0         37\n",
       "       1          3\n",
       "Name: id, dtype: int64"
      ]
     },
     "execution_count": 385,
     "metadata": {},
     "output_type": "execute_result"
    }
   ],
   "source": [
    "result_df.groupby(['class', 'leader'])['id'].count()"
   ]
  },
  {
   "cell_type": "code",
   "execution_count": 386,
   "metadata": {},
   "outputs": [
    {
     "data": {
      "text/plain": [
       "class  support\n",
       "A      0          39\n",
       "B      0          40\n",
       "C      0          38\n",
       "       1           1\n",
       "D      0          39\n",
       "       1           1\n",
       "E      0          39\n",
       "       1           1\n",
       "F      0          40\n",
       "G      0          40\n",
       "H      0          39\n",
       "       1           1\n",
       "Name: id, dtype: int64"
      ]
     },
     "execution_count": 386,
     "metadata": {},
     "output_type": "execute_result"
    }
   ],
   "source": [
    "result_df.groupby(['class', 'support'])['id'].count()"
   ]
  },
  {
   "cell_type": "code",
   "execution_count": 404,
   "metadata": {},
   "outputs": [
    {
     "name": "stdout",
     "output_type": "stream",
     "text": [
      "[[118 'H']] [[189 'C']]\n",
      "[[72 'G']] [[50 'B']]\n",
      "[[314 'F']] [[233 'D']]\n"
     ]
    }
   ],
   "source": [
    "for i, s1, s2 in pairs_df.itertuples():\n",
    "    print(result_df[['id', 'class']][result_df['id'] == s1].values, result_df[['id', 'class']][result_df['id'] == s2].values)"
   ]
  },
  {
   "cell_type": "code",
   "execution_count": 426,
   "metadata": {},
   "outputs": [
    {
     "ename": "TypeError",
     "evalue": "subplot() takes 1 or 3 positional arguments but 2 were given",
     "output_type": "error",
     "traceback": [
      "\u001b[1;31m---------------------------------------------------------------------------\u001b[0m",
      "\u001b[1;31mTypeError\u001b[0m                                 Traceback (most recent call last)",
      "Cell \u001b[1;32mIn[426], line 1\u001b[0m\n\u001b[1;32m----> 1\u001b[0m fig, axs \u001b[38;5;241m=\u001b[39m \u001b[43mplt\u001b[49m\u001b[38;5;241;43m.\u001b[39;49m\u001b[43msubplot\u001b[49m\u001b[43m(\u001b[49m\u001b[38;5;241;43m1\u001b[39;49m\u001b[43m,\u001b[49m\u001b[43m \u001b[49m\u001b[38;5;241;43m1\u001b[39;49m\u001b[43m,\u001b[49m\u001b[43m \u001b[49m\u001b[43mfigsize\u001b[49m\u001b[38;5;241;43m=\u001b[39;49m\u001b[43m(\u001b[49m\u001b[38;5;241;43m12\u001b[39;49m\u001b[43m,\u001b[49m\u001b[43m \u001b[49m\u001b[38;5;241;43m8\u001b[39;49m\u001b[43m)\u001b[49m\u001b[43m)\u001b[49m\n\u001b[0;32m      2\u001b[0m \u001b[38;5;28;01mfor\u001b[39;00m i, c \u001b[38;5;129;01min\u001b[39;00m \u001b[38;5;28menumerate\u001b[39m(result_df[\u001b[38;5;124m'\u001b[39m\u001b[38;5;124mclass\u001b[39m\u001b[38;5;124m'\u001b[39m]\u001b[38;5;241m.\u001b[39munique()):\n\u001b[0;32m      3\u001b[0m     axs[\u001b[38;5;241m0\u001b[39m]\u001b[38;5;241m.\u001b[39mhist(result_df[\u001b[38;5;124m'\u001b[39m\u001b[38;5;124mscore\u001b[39m\u001b[38;5;124m'\u001b[39m][result_df[\u001b[38;5;124m'\u001b[39m\u001b[38;5;124mclass\u001b[39m\u001b[38;5;124m'\u001b[39m] \u001b[38;5;241m==\u001b[39m \u001b[38;5;124m'\u001b[39m\u001b[38;5;124mA\u001b[39m\u001b[38;5;124m'\u001b[39m],bins\u001b[38;5;241m=\u001b[39m\u001b[38;5;28mrange\u001b[39m(\u001b[38;5;241m0\u001b[39m, \u001b[38;5;241m500\u001b[39m, \u001b[38;5;241m40\u001b[39m))\n",
      "File \u001b[1;32m~\\AppData\\Local\\Packages\\PythonSoftwareFoundation.Python.3.11_qbz5n2kfra8p0\\LocalCache\\local-packages\\Python311\\site-packages\\matplotlib\\pyplot.py:1440\u001b[0m, in \u001b[0;36msubplot\u001b[1;34m(*args, **kwargs)\u001b[0m\n\u001b[0;32m   1437\u001b[0m fig \u001b[38;5;241m=\u001b[39m gcf()\n\u001b[0;32m   1439\u001b[0m \u001b[38;5;66;03m# First, search for an existing subplot with a matching spec.\u001b[39;00m\n\u001b[1;32m-> 1440\u001b[0m key \u001b[38;5;241m=\u001b[39m \u001b[43mSubplotSpec\u001b[49m\u001b[38;5;241;43m.\u001b[39;49m\u001b[43m_from_subplot_args\u001b[49m\u001b[43m(\u001b[49m\u001b[43mfig\u001b[49m\u001b[43m,\u001b[49m\u001b[43m \u001b[49m\u001b[43margs\u001b[49m\u001b[43m)\u001b[49m\n\u001b[0;32m   1442\u001b[0m \u001b[38;5;28;01mfor\u001b[39;00m ax \u001b[38;5;129;01min\u001b[39;00m fig\u001b[38;5;241m.\u001b[39maxes:\n\u001b[0;32m   1443\u001b[0m     \u001b[38;5;66;03m# If we found an Axes at the position, we can re-use it if the user passed no\u001b[39;00m\n\u001b[0;32m   1444\u001b[0m     \u001b[38;5;66;03m# kwargs or if the axes class and kwargs are identical.\u001b[39;00m\n\u001b[0;32m   1445\u001b[0m     \u001b[38;5;28;01mif\u001b[39;00m (ax\u001b[38;5;241m.\u001b[39mget_subplotspec() \u001b[38;5;241m==\u001b[39m key\n\u001b[0;32m   1446\u001b[0m         \u001b[38;5;129;01mand\u001b[39;00m (kwargs \u001b[38;5;241m==\u001b[39m {}\n\u001b[0;32m   1447\u001b[0m              \u001b[38;5;129;01mor\u001b[39;00m (ax\u001b[38;5;241m.\u001b[39m_projection_init\n\u001b[0;32m   1448\u001b[0m                  \u001b[38;5;241m==\u001b[39m fig\u001b[38;5;241m.\u001b[39m_process_projection_requirements(\u001b[38;5;241m*\u001b[39m\u001b[38;5;241m*\u001b[39mkwargs)))):\n",
      "File \u001b[1;32m~\\AppData\\Local\\Packages\\PythonSoftwareFoundation.Python.3.11_qbz5n2kfra8p0\\LocalCache\\local-packages\\Python311\\site-packages\\matplotlib\\gridspec.py:586\u001b[0m, in \u001b[0;36mSubplotSpec._from_subplot_args\u001b[1;34m(figure, args)\u001b[0m\n\u001b[0;32m    584\u001b[0m     rows, cols, num \u001b[38;5;241m=\u001b[39m args\n\u001b[0;32m    585\u001b[0m \u001b[38;5;28;01melse\u001b[39;00m:\n\u001b[1;32m--> 586\u001b[0m     \u001b[38;5;28;01mraise\u001b[39;00m _api\u001b[38;5;241m.\u001b[39mnargs_error(\u001b[38;5;124m\"\u001b[39m\u001b[38;5;124msubplot\u001b[39m\u001b[38;5;124m\"\u001b[39m, takes\u001b[38;5;241m=\u001b[39m\u001b[38;5;124m\"\u001b[39m\u001b[38;5;124m1 or 3\u001b[39m\u001b[38;5;124m\"\u001b[39m, given\u001b[38;5;241m=\u001b[39m\u001b[38;5;28mlen\u001b[39m(args))\n\u001b[0;32m    588\u001b[0m gs \u001b[38;5;241m=\u001b[39m GridSpec\u001b[38;5;241m.\u001b[39m_check_gridspec_exists(figure, rows, cols)\n\u001b[0;32m    589\u001b[0m \u001b[38;5;28;01mif\u001b[39;00m gs \u001b[38;5;129;01mis\u001b[39;00m \u001b[38;5;28;01mNone\u001b[39;00m:\n",
      "\u001b[1;31mTypeError\u001b[0m: subplot() takes 1 or 3 positional arguments but 2 were given"
     ]
    },
    {
     "data": {
      "text/plain": [
       "<Figure size 640x480 with 0 Axes>"
      ]
     },
     "metadata": {},
     "output_type": "display_data"
    }
   ],
   "source": [
    "fig, axs = plt.subplot(1, 1, figsize=(12, 8))\n",
    "for i, c in enumerate(result_df['class'].unique()):\n",
    "    axs[0].hist(result_df['score'][result_df['class'] == 'A'],bins=range(0, 500, 40))"
   ]
  },
  {
   "cell_type": "code",
   "execution_count": 423,
   "metadata": {},
   "outputs": [
    {
     "data": {
      "text/plain": [
       "(array([ 0.,  0.,  4.,  1.,  0.,  0.,  0.,  1.,  0., 22., 11.,  0.]),\n",
       " array([  0.,  40.,  80., 120., 160., 200., 240., 280., 320., 360., 400.,\n",
       "        440., 480.]),\n",
       " <BarContainer object of 12 artists>)"
      ]
     },
     "execution_count": 423,
     "metadata": {},
     "output_type": "execute_result"
    },
    {
     "data": {
      "image/png": "[encoded data removed]",
      "text/plain": [
       "<Figure size 640x480 with 1 Axes>"
      ]
     },
     "metadata": {},
     "output_type": "display_data"
    }
   ],
   "source": [
    "plt.hist(result_df['score'][result_df['class'] == 'A'],bins=range(0, 500, 40))"
   ]
  },
  {
   "cell_type": "code",
   "execution_count": 434,
   "metadata": {},
   "outputs": [
    {
     "data": {
      "image/png": "[encoded data removed]",
      "text/plain": [
       "<Figure size 2000x800 with 16 Axes>"
      ]
     },
     "metadata": {},
     "output_type": "display_data"
    }
   ],
   "source": [
    "fig, axs = plt.subplots(2, 4, figsize=(20, 8))\n",
    "for i, c in enumerate(result_df['class'].unique()):\n",
    "    cls_df = result_df[result_df['class']==c]\n",
    "    ax = fig.add_subplot(\n",
    "        2, 4, i+1,\n",
    "        xlabel = 'Score', ylabel = 'num',\n",
    "        xlim=(0, 500), ylim=(0, 30),\n",
    "        title=f'Class : {c}'\n",
    "        )\n",
    "    ax.hist(cls_df['score'], bins=range(0, 500, 40))"
   ]
  }
 ],
 "metadata": {
  "kernelspec": {
   "display_name": "Python 3",
   "language": "python",
   "name": "python3"
  },
  "language_info": {
   "codemirror_mode": {
    "name": "ipython",
    "version": 3
   },
   "file_extension": ".py",
   "mimetype": "text/x-python",
   "name": "python",
   "nbconvert_exporter": "python",
   "pygments_lexer": "ipython3",
   "version": "3.11.9"
  }
 },
 "nbformat": 4,
 "nbformat_minor": 2
}
