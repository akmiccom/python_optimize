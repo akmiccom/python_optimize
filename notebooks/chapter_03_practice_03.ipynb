{
 "cells": [
  {
   "cell_type": "code",
   "execution_count": 1,
   "metadata": {},
   "outputs": [],
   "source": [
    "from pulp import LpProblem, LpVariable, LpMaximize, LpStatus, lpSum\n",
    "import pandas as pd\n",
    "import matplotlib.pyplot as plt\n",
    "from glob import glob\n",
    "import math\n",
    "from itertools import product"
   ]
  },
  {
   "cell_type": "code",
   "execution_count": 2,
   "metadata": {},
   "outputs": [],
   "source": [
    "def score_graph(df, score, class_name, color):\n",
    "    row, col = 1, 8\n",
    "    fig, axs = plt.subplots(row, col, figsize=(20, 3))\n",
    "    for i, c in C.items():\n",
    "        axs[i].hist(df[score][df[class_name] == c], range(0, 500 ,40), color=color)\n",
    "        axs[i].set_ylim(0, 20)\n",
    "        axs[i].set_xlabel('Score')\n",
    "        axs[i].set_ylabel('Num')\n",
    "        axs[i].set_title(f'Class {c}')\n",
    "    plt.tight_layout()\n",
    "    plt.show()"
   ]
  },
  {
   "cell_type": "code",
   "execution_count": 3,
   "metadata": {},
   "outputs": [
    {
     "data": {
      "text/html": [
       "<div>\n",
       "<style scoped>\n",
       "    .dataframe tbody tr th:only-of-type {\n",
       "        vertical-align: middle;\n",
       "    }\n",
       "\n",
       "    .dataframe tbody tr th {\n",
       "        vertical-align: top;\n",
       "    }\n",
       "\n",
       "    .dataframe thead th {\n",
       "        text-align: right;\n",
       "    }\n",
       "</style>\n",
       "<table border=\"1\" class=\"dataframe\">\n",
       "  <thead>\n",
       "    <tr style=\"text-align: right;\">\n",
       "      <th></th>\n",
       "      <th>student_id</th>\n",
       "      <th>gender</th>\n",
       "      <th>leader_flag</th>\n",
       "      <th>support_flag</th>\n",
       "      <th>score</th>\n",
       "    </tr>\n",
       "  </thead>\n",
       "  <tbody>\n",
       "    <tr>\n",
       "      <th>0</th>\n",
       "      <td>1</td>\n",
       "      <td>0</td>\n",
       "      <td>0</td>\n",
       "      <td>0</td>\n",
       "      <td>335</td>\n",
       "    </tr>\n",
       "    <tr>\n",
       "      <th>1</th>\n",
       "      <td>2</td>\n",
       "      <td>1</td>\n",
       "      <td>0</td>\n",
       "      <td>0</td>\n",
       "      <td>379</td>\n",
       "    </tr>\n",
       "    <tr>\n",
       "      <th>2</th>\n",
       "      <td>3</td>\n",
       "      <td>0</td>\n",
       "      <td>0</td>\n",
       "      <td>0</td>\n",
       "      <td>350</td>\n",
       "    </tr>\n",
       "  </tbody>\n",
       "</table>\n",
       "</div>"
      ],
      "text/plain": [
       "   student_id  gender  leader_flag  support_flag  score\n",
       "0           1       0            0             0    335\n",
       "1           2       1            0             0    379\n",
       "2           3       0            0             0    350"
      ]
     },
     "metadata": {},
     "output_type": "display_data"
    },
    {
     "data": {
      "text/html": [
       "<div>\n",
       "<style scoped>\n",
       "    .dataframe tbody tr th:only-of-type {\n",
       "        vertical-align: middle;\n",
       "    }\n",
       "\n",
       "    .dataframe tbody tr th {\n",
       "        vertical-align: top;\n",
       "    }\n",
       "\n",
       "    .dataframe thead th {\n",
       "        text-align: right;\n",
       "    }\n",
       "</style>\n",
       "<table border=\"1\" class=\"dataframe\">\n",
       "  <thead>\n",
       "    <tr style=\"text-align: right;\">\n",
       "      <th></th>\n",
       "      <th>student_id1</th>\n",
       "      <th>student_id2</th>\n",
       "    </tr>\n",
       "  </thead>\n",
       "  <tbody>\n",
       "    <tr>\n",
       "      <th>0</th>\n",
       "      <td>118</td>\n",
       "      <td>189</td>\n",
       "    </tr>\n",
       "    <tr>\n",
       "      <th>1</th>\n",
       "      <td>72</td>\n",
       "      <td>50</td>\n",
       "    </tr>\n",
       "    <tr>\n",
       "      <th>2</th>\n",
       "      <td>314</td>\n",
       "      <td>233</td>\n",
       "    </tr>\n",
       "  </tbody>\n",
       "</table>\n",
       "</div>"
      ],
      "text/plain": [
       "   student_id1  student_id2\n",
       "0          118          189\n",
       "1           72           50\n",
       "2          314          233"
      ]
     },
     "execution_count": 3,
     "metadata": {},
     "output_type": "execute_result"
    }
   ],
   "source": [
    "students_df = pd.read_csv(glob('../*/*school/students.csv')[0])\n",
    "student_pairs_df = pd.read_csv(glob('../*/*school/student_pairs.csv')[0])\n",
    "display(students_df.head(3))\n",
    "student_pairs_df.head(3)"
   ]
  },
  {
   "cell_type": "code",
   "execution_count": 4,
   "metadata": {},
   "outputs": [],
   "source": [
    "S = students_df['student_id']\n",
    "MAX_STUDENTNS = 40\n",
    "class_num = math.ceil(students_df.shape[0] / MAX_STUDENTNS)\n",
    "C = {i: chr(65+i) for i in range(class_num)}\n",
    "SC = [(s, c) for s in S for c in C.values()]\n",
    "S_men = students_df['student_id'][students_df['gender'] == 0]\n",
    "S_women = students_df['student_id'][students_df['gender'] == 1]\n",
    "S_leader = students_df['student_id'][students_df['leader_flag'] == 1]\n",
    "S_support = students_df['student_id'][students_df['support_flag'] == 1]\n",
    "score_mean = students_df['score'].mean()\n",
    "S_score = {row.student_id: row.score for row in students_df.itertuples()}\n",
    "S_spec = [(row.student_id1, row.student_id2) for row in student_pairs_df.itertuples()]\n",
    "\n",
    "students_df['rank'] = students_df['score'].rank(method='first', ascending=False)\n",
    "students_df['init_class'] = students_df['rank'].map(lambda x: x % class_num).map(C)\n",
    "init_flag = {(s, c): 0 for s in S for c in C.values()}\n",
    "for row in students_df.itertuples():\n",
    "    init_flag[row.student_id, row.init_class] = 1"
   ]
  },
  {
   "cell_type": "code",
   "execution_count": 5,
   "metadata": {},
   "outputs": [
    {
     "name": "stdout",
     "output_type": "stream",
     "text": [
      "Optimal\n"
     ]
    }
   ],
   "source": [
    "m = LpProblem('class_organization', sense=LpMaximize)\n",
    "\n",
    "x = LpVariable.dicts('x', SC, cat='Binary')\n",
    "\n",
    "for s in S:\n",
    "    m += lpSum(x[s, c] for c in C.values()) == 1\n",
    "\n",
    "for c in C.values():\n",
    "    m += lpSum(x[s, c] for s in S) >= 39\n",
    "    m += lpSum(x[s, c] for s in S) <= 40\n",
    "    m += lpSum(x[s, c] for s in S_men) <= 20\n",
    "    m += lpSum(x[s, c] for s in S_women) <= 20\n",
    "    m += lpSum(x[s, c] for s in S_leader) >= 2\n",
    "    m += lpSum(x[s, c] for s in S_support) <= 1\n",
    "\n",
    "    m += (score_mean - 10) * lpSum(x[s, c] for s in S) <= lpSum(x[s, c] * S_score[s] for s in S)\n",
    "    m += (score_mean + 10) * lpSum(x[s, c] for s in S) >= lpSum(x[s, c] * S_score[s] for s in S)\n",
    "\n",
    "for s1, s2 in S_spec:\n",
    "    for c in C.values():\n",
    "        m += x[s1, c] + x[s2, c] <= 1\n",
    "\n",
    "m += lpSum(x[s, c] * init_flag[s, c] for s, c in SC)\n",
    "\n",
    "status = m.solve()\n",
    "print(LpStatus[status])"
   ]
  },
  {
   "cell_type": "code",
   "execution_count": 6,
   "metadata": {},
   "outputs": [
    {
     "name": "stdout",
     "output_type": "stream",
     "text": [
      "A 40 [2, 23, 56, 68, 76, 82, 89, 102, 106, 113, 115, 121, 123, 124, 127, 140, 172, 173, 185, 186, 204, 210, 228, 255, 267, 273, 274, 280, 285, 288, 289, 292, 295, 297, 304, 308, 311, 313, 316, 318]\n",
      "B 39 [11, 14, 17, 30, 32, 35, 41, 49, 64, 66, 79, 83, 86, 88, 97, 114, 119, 122, 132, 134, 141, 149, 151, 165, 175, 178, 190, 198, 200, 209, 213, 216, 226, 237, 272, 296, 303, 306, 307]\n",
      "C 40 [21, 38, 44, 46, 51, 54, 62, 63, 73, 75, 84, 85, 99, 120, 138, 142, 143, 144, 150, 166, 183, 184, 192, 193, 195, 201, 205, 207, 211, 212, 217, 221, 222, 243, 244, 263, 264, 287, 299, 315]\n",
      "D 40 [5, 24, 39, 47, 50, 61, 67, 74, 90, 92, 93, 100, 109, 116, 131, 136, 147, 152, 155, 167, 169, 170, 176, 177, 196, 199, 214, 218, 219, 227, 230, 231, 236, 238, 239, 253, 257, 259, 271, 309]\n",
      "E 39 [4, 8, 12, 13, 19, 22, 33, 43, 48, 55, 57, 59, 98, 112, 125, 130, 133, 137, 139, 153, 160, 189, 203, 234, 235, 240, 241, 249, 251, 254, 256, 261, 266, 268, 276, 283, 291, 294, 302]\n",
      "F 40 [1, 6, 16, 27, 28, 29, 40, 42, 45, 58, 70, 77, 91, 118, 128, 129, 135, 145, 146, 148, 156, 161, 162, 163, 174, 181, 188, 194, 202, 224, 229, 246, 258, 260, 262, 265, 286, 290, 300, 310]\n",
      "G 40 [7, 9, 10, 15, 18, 26, 31, 36, 37, 52, 71, 78, 80, 94, 96, 101, 104, 110, 126, 157, 159, 179, 180, 182, 191, 197, 215, 242, 245, 247, 248, 252, 275, 277, 282, 293, 298, 305, 312, 314]\n",
      "H 40 [3, 20, 25, 34, 53, 60, 65, 69, 72, 81, 87, 95, 103, 105, 107, 108, 111, 117, 154, 158, 164, 168, 171, 187, 206, 208, 220, 223, 225, 232, 233, 250, 269, 270, 278, 279, 281, 284, 301, 317]\n"
     ]
    }
   ],
   "source": [
    "class_organization = {}\n",
    "for c in C.values():\n",
    "    class_students = [s for s in S if x[s, c].value() == 1]\n",
    "    class_organization[c] = class_students\n",
    "for k, v in class_organization.items():\n",
    "    print(k, len(v), v)"
   ]
  },
  {
   "cell_type": "code",
   "execution_count": 7,
   "metadata": {},
   "outputs": [],
   "source": [
    "result_df = students_df.copy()\n",
    "S2C = {s: c for s in S for c in C.values() if x[s, c].value() == 1}\n",
    "result_df['class'] = result_df['student_id'].map(S2C)\n",
    "result_df.head()\n",
    "\n",
    "print(result_df.groupby('class').count()['student_id'].to_list())\n",
    "print(result_df.groupby(['class', 'gender']).count()['student_id'].to_list())\n",
    "print(result_df.groupby(['class', 'leader_flag']).count()['student_id'].to_list())\n",
    "print(result_df.groupby(['class', 'support_flag']).count()['student_id'].to_list())\n",
    "print(result_df.groupby(['class']).mean(numeric_only=True)['score'].to_list() - score_mean)\n",
    "for s1, s2 in S_spec:\n",
    "    print(S2C[s1] == S2C[s2], f'{s1:03}', S2C[s1], f'{s2:03}', S2C[s2], end=', ')"
   ]
  },
  {
   "cell_type": "code",
   "execution_count": 9,
   "metadata": {},
   "outputs": [
    {
     "data": {
      "image/png": "[encoded data removed]",
      "text/plain": [
       "<Figure size 2000x300 with 8 Axes>"
      ]
     },
     "metadata": {},
     "output_type": "display_data"
    },
    {
     "data": {
      "image/png": "[encoded data removed]",
      "text/plain": [
       "<Figure size 2000x300 with 8 Axes>"
      ]
     },
     "metadata": {},
     "output_type": "display_data"
    }
   ],
   "source": [
    "score_graph(students_df, 'score', 'init_class', 'k')\n",
    "score_graph(result_df, 'score', 'class', 'b')"
   ]
  },
  {
   "cell_type": "code",
   "execution_count": null,
   "metadata": {},
   "outputs": [],
   "source": []
  }
 ],
 "metadata": {
  "kernelspec": {
   "display_name": "Python 3",
   "language": "python",
   "name": "python3"
  },
  "language_info": {
   "codemirror_mode": {
    "name": "ipython",
    "version": 3
   },
   "file_extension": ".py",
   "mimetype": "text/x-python",
   "name": "python",
   "nbconvert_exporter": "python",
   "pygments_lexer": "ipython3",
   "version": "3.11.9"
  }
 },
 "nbformat": 4,
 "nbformat_minor": 2
}
