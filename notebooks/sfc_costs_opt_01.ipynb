{
 "cells": [
  {
   "cell_type": "code",
   "execution_count": 1,
   "metadata": {},
   "outputs": [],
   "source": [
    "from pulp import LpProblem, LpVariable\n",
    "from pulp import LpStatus, LpMinimize\n",
    "from pulp import lpSum, value"
   ]
  },
  {
   "cell_type": "code",
   "execution_count": 16,
   "metadata": {},
   "outputs": [],
   "source": [
    "INFO = {\n",
    "    'gmp-syd_bn': [14086, 200000],\n",
    "    'gmp-syd_be': [18462, 250000],\n",
    "    'gmp-isg_zy': [8611, 110000],\n",
    "    'syd-cdg_mm': [28576, 350000],\n",
    "}"
   ]
  },
  {
   "cell_type": "code",
   "execution_count": 21,
   "metadata": {},
   "outputs": [
    {
     "name": "stdout",
     "output_type": "stream",
     "text": [
      "Optimal \\660,000\n",
      "gmp-syd_bn 1 回\n",
      "gmp-syd_be 0 回\n",
      "gmp-isg_zy 1 回\n",
      "syd-cdg_mm 1 回\n"
     ]
    }
   ],
   "source": [
    "x = LpVariable.dicts('x', list(INFO.keys()), cat='Integer', lowBound=0)\n",
    "\n",
    "m = LpProblem('sfc_costs_opt', sense=LpMinimize)\n",
    "\n",
    "m += lpSum(x[k] * cost for k, (pp, cost) in INFO.items())\n",
    "m += lpSum(x[k] * pp for k, (pp, cost) in INFO.items()) >= 50000\n",
    "\n",
    "status = m.solve()\n",
    "\n",
    "print(LpStatus[status], f'\\{value(m.objective):,.0f}')\n",
    "for k, (pp, cost) in INFO.items():\n",
    "    print(k, f'{x[k].value():,.0f} 回')"
   ]
  },
  {
   "cell_type": "code",
   "execution_count": null,
   "metadata": {},
   "outputs": [],
   "source": []
  }
 ],
 "metadata": {
  "kernelspec": {
   "display_name": "Python 3",
   "language": "python",
   "name": "python3"
  },
  "language_info": {
   "codemirror_mode": {
    "name": "ipython",
    "version": 3
   },
   "file_extension": ".py",
   "mimetype": "text/x-python",
   "name": "python",
   "nbconvert_exporter": "python",
   "pygments_lexer": "ipython3",
   "version": "3.11.9"
  }
 },
 "nbformat": 4,
 "nbformat_minor": 2
}
