{
 "cells": [
  {
   "cell_type": "markdown",
   "metadata": {},
   "source": [
    "#### 2-1 連立一次方程式を python の数理最適化ライブラリで解く\n",
    "リンゴ120円、ナシ150円を合わせて10個買ったら1440円だった。それぞれ何個買ったのか？"
   ]
  },
  {
   "cell_type": "code",
   "execution_count": 1,
   "metadata": {},
   "outputs": [],
   "source": [
    "from pulp import LpProblem, LpVariable, LpMaximize, LpStatus"
   ]
  },
  {
   "cell_type": "code",
   "execution_count": 2,
   "metadata": {},
   "outputs": [
    {
     "name": "stdout",
     "output_type": "stream",
     "text": [
      "Optimal\n",
      "Apple: 2.0 + Pear: 8.0 = QTY: 10.0\n"
     ]
    }
   ],
   "source": [
    "apple_price = 120\n",
    "pear_price = 150\n",
    "total_price = 1440\n",
    "total_quantity = 10\n",
    "\n",
    "x = LpVariable('apple', cat='Continuous')\n",
    "y = LpVariable('pear', cat='Continuous')\n",
    "\n",
    "m = LpProblem('aaa', sense=LpMaximize)\n",
    "m += apple_price * x + pear_price * y == total_price\n",
    "m += x + y == total_quantity\n",
    "\n",
    "status = m.solve()\n",
    "print(LpStatus[status])\n",
    "print(f'Apple: {x.value()} + Pear: {y.value()} = QTY: {x.value() + y.value()}')"
   ]
  },
  {
   "cell_type": "code",
   "execution_count": 26,
   "metadata": {},
   "outputs": [
    {
     "name": "stdout",
     "output_type": "stream",
     "text": [
      "Optimal\n",
      "p: 18.0 + q: 4.0 = Profit: 260,000.0[YEN]\n"
     ]
    }
   ],
   "source": [
    "from pulp import LpProblem, LpVariable, LpMaximize, LpStatus, lpSum\n",
    "\n",
    "mp, np = 1, 2\n",
    "mq, nq = 3, 1\n",
    "m_stock, n_stock = 30, 40\n",
    "p_profit, q_profit = 10000, 20000\n",
    "\n",
    "prob = LpProblem('Optimize_cost', LpMaximize)\n",
    "\n",
    "p = LpVariable('p', cat='Interger', lowBound=0)\n",
    "q = LpVariable('q', cat='Interger', lowBound=0)\n",
    "\n",
    "prob += p_profit * p + q_profit * q\n",
    "\n",
    "prob += mp * p + mq * q <= m_stock\n",
    "prob += np * p + nq * q <= n_stock\n",
    "\n",
    "status = prob.solve()\n",
    "print(LpStatus[status])\n",
    "profit = p_profit * p.value() + q_profit * q.value()\n",
    "print(f'p: {p.value()} + q: {q.value()} = Profit: {profit:,}[YEN]')"
   ]
  },
  {
   "cell_type": "code",
   "execution_count": null,
   "metadata": {},
   "outputs": [],
   "source": []
  },
  {
   "cell_type": "markdown",
   "metadata": {},
   "source": [
    "# 制約式\n",
    "- クラスに必ず割り当てる\n",
    "$$ \\sum_{c\\in C} x_{s, c} = 1 \\quad (s\\in S) $$\n",
    "- クラス人数\n",
    "$$ \\sum_{s\\in S} x_{s, c} \\ge 39, \\ \\sum_{s\\in S} x_{s, c} \\le 40 \\quad (c\\in C) $$\n",
    "- 男女人数\n",
    "$$ \\sum_{s\\in S_{male}} x_{s, c} \\le 20, \\ \\sum_{s\\in S_{female}} x_{s, c} \\le 20 \\quad (c\\in C) $$\n",
    "- リーダーとサポート人数\n",
    "$$ \\sum_{s\\in S_{leader}} x_{s, c} \\ge 2, \\ \\sum_{s\\in S_{support}} x_{s, c} \\le 1 \\quad (c\\in C) $$\n",
    "$$ score mean - 10 <= \\frac{\\sum_{s\\in S}x_{s, c} \\times score_s}{\\sum_{s\\in S}x_{s, c}} $$\n",
    "$$ score mean + 10 <= \\frac{\\sum_{s\\in S}x_{s, c} \\times score_s}{\\sum_{s\\in S}x_{s, c}} $$\n",
    "$$  $$\n"
   ]
  }
 ],
 "metadata": {
  "kernelspec": {
   "display_name": "Python 3",
   "language": "python",
   "name": "python3"
  },
  "language_info": {
   "codemirror_mode": {
    "name": "ipython",
    "version": 3
   },
   "file_extension": ".py",
   "mimetype": "text/x-python",
   "name": "python",
   "nbconvert_exporter": "python",
   "pygments_lexer": "ipython3",
   "version": "3.11.9"
  }
 },
 "nbformat": 4,
 "nbformat_minor": 2
}
