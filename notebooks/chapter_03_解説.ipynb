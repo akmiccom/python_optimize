{
 "cells": [
  {
   "cell_type": "markdown",
   "metadata": {},
   "source": [
    "#### クラス編成\n",
    "- 課題整理(条件)\n",
    "  - 全生徒を1つのクラスに割り当てる\n",
    "  - クラス人数は39人以上40人以下\n",
    "  - 男子生徒、女子生徒は20人以下\n",
    "  - 学力試験のクラス平均点は学年平均の±10点\n",
    "  - リーダ気質の生徒を2人以上\n",
    "  - 特別支援生徒は1人以下\n",
    "  - 特定ペアの生徒は別クラスとする"
   ]
  },
  {
   "cell_type": "markdown",
   "metadata": {},
   "source": [
    "- List\n",
    "  - $S$ : Students list\n",
    "  - $C$ : Class list\n",
    "  - $S_{male}$ : Men list\n",
    "  - $S_{female}$ : Women list\n",
    "  - $S_{leader}$ : leaders list\n",
    "  - $S_{support}$ : supports list\n",
    "  - $S_{specific}$ : Specific Pairs list\n",
    "- Variable\n",
    "  - $x_{s,c} \\in \\{0, 1\\} (s\\in S, c\\in C)$\n",
    "- Constant\n",
    "  - $score_s$ : Score of students\n",
    "  - $score_{mean}$ : Score of mean\n",
    "- Constraints\n",
    "  1. $\\sum_{c\\in C} x_{s,c} = 1 \\quad (s \\in S)$\n",
    "  2. $\\sum_{s\\in S} x_{s,c} \\ge 39 \\quad (c \\in C), \\quad \\sum_{s\\in S} x_{s,c} \\le 40 \\quad (c \\in C)$\n",
    "  3. $\\sum_{s\\in S_{male}} x_{s,c} \\le 20 \\quad (c \\in C), \\quad \\sum_{s\\in S_{female}} x_{s,c} \\le 20 \\quad (c \\in C)$\n",
    "  4. $\\sum_{S_{leader}}x_{s,c} \\le 2$\n",
    "  5. $\\sum_{S_{support}}x_{s,c} \\le 1$\n",
    "  6. $(score_{mean}-10) \\cdot \\sum_{s\\in S} x_{s,c} \\ge \\sum_{s\\in S} score_s \\cdot x_{s,c}, \\quad \\sum_{s\\in S} score_s \\cdot x_{s,c} \\le (score_{mean}+10) \\cdot \\sum_{s\\in S} x_{s,c}$\n",
    "  7. $x_{s1,c} + x_{s2,c} \\le 1$\n",
    "- Objective\n",
    "  - None(Maximize)"
   ]
  },
  {
   "cell_type": "code",
   "execution_count": 1,
   "metadata": {},
   "outputs": [],
   "source": [
    "from pulp import LpProblem, LpVariable, LpMaximize, LpStatus, lpSum\n",
    "import pandas as pd\n",
    "import numpy as np\n",
    "import matplotlib.pyplot as plt\n",
    "from glob import glob\n",
    "import math\n",
    "from itertools import product"
   ]
  },
  {
   "cell_type": "code",
   "execution_count": 2,
   "metadata": {},
   "outputs": [],
   "source": [
    "glob('../*/*school/*.csv')\n",
    "students_df = pd.read_csv(glob('../*/*school/students.csv')[0])\n",
    "student_pairs_df = pd.read_csv(glob('../*/*school/student_pairs.csv')[0])"
   ]
  },
  {
   "cell_type": "code",
   "execution_count": 3,
   "metadata": {},
   "outputs": [
    {
     "data": {
      "text/html": [
       "<div>\n",
       "<style scoped>\n",
       "    .dataframe tbody tr th:only-of-type {\n",
       "        vertical-align: middle;\n",
       "    }\n",
       "\n",
       "    .dataframe tbody tr th {\n",
       "        vertical-align: top;\n",
       "    }\n",
       "\n",
       "    .dataframe thead th {\n",
       "        text-align: right;\n",
       "    }\n",
       "</style>\n",
       "<table border=\"1\" class=\"dataframe\">\n",
       "  <thead>\n",
       "    <tr style=\"text-align: right;\">\n",
       "      <th></th>\n",
       "      <th>student_id</th>\n",
       "      <th>gender</th>\n",
       "      <th>leader_flag</th>\n",
       "      <th>support_flag</th>\n",
       "      <th>score</th>\n",
       "    </tr>\n",
       "  </thead>\n",
       "  <tbody>\n",
       "    <tr>\n",
       "      <th>0</th>\n",
       "      <td>1</td>\n",
       "      <td>0</td>\n",
       "      <td>0</td>\n",
       "      <td>0</td>\n",
       "      <td>335</td>\n",
       "    </tr>\n",
       "    <tr>\n",
       "      <th>1</th>\n",
       "      <td>2</td>\n",
       "      <td>1</td>\n",
       "      <td>0</td>\n",
       "      <td>0</td>\n",
       "      <td>379</td>\n",
       "    </tr>\n",
       "    <tr>\n",
       "      <th>2</th>\n",
       "      <td>3</td>\n",
       "      <td>0</td>\n",
       "      <td>0</td>\n",
       "      <td>0</td>\n",
       "      <td>350</td>\n",
       "    </tr>\n",
       "  </tbody>\n",
       "</table>\n",
       "</div>"
      ],
      "text/plain": [
       "   student_id  gender  leader_flag  support_flag  score\n",
       "0           1       0            0             0    335\n",
       "1           2       1            0             0    379\n",
       "2           3       0            0             0    350"
      ]
     },
     "execution_count": 3,
     "metadata": {},
     "output_type": "execute_result"
    }
   ],
   "source": [
    "students_df.head(3)"
   ]
  },
  {
   "cell_type": "code",
   "execution_count": 4,
   "metadata": {},
   "outputs": [
    {
     "data": {
      "text/plain": [
       "318"
      ]
     },
     "execution_count": 4,
     "metadata": {},
     "output_type": "execute_result"
    }
   ],
   "source": [
    "students_df['student_id'].nunique()"
   ]
  },
  {
   "cell_type": "code",
   "execution_count": 5,
   "metadata": {},
   "outputs": [
    {
     "data": {
      "text/plain": [
       "gender\n",
       "0    160\n",
       "1    158\n",
       "Name: count, dtype: int64"
      ]
     },
     "execution_count": 5,
     "metadata": {},
     "output_type": "execute_result"
    }
   ],
   "source": [
    "students_df['gender'].value_counts()"
   ]
  },
  {
   "cell_type": "code",
   "execution_count": 6,
   "metadata": {},
   "outputs": [
    {
     "data": {
      "text/plain": [
       "leader_flag\n",
       "0    301\n",
       "1     17\n",
       "Name: count, dtype: int64"
      ]
     },
     "execution_count": 6,
     "metadata": {},
     "output_type": "execute_result"
    }
   ],
   "source": [
    "students_df['leader_flag'].value_counts()"
   ]
  },
  {
   "cell_type": "code",
   "execution_count": 7,
   "metadata": {},
   "outputs": [
    {
     "data": {
      "text/plain": [
       "support_flag\n",
       "0    314\n",
       "1      4\n",
       "Name: count, dtype: int64"
      ]
     },
     "execution_count": 7,
     "metadata": {},
     "output_type": "execute_result"
    }
   ],
   "source": [
    "students_df['support_flag'].value_counts()"
   ]
  },
  {
   "cell_type": "code",
   "execution_count": 8,
   "metadata": {},
   "outputs": [
    {
     "data": {
      "text/plain": [
       "count    318.000000\n",
       "mean     303.644654\n",
       "std       65.179995\n",
       "min       88.000000\n",
       "25%      261.000000\n",
       "50%      310.000000\n",
       "75%      350.000000\n",
       "max      485.000000\n",
       "Name: score, dtype: float64"
      ]
     },
     "execution_count": 8,
     "metadata": {},
     "output_type": "execute_result"
    }
   ],
   "source": [
    "students_df['score'].describe()"
   ]
  },
  {
   "cell_type": "code",
   "execution_count": 9,
   "metadata": {},
   "outputs": [
    {
     "data": {
      "text/plain": [
       "<Axes: >"
      ]
     },
     "execution_count": 9,
     "metadata": {},
     "output_type": "execute_result"
    },
    {
     "data": {
      "image/png": "[encoded data removed]",
      "text/plain": [
       "<Figure size 640x480 with 1 Axes>"
      ]
     },
     "metadata": {},
     "output_type": "display_data"
    }
   ],
   "source": [
    "students_df['score'].hist()"
   ]
  },
  {
   "cell_type": "code",
   "execution_count": 10,
   "metadata": {},
   "outputs": [
    {
     "data": {
      "text/html": [
       "<div>\n",
       "<style scoped>\n",
       "    .dataframe tbody tr th:only-of-type {\n",
       "        vertical-align: middle;\n",
       "    }\n",
       "\n",
       "    .dataframe tbody tr th {\n",
       "        vertical-align: top;\n",
       "    }\n",
       "\n",
       "    .dataframe thead th {\n",
       "        text-align: right;\n",
       "    }\n",
       "</style>\n",
       "<table border=\"1\" class=\"dataframe\">\n",
       "  <thead>\n",
       "    <tr style=\"text-align: right;\">\n",
       "      <th></th>\n",
       "      <th>student_id1</th>\n",
       "      <th>student_id2</th>\n",
       "    </tr>\n",
       "  </thead>\n",
       "  <tbody>\n",
       "    <tr>\n",
       "      <th>0</th>\n",
       "      <td>118</td>\n",
       "      <td>189</td>\n",
       "    </tr>\n",
       "    <tr>\n",
       "      <th>1</th>\n",
       "      <td>72</td>\n",
       "      <td>50</td>\n",
       "    </tr>\n",
       "    <tr>\n",
       "      <th>2</th>\n",
       "      <td>314</td>\n",
       "      <td>233</td>\n",
       "    </tr>\n",
       "  </tbody>\n",
       "</table>\n",
       "</div>"
      ],
      "text/plain": [
       "   student_id1  student_id2\n",
       "0          118          189\n",
       "1           72           50\n",
       "2          314          233"
      ]
     },
     "execution_count": 10,
     "metadata": {},
     "output_type": "execute_result"
    }
   ],
   "source": [
    "student_pairs_df.head()"
   ]
  },
  {
   "cell_type": "markdown",
   "metadata": {},
   "source": [
    "条件をデータフレームに整理"
   ]
  },
  {
   "cell_type": "code",
   "execution_count": 11,
   "metadata": {},
   "outputs": [
    {
     "data": {
      "text/html": [
       "<div>\n",
       "<style scoped>\n",
       "    .dataframe tbody tr th:only-of-type {\n",
       "        vertical-align: middle;\n",
       "    }\n",
       "\n",
       "    .dataframe tbody tr th {\n",
       "        vertical-align: top;\n",
       "    }\n",
       "\n",
       "    .dataframe thead th {\n",
       "        text-align: right;\n",
       "    }\n",
       "</style>\n",
       "<table border=\"1\" class=\"dataframe\">\n",
       "  <thead>\n",
       "    <tr style=\"text-align: right;\">\n",
       "      <th></th>\n",
       "      <th>A</th>\n",
       "      <th>B</th>\n",
       "      <th>C</th>\n",
       "      <th>D</th>\n",
       "      <th>E</th>\n",
       "      <th>F</th>\n",
       "      <th>G</th>\n",
       "      <th>H</th>\n",
       "      <th>score</th>\n",
       "      <th>total</th>\n",
       "    </tr>\n",
       "  </thead>\n",
       "  <tbody>\n",
       "    <tr>\n",
       "      <th>ID 001</th>\n",
       "      <td>0.0</td>\n",
       "      <td>0.0</td>\n",
       "      <td>0.0</td>\n",
       "      <td>0.0</td>\n",
       "      <td>0.0</td>\n",
       "      <td>0.0</td>\n",
       "      <td>0.0</td>\n",
       "      <td>0.0</td>\n",
       "      <td>335</td>\n",
       "      <td>1</td>\n",
       "    </tr>\n",
       "    <tr>\n",
       "      <th>ID 002</th>\n",
       "      <td>0.0</td>\n",
       "      <td>0.0</td>\n",
       "      <td>0.0</td>\n",
       "      <td>0.0</td>\n",
       "      <td>0.0</td>\n",
       "      <td>0.0</td>\n",
       "      <td>0.0</td>\n",
       "      <td>0.0</td>\n",
       "      <td>379</td>\n",
       "      <td>1</td>\n",
       "    </tr>\n",
       "    <tr>\n",
       "      <th>ID 003</th>\n",
       "      <td>0.0</td>\n",
       "      <td>0.0</td>\n",
       "      <td>0.0</td>\n",
       "      <td>0.0</td>\n",
       "      <td>0.0</td>\n",
       "      <td>0.0</td>\n",
       "      <td>0.0</td>\n",
       "      <td>0.0</td>\n",
       "      <td>350</td>\n",
       "      <td>1</td>\n",
       "    </tr>\n",
       "    <tr>\n",
       "      <th>ID 004</th>\n",
       "      <td>0.0</td>\n",
       "      <td>0.0</td>\n",
       "      <td>0.0</td>\n",
       "      <td>0.0</td>\n",
       "      <td>0.0</td>\n",
       "      <td>0.0</td>\n",
       "      <td>0.0</td>\n",
       "      <td>0.0</td>\n",
       "      <td>301</td>\n",
       "      <td>1</td>\n",
       "    </tr>\n",
       "    <tr>\n",
       "      <th>ID 005</th>\n",
       "      <td>0.0</td>\n",
       "      <td>0.0</td>\n",
       "      <td>0.0</td>\n",
       "      <td>0.0</td>\n",
       "      <td>0.0</td>\n",
       "      <td>0.0</td>\n",
       "      <td>0.0</td>\n",
       "      <td>0.0</td>\n",
       "      <td>317</td>\n",
       "      <td>1</td>\n",
       "    </tr>\n",
       "  </tbody>\n",
       "</table>\n",
       "</div>"
      ],
      "text/plain": [
       "          A    B    C    D    E    F    G    H  score  total\n",
       "ID 001  0.0  0.0  0.0  0.0  0.0  0.0  0.0  0.0    335      1\n",
       "ID 002  0.0  0.0  0.0  0.0  0.0  0.0  0.0  0.0    379      1\n",
       "ID 003  0.0  0.0  0.0  0.0  0.0  0.0  0.0  0.0    350      1\n",
       "ID 004  0.0  0.0  0.0  0.0  0.0  0.0  0.0  0.0    301      1\n",
       "ID 005  0.0  0.0  0.0  0.0  0.0  0.0  0.0  0.0    317      1"
      ]
     },
     "metadata": {},
     "output_type": "display_data"
    },
    {
     "data": {
      "text/html": [
       "<div>\n",
       "<style scoped>\n",
       "    .dataframe tbody tr th:only-of-type {\n",
       "        vertical-align: middle;\n",
       "    }\n",
       "\n",
       "    .dataframe tbody tr th {\n",
       "        vertical-align: top;\n",
       "    }\n",
       "\n",
       "    .dataframe thead th {\n",
       "        text-align: right;\n",
       "    }\n",
       "</style>\n",
       "<table border=\"1\" class=\"dataframe\">\n",
       "  <thead>\n",
       "    <tr style=\"text-align: right;\">\n",
       "      <th></th>\n",
       "      <th>max</th>\n",
       "      <th>min</th>\n",
       "      <th>men_max</th>\n",
       "      <th>women_max</th>\n",
       "      <th>leader_min</th>\n",
       "      <th>supprot_max</th>\n",
       "      <th>s1+s2_max</th>\n",
       "      <th>score_max</th>\n",
       "      <th>score_max</th>\n",
       "    </tr>\n",
       "  </thead>\n",
       "  <tbody>\n",
       "    <tr>\n",
       "      <th>Conditon</th>\n",
       "      <td>40.0</td>\n",
       "      <td>39.0</td>\n",
       "      <td>20.0</td>\n",
       "      <td>20.0</td>\n",
       "      <td>2.0</td>\n",
       "      <td>1.0</td>\n",
       "      <td>1.0</td>\n",
       "      <td>313.644654</td>\n",
       "      <td>293.644654</td>\n",
       "    </tr>\n",
       "  </tbody>\n",
       "</table>\n",
       "</div>"
      ],
      "text/plain": [
       "           max   min  men_max  women_max  leader_min  supprot_max  s1+s2_max  \\\n",
       "Conditon  40.0  39.0     20.0       20.0         2.0          1.0        1.0   \n",
       "\n",
       "           score_max   score_max  \n",
       "Conditon  313.644654  293.644654  "
      ]
     },
     "execution_count": 11,
     "metadata": {},
     "output_type": "execute_result"
    }
   ],
   "source": [
    "class_structure = np.zeros((318, 8))\n",
    "df = pd.DataFrame(\n",
    "    class_structure,\n",
    "    index=[f'ID {i+1:03}' for i in range(318)],\n",
    "    columns=[chr(i+65) for i in range(8)],\n",
    "    )\n",
    "df['score'] = students_df['score'].to_list()\n",
    "df['total'] = 1\n",
    "display(df.head(5))\n",
    "\n",
    "\n",
    "conditon_df = pd.DataFrame([40, 39, 20, 20, 2, 1, 1, students_df['score'].mean()+10, students_df['score'].mean()-10, ])\n",
    "conditon_df.columns = ['Conditon']\n",
    "conditon_df.index = ['max', 'min', 'men_max', 'women_max', 'leader_min', 'supprot_max', 's1+s2_max', 'score_max', 'score_max']\n",
    "conditon_df.T"
   ]
  },
  {
   "cell_type": "markdown",
   "metadata": {},
   "source": [
    "数理モデル定義"
   ]
  },
  {
   "cell_type": "code",
   "execution_count": 12,
   "metadata": {},
   "outputs": [],
   "source": [
    "prob = LpProblem('ClassAssignmentProblem', LpMaximize)"
   ]
  },
  {
   "cell_type": "markdown",
   "metadata": {},
   "source": [
    "変数定義"
   ]
  },
  {
   "cell_type": "code",
   "execution_count": 13,
   "metadata": {},
   "outputs": [
    {
     "name": "stdout",
     "output_type": "stream",
     "text": [
      "x_(1,_'A')\n",
      "x_(2,_'A')\n",
      "x_(3,_'A')\n",
      "..........\n"
     ]
    }
   ],
   "source": [
    "S = students_df['student_id'].to_list()\n",
    "class_num = math.ceil(students_df['student_id'].count()/40)\n",
    "C = [chr(i+65) for i in range(class_num)]\n",
    "SC = list(product(S, C))\n",
    "\n",
    "x = LpVariable.dicts('x', SC, cat='Binary')\n",
    "for i in range(3):\n",
    "    print(x[i+1, 'A'])\n",
    "print('.'*10)"
   ]
  },
  {
   "cell_type": "code",
   "execution_count": 14,
   "metadata": {},
   "outputs": [],
   "source": [
    "S = students_df['student_id'].to_list()\n",
    "class_num = math.ceil(students_df['student_id'].count()/40)\n",
    "C = [chr(i+65) for i in range(class_num)]\n",
    "SC = [(s, c) for s in S for c in C]\n",
    "SC = product(S, C)\n",
    "\n",
    "x = LpVariable.dicts('x', SC, cat='Binary')"
   ]
  },
  {
   "cell_type": "markdown",
   "metadata": {},
   "source": [
    "条件定義"
   ]
  },
  {
   "cell_type": "code",
   "execution_count": 15,
   "metadata": {},
   "outputs": [],
   "source": [
    "# 男女別 ID \n",
    "S_men = students_df['student_id'][students_df['gender'] == 1]\n",
    "S_women = students_df['student_id'][students_df['gender'] == 0]\n",
    "# リーダー ID \n",
    "S_leader = students_df['student_id'][students_df['leader_flag'] == 1]\n",
    "# サポート ID \n",
    "S_support = students_df['student_id'][students_df['support_flag'] == 1]\n",
    "# 平均値と得点リスト\n",
    "score_mean = students_df['score'].mean()\n",
    "score = students_df.set_index('student_id').to_dict()['score']"
   ]
  },
  {
   "cell_type": "code",
   "execution_count": 16,
   "metadata": {},
   "outputs": [],
   "source": [
    "# 行の合計を 1 にする\n",
    "for s in S:\n",
    "    prob += lpSum([x[s, c] for c in C]) == 1"
   ]
  },
  {
   "cell_type": "code",
   "execution_count": 17,
   "metadata": {},
   "outputs": [],
   "source": [
    "for c in C:\n",
    "    # 列の合計を 39以上、40以下にする\n",
    "    prob += lpSum([x[s, c] for s in S]) >= 39\n",
    "    prob += lpSum([x[s, c] for s in S]) <= 40\n",
    "\n",
    "    # 列の合計で男女それぞれ20以下とする\n",
    "    prob += lpSum([x[s, c] for s in S_men]) <= 20\n",
    "    prob += lpSum([x[s, c] for s in S_women]) <= 20\n",
    "\n",
    "    # 列合計でリーダ計を 2 以上とする\n",
    "    prob += lpSum([x[s, c] for s in S_leader]) >= 2\n",
    "\n",
    "    # 列合計でサポート計を 1 以下とする\n",
    "    prob += lpSum([x[s, c] for s in S_support]) <= 1\n",
    "\n",
    "    # 平均点差 ±10点\n",
    "    prob += (score_mean - 10) * lpSum([x[s, c] for s in S]) <= lpSum([x[s, c]*score[s] for s in S])\n",
    "    prob += (score_mean + 10) * lpSum([x[s, c] for s in S]) >= lpSum([x[s, c]*score[s] for s in S])"
   ]
  },
  {
   "cell_type": "code",
   "execution_count": 18,
   "metadata": {},
   "outputs": [],
   "source": [
    "# 列合計で特定ペア計が 1 以下とする\n",
    "SS = [(r.student_id1, r.student_id2) for r in student_pairs_df.itertuples()]\n",
    "for s1, s2, in SS:\n",
    "    for c in C:\n",
    "        prob += x[s1, c] + x[s2, c] <= 1"
   ]
  },
  {
   "cell_type": "markdown",
   "metadata": {},
   "source": [
    "求解と結果表示"
   ]
  },
  {
   "cell_type": "code",
   "execution_count": 19,
   "metadata": {},
   "outputs": [
    {
     "name": "stdout",
     "output_type": "stream",
     "text": [
      "1\n",
      "Status: Optimal\n",
      "Class: A\n",
      "Num: 40\n",
      "Students: [2, 9, 19, 39, 42, 63, 65, 71, 79, 83, 85, 88, 99, 101, 109, 111, 123, 126, 136, 138, 145, 148, 165, 168, 173, 177, 179, 180, 193, 199, 206, 224, 233, 240, 246, 264, 267, 291, 292, 298]\n",
      "\n",
      "Class: B\n",
      "Num: 40\n",
      "Students: [11, 15, 43, 48, 50, 70, 82, 89, 91, 102, 104, 114, 120, 121, 124, 127, 134, 146, 149, 159, 167, 170, 172, 176, 190, 203, 213, 220, 222, 231, 238, 245, 263, 270, 275, 276, 283, 287, 290, 317]\n",
      "\n",
      "Class: C\n",
      "Num: 40\n",
      "Students: [3, 10, 14, 23, 27, 31, 41, 49, 53, 54, 58, 73, 93, 94, 97, 98, 113, 122, 152, 156, 160, 171, 187, 210, 211, 217, 219, 227, 235, 236, 242, 254, 258, 260, 268, 273, 277, 278, 301, 318]\n",
      "\n",
      "Class: D\n",
      "Num: 40\n",
      "Students: [13, 16, 33, 36, 37, 51, 56, 59, 61, 67, 68, 75, 84, 92, 107, 108, 128, 139, 140, 144, 158, 161, 175, 183, 192, 198, 200, 205, 221, 225, 241, 252, 255, 256, 257, 261, 266, 284, 293, 316]\n",
      "\n",
      "Class: E\n",
      "Num: 39\n",
      "Students: [4, 5, 21, 24, 38, 62, 69, 72, 78, 87, 96, 105, 106, 115, 132, 141, 143, 150, 154, 164, 166, 184, 189, 195, 196, 197, 243, 244, 247, 249, 250, 269, 271, 288, 300, 305, 309, 310, 315]\n",
      "\n",
      "Class: F\n",
      "Num: 40\n",
      "Students: [12, 17, 25, 40, 45, 46, 74, 76, 80, 95, 100, 103, 110, 112, 116, 119, 125, 129, 130, 135, 151, 153, 169, 178, 182, 185, 188, 202, 209, 230, 232, 237, 239, 272, 281, 282, 289, 303, 304, 306]\n",
      "\n",
      "Class: G\n",
      "Num: 40\n",
      "Students: [7, 18, 28, 32, 35, 44, 52, 55, 57, 60, 64, 66, 81, 117, 118, 131, 147, 155, 181, 186, 194, 204, 207, 208, 214, 215, 216, 223, 226, 228, 229, 262, 265, 279, 280, 296, 299, 308, 312, 313]\n",
      "\n",
      "Class: H\n",
      "Num: 39\n",
      "Students: [1, 6, 8, 20, 22, 26, 29, 30, 34, 47, 77, 86, 90, 133, 137, 142, 157, 162, 163, 174, 191, 201, 212, 218, 234, 248, 251, 253, 259, 274, 285, 286, 294, 295, 297, 302, 307, 311, 314]\n",
      "\n"
     ]
    }
   ],
   "source": [
    "status = prob.solve()\n",
    "print(status)\n",
    "print('Status:', LpStatus[status])\n",
    "\n",
    "C2Ss = {}\n",
    "for c in C:\n",
    "    C2Ss[c] = [s for s in S if x[s, c].value() == 1]\n",
    "    \n",
    "for c, Ss in C2Ss.items():\n",
    "    print(f'Class: {c}')\n",
    "    print(f'Num: {len(Ss)}')\n",
    "    print(f'Students: {Ss}')\n",
    "    print()"
   ]
  }
 ],
 "metadata": {
  "kernelspec": {
   "display_name": "Python 3",
   "language": "python",
   "name": "python3"
  },
  "language_info": {
   "codemirror_mode": {
    "name": "ipython",
    "version": 3
   },
   "file_extension": ".py",
   "mimetype": "text/x-python",
   "name": "python",
   "nbconvert_exporter": "python",
   "pygments_lexer": "ipython3",
   "version": "3.11.9"
  }
 },
 "nbformat": 4,
 "nbformat_minor": 2
}
