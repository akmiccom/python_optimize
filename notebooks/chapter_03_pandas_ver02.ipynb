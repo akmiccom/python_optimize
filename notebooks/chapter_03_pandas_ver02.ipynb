{
 "cells": [
  {
   "cell_type": "markdown",
   "metadata": {},
   "source": [
    "#### クラス編成\n",
    "- 課題整理(条件)\n",
    "  - 全生徒を1つのクラスに割り当てる\n",
    "  - クラス人数は39人以上40人以下\n",
    "  - 男子生徒、女子生徒は20人以下\n",
    "  - 学力試験のクラス平均点は学年平均の±10点\n",
    "  - リーダ気質の生徒を2人以上\n",
    "  - 特別支援生徒は1人以下\n",
    "  - 特定ペアの生徒は別クラスとする"
   ]
  },
  {
   "cell_type": "markdown",
   "metadata": {},
   "source": [
    "- List\n",
    "  - $S$ : Students list\n",
    "  - $C$ : Class list\n",
    "  - $S_{male}$ : Men list\n",
    "  - $S_{female}$ : Women list\n",
    "  - $S_{leader}$ : leaders list\n",
    "  - $S_{support}$ : supports list\n",
    "  - $S_{specific}$ : Specific Pairs list\n",
    "- Variable\n",
    "  - $x_{s,c} \\in \\{0, 1\\} (s\\in S, c\\in C)$\n",
    "- Constant\n",
    "  - $score_s$ : Score of students\n",
    "  - $score_{mean}$ : Score of mean\n",
    "- Constraints\n",
    "  1. $\\sum_{c\\in C} x_{s,c} = 1 \\quad (s \\in S)$\n",
    "  2. $\\sum_{s\\in S} x_{s,c} \\ge 39 \\quad (c \\in C), \\quad \\sum_{s\\in S} x_{s,c} \\le 40 \\quad (c \\in C)$\n",
    "  3. $\\sum_{s\\in S_{male}} x_{s,c} \\le 20 \\quad (c \\in C), \\quad \\sum_{s\\in S_{female}} x_{s,c} \\le 20 \\quad (c \\in C)$\n",
    "  4. $\\sum_{S_{leader}}x_{s,c} \\le 2$\n",
    "  5. $\\sum_{S_{support}}x_{s,c} \\le 1$\n",
    "  6. $(score_{mean}-10) \\cdot \\sum_{s\\in S} x_{s,c} \\ge \\sum_{s\\in S} score_s \\cdot x_{s,c}, \\quad \\sum_{s\\in S} score_s \\cdot x_{s,c} \\le (score_{mean}+10) \\cdot \\sum_{s\\in S} x_{s,c}$\n",
    "  7. $x_{s1,c} + x_{s2,c} \\le 1$\n",
    "- Objective\n",
    "  - None(Maximize)"
   ]
  },
  {
   "cell_type": "code",
   "execution_count": 1,
   "metadata": {},
   "outputs": [],
   "source": [
    "from pulp import LpProblem, LpVariable, LpMaximize, LpStatus, lpSum, value\n",
    "import pandas as pd\n",
    "import numpy as np\n",
    "import matplotlib.pyplot as plt\n",
    "from glob import glob\n",
    "import math\n",
    "import time"
   ]
  },
  {
   "cell_type": "code",
   "execution_count": 2,
   "metadata": {},
   "outputs": [
    {
     "name": "stdout",
     "output_type": "stream",
     "text": [
      "['..\\\\PyOptBook-main\\\\3.school\\\\students.csv', '..\\\\PyOptBook-main\\\\3.school\\\\student_pairs.csv']\n"
     ]
    },
    {
     "data": {
      "text/html": [
       "<div>\n",
       "<style scoped>\n",
       "    .dataframe tbody tr th:only-of-type {\n",
       "        vertical-align: middle;\n",
       "    }\n",
       "\n",
       "    .dataframe tbody tr th {\n",
       "        vertical-align: top;\n",
       "    }\n",
       "\n",
       "    .dataframe thead th {\n",
       "        text-align: right;\n",
       "    }\n",
       "</style>\n",
       "<table border=\"1\" class=\"dataframe\">\n",
       "  <thead>\n",
       "    <tr style=\"text-align: right;\">\n",
       "      <th></th>\n",
       "      <th>student_id</th>\n",
       "      <th>gender</th>\n",
       "      <th>leader_flag</th>\n",
       "      <th>support_flag</th>\n",
       "      <th>score</th>\n",
       "    </tr>\n",
       "  </thead>\n",
       "  <tbody>\n",
       "    <tr>\n",
       "      <th>0</th>\n",
       "      <td>1</td>\n",
       "      <td>0</td>\n",
       "      <td>0</td>\n",
       "      <td>0</td>\n",
       "      <td>335</td>\n",
       "    </tr>\n",
       "    <tr>\n",
       "      <th>1</th>\n",
       "      <td>2</td>\n",
       "      <td>1</td>\n",
       "      <td>0</td>\n",
       "      <td>0</td>\n",
       "      <td>379</td>\n",
       "    </tr>\n",
       "    <tr>\n",
       "      <th>2</th>\n",
       "      <td>3</td>\n",
       "      <td>0</td>\n",
       "      <td>0</td>\n",
       "      <td>0</td>\n",
       "      <td>350</td>\n",
       "    </tr>\n",
       "  </tbody>\n",
       "</table>\n",
       "</div>"
      ],
      "text/plain": [
       "   student_id  gender  leader_flag  support_flag  score\n",
       "0           1       0            0             0    335\n",
       "1           2       1            0             0    379\n",
       "2           3       0            0             0    350"
      ]
     },
     "metadata": {},
     "output_type": "display_data"
    },
    {
     "data": {
      "text/html": [
       "<div>\n",
       "<style scoped>\n",
       "    .dataframe tbody tr th:only-of-type {\n",
       "        vertical-align: middle;\n",
       "    }\n",
       "\n",
       "    .dataframe tbody tr th {\n",
       "        vertical-align: top;\n",
       "    }\n",
       "\n",
       "    .dataframe thead th {\n",
       "        text-align: right;\n",
       "    }\n",
       "</style>\n",
       "<table border=\"1\" class=\"dataframe\">\n",
       "  <thead>\n",
       "    <tr style=\"text-align: right;\">\n",
       "      <th></th>\n",
       "      <th>student_id1</th>\n",
       "      <th>student_id2</th>\n",
       "    </tr>\n",
       "  </thead>\n",
       "  <tbody>\n",
       "    <tr>\n",
       "      <th>0</th>\n",
       "      <td>118</td>\n",
       "      <td>189</td>\n",
       "    </tr>\n",
       "    <tr>\n",
       "      <th>1</th>\n",
       "      <td>72</td>\n",
       "      <td>50</td>\n",
       "    </tr>\n",
       "    <tr>\n",
       "      <th>2</th>\n",
       "      <td>314</td>\n",
       "      <td>233</td>\n",
       "    </tr>\n",
       "  </tbody>\n",
       "</table>\n",
       "</div>"
      ],
      "text/plain": [
       "   student_id1  student_id2\n",
       "0          118          189\n",
       "1           72           50\n",
       "2          314          233"
      ]
     },
     "metadata": {},
     "output_type": "display_data"
    }
   ],
   "source": [
    "print(glob('../*/*school/*.csv'))\n",
    "\n",
    "students_df = pd.read_csv(glob('../*/*school/students.csv')[0])\n",
    "pairs_df = pd.read_csv(glob('../*/*school/student_pairs.csv')[0])\n",
    "\n",
    "display(students_df.head(3))\n",
    "display(pairs_df)"
   ]
  },
  {
   "cell_type": "code",
   "execution_count": 3,
   "metadata": {},
   "outputs": [
    {
     "data": {
      "text/html": [
       "<div>\n",
       "<style scoped>\n",
       "    .dataframe tbody tr th:only-of-type {\n",
       "        vertical-align: middle;\n",
       "    }\n",
       "\n",
       "    .dataframe tbody tr th {\n",
       "        vertical-align: top;\n",
       "    }\n",
       "\n",
       "    .dataframe thead th {\n",
       "        text-align: right;\n",
       "    }\n",
       "</style>\n",
       "<table border=\"1\" class=\"dataframe\">\n",
       "  <thead>\n",
       "    <tr style=\"text-align: right;\">\n",
       "      <th></th>\n",
       "      <th>id</th>\n",
       "      <th>gender</th>\n",
       "      <th>leader</th>\n",
       "      <th>support</th>\n",
       "      <th>score</th>\n",
       "      <th>rank</th>\n",
       "      <th>init_class</th>\n",
       "    </tr>\n",
       "  </thead>\n",
       "  <tbody>\n",
       "    <tr>\n",
       "      <th>0</th>\n",
       "      <td>1</td>\n",
       "      <td>0</td>\n",
       "      <td>0</td>\n",
       "      <td>0</td>\n",
       "      <td>335</td>\n",
       "      <td>109.0</td>\n",
       "      <td>F</td>\n",
       "    </tr>\n",
       "    <tr>\n",
       "      <th>1</th>\n",
       "      <td>2</td>\n",
       "      <td>1</td>\n",
       "      <td>0</td>\n",
       "      <td>0</td>\n",
       "      <td>379</td>\n",
       "      <td>38.0</td>\n",
       "      <td>G</td>\n",
       "    </tr>\n",
       "    <tr>\n",
       "      <th>2</th>\n",
       "      <td>3</td>\n",
       "      <td>0</td>\n",
       "      <td>0</td>\n",
       "      <td>0</td>\n",
       "      <td>350</td>\n",
       "      <td>79.0</td>\n",
       "      <td>H</td>\n",
       "    </tr>\n",
       "  </tbody>\n",
       "</table>\n",
       "</div>"
      ],
      "text/plain": [
       "   id  gender  leader  support  score   rank init_class\n",
       "0   1       0       0        0    335  109.0          F\n",
       "1   2       1       0        0    379   38.0          G\n",
       "2   3       0       0        0    350   79.0          H"
      ]
     },
     "execution_count": 3,
     "metadata": {},
     "output_type": "execute_result"
    }
   ],
   "source": [
    "# initial value\n",
    "student_num = students_df['student_id'].count()\n",
    "max_in_class = 40\n",
    "class_num = math.ceil(student_num / max_in_class)\n",
    "class_dict = {i:chr(i+65) for i in range(class_num)}\n",
    "\n",
    "# rank, init_class を追加\n",
    "students_df2 = students_df.copy()\n",
    "students_df2.columns = ['id', 'gender', 'leader', 'support', 'score']\n",
    "\n",
    "students_df2['rank'] = students_df2['score'].rank(ascending=False, method='first')\n",
    "students_df2['init_class'] = students_df2['rank'].map(lambda x: x % 8).map(class_dict)\n",
    "\n",
    "students_df2.head(3)"
   ]
  },
  {
   "cell_type": "code",
   "execution_count": 4,
   "metadata": {},
   "outputs": [
    {
     "name": "stdout",
     "output_type": "stream",
     "text": [
      "(2544, 9)\n"
     ]
    },
    {
     "data": {
      "text/html": [
       "<div>\n",
       "<style scoped>\n",
       "    .dataframe tbody tr th:only-of-type {\n",
       "        vertical-align: middle;\n",
       "    }\n",
       "\n",
       "    .dataframe tbody tr th {\n",
       "        vertical-align: top;\n",
       "    }\n",
       "\n",
       "    .dataframe thead th {\n",
       "        text-align: right;\n",
       "    }\n",
       "</style>\n",
       "<table border=\"1\" class=\"dataframe\">\n",
       "  <thead>\n",
       "    <tr style=\"text-align: right;\">\n",
       "      <th></th>\n",
       "      <th>id</th>\n",
       "      <th>gender</th>\n",
       "      <th>leader</th>\n",
       "      <th>support</th>\n",
       "      <th>score</th>\n",
       "      <th>rank</th>\n",
       "      <th>init_class</th>\n",
       "      <th>class</th>\n",
       "      <th>flag</th>\n",
       "    </tr>\n",
       "  </thead>\n",
       "  <tbody>\n",
       "    <tr>\n",
       "      <th>0</th>\n",
       "      <td>1</td>\n",
       "      <td>0</td>\n",
       "      <td>0</td>\n",
       "      <td>0</td>\n",
       "      <td>335</td>\n",
       "      <td>109.0</td>\n",
       "      <td>F</td>\n",
       "      <td>A</td>\n",
       "      <td>False</td>\n",
       "    </tr>\n",
       "    <tr>\n",
       "      <th>1</th>\n",
       "      <td>2</td>\n",
       "      <td>1</td>\n",
       "      <td>0</td>\n",
       "      <td>0</td>\n",
       "      <td>379</td>\n",
       "      <td>38.0</td>\n",
       "      <td>G</td>\n",
       "      <td>A</td>\n",
       "      <td>False</td>\n",
       "    </tr>\n",
       "    <tr>\n",
       "      <th>2</th>\n",
       "      <td>3</td>\n",
       "      <td>0</td>\n",
       "      <td>0</td>\n",
       "      <td>0</td>\n",
       "      <td>350</td>\n",
       "      <td>79.0</td>\n",
       "      <td>H</td>\n",
       "      <td>A</td>\n",
       "      <td>False</td>\n",
       "    </tr>\n",
       "  </tbody>\n",
       "</table>\n",
       "</div>"
      ],
      "text/plain": [
       "   id  gender  leader  support  score   rank init_class class   flag\n",
       "0   1       0       0        0    335  109.0          F     A  False\n",
       "1   2       1       0        0    379   38.0          G     A  False\n",
       "2   3       0       0        0    350   79.0          H     A  False"
      ]
     },
     "metadata": {},
     "output_type": "display_data"
    }
   ],
   "source": [
    "# 変数作成のため、仮クラスを作成\n",
    "s_df = pd.DataFrame()\n",
    "for i in range(class_num):\n",
    "    tmp_df = students_df2.copy()\n",
    "    tmp_df['class'] = chr(i+65)\n",
    "    s_df = pd.concat([s_df, tmp_df])\n",
    "\n",
    "# init_class == class -> True\n",
    "s_df['flag'] = s_df['init_class'] == s_df['class']\n",
    "print(s_df.shape)\n",
    "display(s_df.head(3))"
   ]
  },
  {
   "cell_type": "code",
   "execution_count": 5,
   "metadata": {},
   "outputs": [
    {
     "name": "stdout",
     "output_type": "stream",
     "text": [
      "(2544, 12)\n"
     ]
    },
    {
     "data": {
      "text/html": [
       "<div>\n",
       "<style scoped>\n",
       "    .dataframe tbody tr th:only-of-type {\n",
       "        vertical-align: middle;\n",
       "    }\n",
       "\n",
       "    .dataframe tbody tr th {\n",
       "        vertical-align: top;\n",
       "    }\n",
       "\n",
       "    .dataframe thead th {\n",
       "        text-align: right;\n",
       "    }\n",
       "</style>\n",
       "<table border=\"1\" class=\"dataframe\">\n",
       "  <thead>\n",
       "    <tr style=\"text-align: right;\">\n",
       "      <th></th>\n",
       "      <th>id</th>\n",
       "      <th>gender</th>\n",
       "      <th>leader</th>\n",
       "      <th>support</th>\n",
       "      <th>score</th>\n",
       "      <th>rank</th>\n",
       "      <th>init_class</th>\n",
       "      <th>class</th>\n",
       "      <th>flag</th>\n",
       "      <th>variable</th>\n",
       "      <th>score*var</th>\n",
       "      <th>flag*var</th>\n",
       "    </tr>\n",
       "  </thead>\n",
       "  <tbody>\n",
       "    <tr>\n",
       "      <th>0</th>\n",
       "      <td>1</td>\n",
       "      <td>0</td>\n",
       "      <td>0</td>\n",
       "      <td>0</td>\n",
       "      <td>335</td>\n",
       "      <td>109.0</td>\n",
       "      <td>F</td>\n",
       "      <td>A</td>\n",
       "      <td>False</td>\n",
       "      <td>x001A</td>\n",
       "      <td>{x001A: 335}</td>\n",
       "      <td>{}</td>\n",
       "    </tr>\n",
       "    <tr>\n",
       "      <th>1</th>\n",
       "      <td>2</td>\n",
       "      <td>1</td>\n",
       "      <td>0</td>\n",
       "      <td>0</td>\n",
       "      <td>379</td>\n",
       "      <td>38.0</td>\n",
       "      <td>G</td>\n",
       "      <td>A</td>\n",
       "      <td>False</td>\n",
       "      <td>x002A</td>\n",
       "      <td>{x002A: 379}</td>\n",
       "      <td>{}</td>\n",
       "    </tr>\n",
       "    <tr>\n",
       "      <th>2</th>\n",
       "      <td>3</td>\n",
       "      <td>0</td>\n",
       "      <td>0</td>\n",
       "      <td>0</td>\n",
       "      <td>350</td>\n",
       "      <td>79.0</td>\n",
       "      <td>H</td>\n",
       "      <td>A</td>\n",
       "      <td>False</td>\n",
       "      <td>x003A</td>\n",
       "      <td>{x003A: 350}</td>\n",
       "      <td>{}</td>\n",
       "    </tr>\n",
       "  </tbody>\n",
       "</table>\n",
       "</div>"
      ],
      "text/plain": [
       "   id  gender  leader  support  score   rank init_class class   flag variable  \\\n",
       "0   1       0       0        0    335  109.0          F     A  False    x001A   \n",
       "1   2       1       0        0    379   38.0          G     A  False    x002A   \n",
       "2   3       0       0        0    350   79.0          H     A  False    x003A   \n",
       "\n",
       "      score*var flag*var  \n",
       "0  {x001A: 335}       {}  \n",
       "1  {x002A: 379}       {}  \n",
       "2  {x003A: 350}       {}  "
      ]
     },
     "execution_count": 5,
     "metadata": {},
     "output_type": "execute_result"
    }
   ],
   "source": [
    "# variable\n",
    "s_df['variable'] = [LpVariable(f'x{id:03}{c}', cat='Binary') for id, c in zip(s_df['id'], s_df['class'])]\n",
    "\n",
    "# variable * score, flag\n",
    "s_df['score*var'] = s_df['variable'] * s_df['score']\n",
    "s_df['flag*var'] = s_df['variable'] * s_df['flag']\n",
    "\n",
    "print(s_df.shape)\n",
    "s_df.head(3)"
   ]
  },
  {
   "cell_type": "markdown",
   "metadata": {},
   "source": [
    "数理モデル定義"
   ]
  },
  {
   "cell_type": "code",
   "execution_count": 6,
   "metadata": {},
   "outputs": [
    {
     "data": {
      "text/plain": [
       "22     {x023A: 1}\n",
       "55     {x056A: 1}\n",
       "67     {x068A: 1}\n",
       "81     {x082A: 1}\n",
       "88     {x089A: 1}\n",
       "          ...    \n",
       "280    {x281H: 1}\n",
       "283    {x284H: 1}\n",
       "300    {x301H: 1}\n",
       "313    {x314H: 1}\n",
       "316    {x317H: 1}\n",
       "Name: flag*var, Length: 318, dtype: object"
      ]
     },
     "execution_count": 6,
     "metadata": {},
     "output_type": "execute_result"
    }
   ],
   "source": [
    "s_df['flag*var'][s_df['flag*var']!={}]"
   ]
  },
  {
   "cell_type": "code",
   "execution_count": 7,
   "metadata": {},
   "outputs": [],
   "source": [
    "np.random.seed(1)\n",
    "problem = LpProblem('ClassAssignmentProblemByPandas', LpMaximize)\n",
    "\n",
    "# init_class 最大化(元のクラスを維持)\n",
    "problem += lpSum(s_df['flag*var'][s_df['flag*var']!={}])\n",
    "\n",
    "for k, v in s_df.groupby('id'):\n",
    "    # 全生徒を振り分け\n",
    "    problem += lpSum(v['variable']) == 1\n",
    "\n",
    "for k, v in s_df.groupby('class'):\n",
    "    # クラス人数\n",
    "    problem += lpSum(v['variable']) >= 39\n",
    "    problem += lpSum(v['variable']) <= 40\n",
    "    # 男女最大値\n",
    "    problem += lpSum(v['variable'][v['gender'] == 1]) <= 20\n",
    "    problem += lpSum(v['variable'][v['gender'] == 0]) <= 20\n",
    "    # リーダー数\n",
    "    problem += lpSum(v['variable'][v['leader'] == 1]) >= 2\n",
    "    # サポート数\n",
    "    problem += lpSum(v['variable'][v['support'] == 1]) <= 1\n",
    "    # 平均点±10以内\n",
    "    problem += (students_df['score'].mean() - 10) * lpSum(v['variable']) <= lpSum(v['score*var'])\n",
    "    problem += (students_df['score'].mean() + 10) * lpSum(v['variable']) >= lpSum(v['score*var'])\n",
    "\n",
    "# 特定メンバーは異なるクラス\n",
    "for i, s1, s2 in pairs_df.itertuples():\n",
    "    for k, v in s_df.groupby(['class']):\n",
    "        problem += lpSum([v['variable'][v['id'] == s1], v['variable'][v['id'] == s2]]) <= 1\n",
    "\n",
    "# problem"
   ]
  },
  {
   "cell_type": "code",
   "execution_count": 8,
   "metadata": {},
   "outputs": [
    {
     "name": "stdout",
     "output_type": "stream",
     "text": [
      "Status: Optimal\n",
      "Calculating Time: 0.275 (sec)\n"
     ]
    }
   ],
   "source": [
    "time_start = time.time()\n",
    "status = problem.solve()\n",
    "time_stop = time.time()\n",
    "\n",
    "print('Status:', LpStatus[status])\n",
    "print(f'Calculating Time: {time_stop - time_start:.3f} (sec)')"
   ]
  },
  {
   "cell_type": "code",
   "execution_count": 9,
   "metadata": {},
   "outputs": [
    {
     "name": "stdout",
     "output_type": "stream",
     "text": [
      "id: [56, 68, 82, 89, 102, 106, 113, 115, 117, 123, 124, 127, 140, 172, 173, 175, 185, 186, 204, 210, 228, 255, 274, 277, 280, 285, 288, 289, 292, 293, 295, 297, 298, 304, 308, 311, 313, 316, 318]\n",
      "id: [14, 17, 27, 30, 32, 35, 41, 49, 64, 66, 79, 83, 86, 97, 114, 119, 122, 132, 134, 141, 149, 151, 157, 158, 165, 178, 190, 198, 200, 209, 212, 213, 226, 237, 272, 296, 303, 306, 307, 309]\n",
      "id: [21, 38, 44, 46, 51, 54, 62, 63, 73, 75, 76, 84, 85, 88, 99, 120, 138, 142, 143, 144, 150, 166, 183, 192, 193, 195, 201, 205, 207, 211, 217, 221, 222, 243, 244, 263, 264, 287, 299, 315]\n",
      "id: [5, 11, 23, 24, 39, 47, 50, 61, 67, 74, 90, 92, 93, 100, 104, 109, 116, 121, 131, 136, 147, 152, 155, 167, 170, 176, 196, 199, 218, 219, 227, 230, 231, 236, 239, 253, 257, 259, 271, 294]\n",
      "id: [4, 8, 12, 13, 19, 22, 33, 43, 48, 55, 57, 59, 98, 112, 125, 130, 133, 139, 153, 169, 177, 184, 189, 203, 234, 235, 240, 241, 249, 251, 254, 256, 261, 266, 268, 276, 283, 291, 302]\n",
      "id: [1, 6, 16, 28, 29, 40, 42, 45, 58, 70, 77, 91, 118, 128, 129, 135, 145, 146, 148, 156, 161, 162, 163, 174, 181, 188, 194, 202, 214, 224, 229, 238, 246, 258, 260, 262, 265, 286, 290, 310]\n",
      "id: [2, 7, 9, 10, 15, 18, 26, 31, 36, 37, 52, 71, 78, 80, 94, 96, 101, 110, 126, 159, 160, 179, 180, 182, 191, 197, 215, 242, 245, 247, 248, 252, 267, 273, 275, 282, 300, 305, 312, 314]\n",
      "id: [3, 20, 25, 34, 53, 60, 65, 69, 72, 81, 87, 95, 103, 105, 107, 108, 111, 137, 154, 164, 168, 171, 187, 206, 208, 216, 220, 223, 225, 232, 233, 250, 269, 270, 278, 279, 281, 284, 301, 317]\n"
     ]
    }
   ],
   "source": [
    "s_df['result'] = s_df['variable'].apply(value)\n",
    "result_df = s_df[s_df['result'] == 1]\n",
    "result_df = result_df.sort_values('id').reset_index(drop=True)\n",
    "\n",
    "student_by_class = {}\n",
    "for c in result_df['class'].sort_values().unique():\n",
    "    student_by_class[c] = result_df['id'][result_df['class'] == c].to_list()\n",
    "\n",
    "for c, Ss in student_by_class.items():\n",
    "    # print(f'Class: {c}')\n",
    "    # print(f'Num: {len(Ss)}')\n",
    "    print(f'id: {Ss}')\n",
    "    # print('*' * 5)"
   ]
  },
  {
   "cell_type": "code",
   "execution_count": 10,
   "metadata": {},
   "outputs": [
    {
     "data": {
      "text/plain": [
       "class\n",
       "A    39\n",
       "B    40\n",
       "C    40\n",
       "D    40\n",
       "E    39\n",
       "F    40\n",
       "G    40\n",
       "H    40\n",
       "Name: id, dtype: int64"
      ]
     },
     "execution_count": 10,
     "metadata": {},
     "output_type": "execute_result"
    }
   ],
   "source": [
    "# クラス人数確認\n",
    "result_df.groupby(['class'])['id'].count()"
   ]
  },
  {
   "cell_type": "code",
   "execution_count": 11,
   "metadata": {},
   "outputs": [
    {
     "data": {
      "text/plain": [
       "class  gender\n",
       "A      0         20\n",
       "       1         19\n",
       "B      0         20\n",
       "       1         20\n",
       "C      0         20\n",
       "       1         20\n",
       "D      0         20\n",
       "       1         20\n",
       "E      0         20\n",
       "       1         19\n",
       "F      0         20\n",
       "       1         20\n",
       "G      0         20\n",
       "       1         20\n",
       "H      0         20\n",
       "       1         20\n",
       "Name: id, dtype: int64"
      ]
     },
     "execution_count": 11,
     "metadata": {},
     "output_type": "execute_result"
    }
   ],
   "source": [
    "# 男女人数確認\n",
    "result_df.groupby(['class', 'gender'])['id'].count()"
   ]
  },
  {
   "cell_type": "code",
   "execution_count": 12,
   "metadata": {},
   "outputs": [
    {
     "data": {
      "text/plain": [
       "class  leader\n",
       "A      0         37\n",
       "       1          2\n",
       "B      0         38\n",
       "       1          2\n",
       "C      0         38\n",
       "       1          2\n",
       "D      0         38\n",
       "       1          2\n",
       "E      0         37\n",
       "       1          2\n",
       "F      0         37\n",
       "       1          3\n",
       "G      0         38\n",
       "       1          2\n",
       "H      0         38\n",
       "       1          2\n",
       "Name: id, dtype: int64"
      ]
     },
     "execution_count": 12,
     "metadata": {},
     "output_type": "execute_result"
    }
   ],
   "source": [
    "# リーダー人数確認\n",
    "result_df.groupby(['class', 'leader'])['id'].count()"
   ]
  },
  {
   "cell_type": "code",
   "execution_count": 13,
   "metadata": {},
   "outputs": [
    {
     "data": {
      "text/plain": [
       "class  support\n",
       "A      0          38\n",
       "       1           1\n",
       "B      0          39\n",
       "       1           1\n",
       "C      0          39\n",
       "       1           1\n",
       "D      0          40\n",
       "E      0          39\n",
       "F      0          40\n",
       "G      0          39\n",
       "       1           1\n",
       "H      0          40\n",
       "Name: id, dtype: int64"
      ]
     },
     "execution_count": 13,
     "metadata": {},
     "output_type": "execute_result"
    }
   ],
   "source": [
    "# サポート人数確認\n",
    "result_df.groupby(['class', 'support'])['id'].count()"
   ]
  },
  {
   "cell_type": "code",
   "execution_count": 14,
   "metadata": {},
   "outputs": [
    {
     "name": "stdout",
     "output_type": "stream",
     "text": [
      "[[118 'F']] [[189 'E']]\n",
      "[[72 'H']] [[50 'D']]\n",
      "[[314 'G']] [[233 'H']]\n"
     ]
    }
   ],
   "source": [
    "# 特定メンバー重複確認\n",
    "for i, s1, s2 in pairs_df.itertuples():\n",
    "    print(result_df[['id', 'class']][result_df['id'] == s1].values, result_df[['id', 'class']][result_df['id'] == s2].values)"
   ]
  },
  {
   "cell_type": "code",
   "execution_count": 15,
   "metadata": {},
   "outputs": [
    {
     "data": {
      "text/plain": [
       "class\n",
       "A   -5.080552\n",
       "B    4.555346\n",
       "C   -3.469654\n",
       "D    1.505346\n",
       "E    9.175859\n",
       "F   -1.244654\n",
       "G   -8.394654\n",
       "H    3.055346\n",
       "dtype: float64"
      ]
     },
     "execution_count": 15,
     "metadata": {},
     "output_type": "execute_result"
    }
   ],
   "source": [
    "# 平均点 ±10 確認\n",
    "class_score_mean = result_df.groupby('class').sum()['score'] / result_df.groupby('class').count()['id']\n",
    "class_score_mean - students_df['score'].mean()"
   ]
  },
  {
   "cell_type": "code",
   "execution_count": 16,
   "metadata": {},
   "outputs": [
    {
     "data": {
      "image/png": "[encoded data removed]",
      "text/plain": [
       "<Figure size 2000x200 with 8 Axes>"
      ]
     },
     "metadata": {},
     "output_type": "display_data"
    }
   ],
   "source": [
    "# 最適化前の分布\n",
    "plt.figure(figsize=(20, 2))\n",
    "for i, c in enumerate(students_df2['init_class'].sort_values().unique()):\n",
    "    cls_df = students_df2[students_df2['init_class'] == c]\n",
    "    plt.subplot(1, 8, i+1)\n",
    "    plt.hist(cls_df['score'], bins=range(0, 500, 40))\n",
    "    plt.xlim(0, 500)\n",
    "    plt.ylim(0, 13)\n",
    "    plt.title(f'Class {c}')"
   ]
  },
  {
   "cell_type": "code",
   "execution_count": 17,
   "metadata": {},
   "outputs": [
    {
     "data": {
      "image/png": "[encoded data removed]",
      "text/plain": [
       "<Figure size 2000x200 with 8 Axes>"
      ]
     },
     "metadata": {},
     "output_type": "display_data"
    }
   ],
   "source": [
    "# score の分布\n",
    "plt.figure(figsize=(20, 2))\n",
    "for i, c in enumerate(result_df['class'].sort_values().unique()):\n",
    "    cls_df = result_df[result_df['class'] == c]\n",
    "    plt.subplot(1, 8, i+1)\n",
    "    plt.hist(cls_df['score'], bins=range(0, 500, 40))\n",
    "    plt.xlim(0, 500)\n",
    "    plt.ylim(0, 13)\n",
    "    plt.title(f'Class {c}')\n"
   ]
  },
  {
   "cell_type": "code",
   "execution_count": 18,
   "metadata": {},
   "outputs": [
    {
     "data": {
      "text/html": [
       "<div>\n",
       "<style scoped>\n",
       "    .dataframe tbody tr th:only-of-type {\n",
       "        vertical-align: middle;\n",
       "    }\n",
       "\n",
       "    .dataframe tbody tr th {\n",
       "        vertical-align: top;\n",
       "    }\n",
       "\n",
       "    .dataframe thead th {\n",
       "        text-align: right;\n",
       "    }\n",
       "</style>\n",
       "<table border=\"1\" class=\"dataframe\">\n",
       "  <thead>\n",
       "    <tr style=\"text-align: right;\">\n",
       "      <th></th>\n",
       "      <th>id</th>\n",
       "      <th>gender</th>\n",
       "      <th>leader</th>\n",
       "      <th>support</th>\n",
       "      <th>score</th>\n",
       "      <th>rank</th>\n",
       "      <th>init_class</th>\n",
       "      <th>class</th>\n",
       "      <th>flag</th>\n",
       "      <th>variable</th>\n",
       "      <th>score*var</th>\n",
       "      <th>flag*var</th>\n",
       "      <th>result</th>\n",
       "    </tr>\n",
       "  </thead>\n",
       "  <tbody>\n",
       "    <tr>\n",
       "      <th>0</th>\n",
       "      <td>1</td>\n",
       "      <td>0</td>\n",
       "      <td>0</td>\n",
       "      <td>0</td>\n",
       "      <td>335</td>\n",
       "      <td>109.0</td>\n",
       "      <td>F</td>\n",
       "      <td>F</td>\n",
       "      <td>True</td>\n",
       "      <td>x001F</td>\n",
       "      <td>{x001F: 335}</td>\n",
       "      <td>{x001F: 1}</td>\n",
       "      <td>1.0</td>\n",
       "    </tr>\n",
       "    <tr>\n",
       "      <th>1</th>\n",
       "      <td>2</td>\n",
       "      <td>1</td>\n",
       "      <td>0</td>\n",
       "      <td>0</td>\n",
       "      <td>379</td>\n",
       "      <td>38.0</td>\n",
       "      <td>G</td>\n",
       "      <td>G</td>\n",
       "      <td>True</td>\n",
       "      <td>x002G</td>\n",
       "      <td>{x002G: 379}</td>\n",
       "      <td>{x002G: 1}</td>\n",
       "      <td>1.0</td>\n",
       "    </tr>\n",
       "    <tr>\n",
       "      <th>2</th>\n",
       "      <td>3</td>\n",
       "      <td>0</td>\n",
       "      <td>0</td>\n",
       "      <td>0</td>\n",
       "      <td>350</td>\n",
       "      <td>79.0</td>\n",
       "      <td>H</td>\n",
       "      <td>H</td>\n",
       "      <td>True</td>\n",
       "      <td>x003H</td>\n",
       "      <td>{x003H: 350}</td>\n",
       "      <td>{x003H: 1}</td>\n",
       "      <td>1.0</td>\n",
       "    </tr>\n",
       "    <tr>\n",
       "      <th>3</th>\n",
       "      <td>4</td>\n",
       "      <td>0</td>\n",
       "      <td>0</td>\n",
       "      <td>0</td>\n",
       "      <td>301</td>\n",
       "      <td>172.0</td>\n",
       "      <td>E</td>\n",
       "      <td>E</td>\n",
       "      <td>True</td>\n",
       "      <td>x004E</td>\n",
       "      <td>{x004E: 301}</td>\n",
       "      <td>{x004E: 1}</td>\n",
       "      <td>1.0</td>\n",
       "    </tr>\n",
       "    <tr>\n",
       "      <th>4</th>\n",
       "      <td>5</td>\n",
       "      <td>1</td>\n",
       "      <td>0</td>\n",
       "      <td>0</td>\n",
       "      <td>317</td>\n",
       "      <td>147.0</td>\n",
       "      <td>D</td>\n",
       "      <td>D</td>\n",
       "      <td>True</td>\n",
       "      <td>x005D</td>\n",
       "      <td>{x005D: 317}</td>\n",
       "      <td>{x005D: 1}</td>\n",
       "      <td>1.0</td>\n",
       "    </tr>\n",
       "    <tr>\n",
       "      <th>...</th>\n",
       "      <td>...</td>\n",
       "      <td>...</td>\n",
       "      <td>...</td>\n",
       "      <td>...</td>\n",
       "      <td>...</td>\n",
       "      <td>...</td>\n",
       "      <td>...</td>\n",
       "      <td>...</td>\n",
       "      <td>...</td>\n",
       "      <td>...</td>\n",
       "      <td>...</td>\n",
       "      <td>...</td>\n",
       "      <td>...</td>\n",
       "    </tr>\n",
       "    <tr>\n",
       "      <th>313</th>\n",
       "      <td>314</td>\n",
       "      <td>0</td>\n",
       "      <td>0</td>\n",
       "      <td>0</td>\n",
       "      <td>244</td>\n",
       "      <td>263.0</td>\n",
       "      <td>H</td>\n",
       "      <td>G</td>\n",
       "      <td>False</td>\n",
       "      <td>x314G</td>\n",
       "      <td>{x314G: 244}</td>\n",
       "      <td>{}</td>\n",
       "      <td>1.0</td>\n",
       "    </tr>\n",
       "    <tr>\n",
       "      <th>314</th>\n",
       "      <td>315</td>\n",
       "      <td>1</td>\n",
       "      <td>0</td>\n",
       "      <td>0</td>\n",
       "      <td>309</td>\n",
       "      <td>162.0</td>\n",
       "      <td>C</td>\n",
       "      <td>C</td>\n",
       "      <td>True</td>\n",
       "      <td>x315C</td>\n",
       "      <td>{x315C: 309}</td>\n",
       "      <td>{x315C: 1}</td>\n",
       "      <td>1.0</td>\n",
       "    </tr>\n",
       "    <tr>\n",
       "      <th>315</th>\n",
       "      <td>316</td>\n",
       "      <td>0</td>\n",
       "      <td>0</td>\n",
       "      <td>0</td>\n",
       "      <td>239</td>\n",
       "      <td>272.0</td>\n",
       "      <td>A</td>\n",
       "      <td>A</td>\n",
       "      <td>True</td>\n",
       "      <td>x316A</td>\n",
       "      <td>{x316A: 239}</td>\n",
       "      <td>{x316A: 1}</td>\n",
       "      <td>1.0</td>\n",
       "    </tr>\n",
       "    <tr>\n",
       "      <th>316</th>\n",
       "      <td>317</td>\n",
       "      <td>1</td>\n",
       "      <td>0</td>\n",
       "      <td>0</td>\n",
       "      <td>356</td>\n",
       "      <td>63.0</td>\n",
       "      <td>H</td>\n",
       "      <td>H</td>\n",
       "      <td>True</td>\n",
       "      <td>x317H</td>\n",
       "      <td>{x317H: 356}</td>\n",
       "      <td>{x317H: 1}</td>\n",
       "      <td>1.0</td>\n",
       "    </tr>\n",
       "    <tr>\n",
       "      <th>317</th>\n",
       "      <td>318</td>\n",
       "      <td>0</td>\n",
       "      <td>0</td>\n",
       "      <td>0</td>\n",
       "      <td>256</td>\n",
       "      <td>248.0</td>\n",
       "      <td>A</td>\n",
       "      <td>A</td>\n",
       "      <td>True</td>\n",
       "      <td>x318A</td>\n",
       "      <td>{x318A: 256}</td>\n",
       "      <td>{x318A: 1}</td>\n",
       "      <td>1.0</td>\n",
       "    </tr>\n",
       "  </tbody>\n",
       "</table>\n",
       "<p>318 rows × 13 columns</p>\n",
       "</div>"
      ],
      "text/plain": [
       "      id  gender  leader  support  score   rank init_class class   flag  \\\n",
       "0      1       0       0        0    335  109.0          F     F   True   \n",
       "1      2       1       0        0    379   38.0          G     G   True   \n",
       "2      3       0       0        0    350   79.0          H     H   True   \n",
       "3      4       0       0        0    301  172.0          E     E   True   \n",
       "4      5       1       0        0    317  147.0          D     D   True   \n",
       "..   ...     ...     ...      ...    ...    ...        ...   ...    ...   \n",
       "313  314       0       0        0    244  263.0          H     G  False   \n",
       "314  315       1       0        0    309  162.0          C     C   True   \n",
       "315  316       0       0        0    239  272.0          A     A   True   \n",
       "316  317       1       0        0    356   63.0          H     H   True   \n",
       "317  318       0       0        0    256  248.0          A     A   True   \n",
       "\n",
       "    variable     score*var    flag*var  result  \n",
       "0      x001F  {x001F: 335}  {x001F: 1}     1.0  \n",
       "1      x002G  {x002G: 379}  {x002G: 1}     1.0  \n",
       "2      x003H  {x003H: 350}  {x003H: 1}     1.0  \n",
       "3      x004E  {x004E: 301}  {x004E: 1}     1.0  \n",
       "4      x005D  {x005D: 317}  {x005D: 1}     1.0  \n",
       "..       ...           ...         ...     ...  \n",
       "313    x314G  {x314G: 244}          {}     1.0  \n",
       "314    x315C  {x315C: 309}  {x315C: 1}     1.0  \n",
       "315    x316A  {x316A: 239}  {x316A: 1}     1.0  \n",
       "316    x317H  {x317H: 356}  {x317H: 1}     1.0  \n",
       "317    x318A  {x318A: 256}  {x318A: 1}     1.0  \n",
       "\n",
       "[318 rows x 13 columns]"
      ]
     },
     "execution_count": 18,
     "metadata": {},
     "output_type": "execute_result"
    }
   ],
   "source": [
    "result_df"
   ]
  }
 ],
 "metadata": {
  "kernelspec": {
   "display_name": "Python 3",
   "language": "python",
   "name": "python3"
  },
  "language_info": {
   "codemirror_mode": {
    "name": "ipython",
    "version": 3
   },
   "file_extension": ".py",
   "mimetype": "text/x-python",
   "name": "python",
   "nbconvert_exporter": "python",
   "pygments_lexer": "ipython3",
   "version": "3.11.9"
  }
 },
 "nbformat": 4,
 "nbformat_minor": 2
}
