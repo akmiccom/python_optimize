{
 "cells": [
  {
   "cell_type": "markdown",
   "metadata": {},
   "source": [
    "##### SUBJECT TO\n",
    "- A-1 変数x x[d, k1, k2]の合計は 1 以下\n",
    "  - m += lpSum([x[d, k2, k1] for k2 in K]) <= 1\n",
    "    - _C1: x_(1,_'p',_'p') + x_(1,_'s1',_'p') + x_(1,_'s2',_'p') + x_(1,_'s3',_'p') + x_(1,_'s4',_'p') <= 1\n",
    "    - _C2: x_(1,_'p',_'s1') + x_(1,_'s1',_'s1') + x_(1,_'s2',_'s1') + x_(1,_'s3',_'s1') + x_(1,_'s4',_'s1') <= 1\n",
    "- A-2 変数x x[d, k1, k2]の合計 と (x[d, k2, k1])の合計は同じ\n",
    "  - m += lpSum([x[d, k1, k2] for k2 in K]) == lpSum([x[d, k1, k2] for k2 in K])\n",
    "    - _C1: 0 x_(1,_'p',_'p') + 0 x_(1,_'p',_'s1') + 0 x_(1,_'p',_'s2') + 0 x_(1,_'p',_'s3') + 0 x_(1,_'p',_'s4') = 0\n",
    "    - _C2: 0 x_(1,_'s1',_'p') + 0 x_(1,_'s1',_'s1') + 0 x_(1,_'s1',_'s2') + 0 x_(1,_'s1',_'s3') + 0 x_(1,_'s1',_'s4') = 0\n",
    "- B-1 変数u(順番)は、地点Pはゼロをとる\n",
    "  - m += u[d, 'p'] == 0\n",
    "    - _C1: u_(1,_'p') = 0\n",
    "    - _C2: u_(2,_'p') = 0\n",
    "- B-2 変数u(順番)は、1から地点数以下の値をとる\n",
    "  - m += u[d, s] >= 1\n",
    "  - m += u[d, s] <= len(S)\n",
    "    - _C1: u_(1,_'s1') >= 1\n",
    "    - _C2: u_(1,_'s1') <= 4\n",
    "    - _C3: u_(1,_'s2') >= 1\n",
    "    - _C4: u_(1,_'s2') <= 4\n",
    "- B-3 変数u(順番)は、変数x=0で必ず成立し、変数x=1 で s1 < s2 の順番をとる\n",
    "  - m += u[d, s1] + 1 <= u[d, s2] + (len(K)-1) * (1-x[d, s1, s2])\n",
    "    - _C1: 0 u_(1,_'s1') + 4 x_(1,_'s1',_'s1') <= 3 (※ u_(1,_'p') == 0)\n",
    "    - _C2: u_(1,_'s1') - u_(1,_'s2') + 4 x_(1,_'s1',_'s2') <= 3\n",
    "    - _C3: u_(1,_'s1') - u_(1,_'s3') + 4 x_(1,_'s1',_'s3') <= 3\n",
    "- C-1 変数y(荷物)は期間内で1回\n",
    "  - m += lpSum([y[d, r] for d in D]) <= 1\n",
    "    - _C1: y_(1,_'r1') + y_(2,_'r1') + y_(3,_'r1') + y_(4,_'r1') <= 1\n",
    "    - _C2: y_(1,_'r2') + y_(2,_'r2') + y_(3,_'r2') + y_(4,_'r2') <= 1\n",
    "- D-1 期間内で配送先に訪問する\n",
    "  - m += y[d, r] <= lpSum([x[d, k, tar_s] for k in K])\n",
    "    - _C1: - x_(1,_'p',_'s1') - x_(1,_'s1',_'s1') - x_(1,_'s2',_'s1') - x_(1,_'s3',_'s1') - x_(1,_'s4',_'s1') + y_(1,_'r1') <= 0\n",
    "    - _C2: - x_(1,_'p',_'s2') - x_(1,_'s1',_'s2') - x_(1,_'s2',_'s2') - x_(1,_'s3',_'s2') - x_(1,_'s4',_'s2') + y_(1,_'r2') <= 0\n",
    "- E-1 最大重量4000以下\n",
    "  - m += lpSum([y[d, r] * R2SWBE[r][1] for r in R]) <= MAX_WEIGHT\n",
    "    - _C1: 1000 y_(1,_'r1') + 1000 y_(1,_'r2') + 1000 y_(1,_'r3') + 1500 y_(1,_'r4') + 1500 y_(1,_'r5') + 1500 y_(1,_'r6') + 1500 y_(1,_'r7') + 3000 y_(1,_'r8') <= 4000\n",
    "    - _C2: 1000 y_(2,_'r1') + 1000 y_(2,_'r2') + 1000 y_(2,_'r3') + 1500 y_(2,_'r4') + 1500 y_(2,_'r5') + 1500 y_(2,_'r6') + 1500 y_(2,_'r7') + 3000 y_(2,_'r8') <= 4000\n",
    "- F-1 最大労働時間は8時間以下\n",
    "  - m += lpSum([KK2T[k1, k2] * x[d, k1, k2] for k1 in K for k2 in K]) - MAX_OFFICE_HOURS <= h[d]\n",
    "    - _C1: - h_1 + 2 x_(1,_'p',_'s1') + 2.82 x_(1,_'p',_'s2') + … + 6.32 x_(1,_'s4',_'s1') + 7.21 x_(1,_'s4',_'s2') + 2 x_(1,_'s4',_'s3') <= 8\n",
    "    - _C2: - h_2 + 2 x_(2,_'p',_'s1') + 2.82 x_(2,_'p',_'s2') + … + 6.32 x_(2,_'s4',_'s1') + 7.21 x_(2,_'s4',_'s2') + 2 x_(2,_'s4',_'s3') <= 8\n",
    "- G-1 残業/日 は3時間以内\n",
    "  - m += h[d] <= OVER_WORK_HOURS\n",
    "    - _C1: h_1 <= 3\n",
    "    - _C2: h_2 <= 3\n",
    "- H-1 指定日以前は禁止\n",
    "- H-2 指定日以後は禁止\n",
    "  - m += y[d, r] == 0\n",
    "  - m += y[d, r] == 0\n",
    "    - _C1: y_(2,_'r1') = 0\n",
    "    - _C2: y_(3,_'r1') = 0\n",
    "- 残業費用の最小化\n",
    "  - zangyo_costs = lpSum([OVER_WORK_UNIT_PRICE * h[d] for d in D])\n",
    "  - outsourse_costs = lpSum(OUTSOURSING_WEIGHT * R2SWBE[r][1] * (1 - lpSum([y[d, r] for d in D])) for r in R)\n",
    "  - m += zangyo_costs + outsourse_costs\n",
    "    - 3000*h_1 + 3000*h_2 + 3000*h_3 + 3000*h_4 + … + -69000*y_(4,_'r7') + -138000*y_(4,_'r8') + 552000"
   ]
  },
  {
   "cell_type": "code",
   "execution_count": 49,
   "metadata": {},
   "outputs": [],
   "source": [
    "from pulp import LpProblem, LpVariable, LpMaximize, LpMinimize, LpStatus, lpSum, value, LpConstraint\n",
    "from pulp import PULP_CBC_CMD\n",
    "import pandas as pd\n",
    "import matplotlib.pyplot as plt\n",
    "from glob import glob\n",
    "import seaborn as sns\n",
    "from  itertools import product\n",
    "import math\n",
    "import time\n",
    "import os"
   ]
  },
  {
   "cell_type": "code",
   "execution_count": 50,
   "metadata": {},
   "outputs": [
    {
     "name": "stdout",
     "output_type": "stream",
     "text": [
      "['distances', 'locations', 'orders', 'small_distances', 'small_locations', 'small_orders']\n"
     ]
    }
   ],
   "source": [
    "# Read files\n",
    "files = glob('../*/*routing_ver2/*.csv')\n",
    "# print(files)\n",
    "dfs, name_df = [], []\n",
    "for i, file in enumerate(files):\n",
    "    df_name = os.path.splitext(os.path.basename(files[i]))[0]\n",
    "    name_df.append(df_name)\n",
    "    df = pd.read_csv(files[i])\n",
    "    dfs.append(df)\n",
    "print(name_df)"
   ]
  },
  {
   "cell_type": "code",
   "execution_count": 51,
   "metadata": {},
   "outputs": [
    {
     "name": "stdout",
     "output_type": "stream",
     "text": [
      "(25, 3)\n"
     ]
    },
    {
     "data": {
      "text/html": [
       "<div>\n",
       "<style scoped>\n",
       "    .dataframe tbody tr th:only-of-type {\n",
       "        vertical-align: middle;\n",
       "    }\n",
       "\n",
       "    .dataframe tbody tr th {\n",
       "        vertical-align: top;\n",
       "    }\n",
       "\n",
       "    .dataframe thead th {\n",
       "        text-align: right;\n",
       "    }\n",
       "</style>\n",
       "<table border=\"1\" class=\"dataframe\">\n",
       "  <thead>\n",
       "    <tr style=\"text-align: right;\">\n",
       "      <th></th>\n",
       "      <th>k1</th>\n",
       "      <th>k2</th>\n",
       "      <th>t</th>\n",
       "    </tr>\n",
       "  </thead>\n",
       "  <tbody>\n",
       "    <tr>\n",
       "      <th>0</th>\n",
       "      <td>p</td>\n",
       "      <td>p</td>\n",
       "      <td>0.000000</td>\n",
       "    </tr>\n",
       "    <tr>\n",
       "      <th>1</th>\n",
       "      <td>p</td>\n",
       "      <td>s1</td>\n",
       "      <td>2.000000</td>\n",
       "    </tr>\n",
       "    <tr>\n",
       "      <th>2</th>\n",
       "      <td>p</td>\n",
       "      <td>s2</td>\n",
       "      <td>2.828427</td>\n",
       "    </tr>\n",
       "  </tbody>\n",
       "</table>\n",
       "</div>"
      ],
      "text/plain": [
       "  k1  k2         t\n",
       "0  p   p  0.000000\n",
       "1  p  s1  2.000000\n",
       "2  p  s2  2.828427"
      ]
     },
     "metadata": {},
     "output_type": "display_data"
    },
    {
     "name": "stdout",
     "output_type": "stream",
     "text": [
      "(5, 4)\n"
     ]
    },
    {
     "data": {
      "text/html": [
       "<div>\n",
       "<style scoped>\n",
       "    .dataframe tbody tr th:only-of-type {\n",
       "        vertical-align: middle;\n",
       "    }\n",
       "\n",
       "    .dataframe tbody tr th {\n",
       "        vertical-align: top;\n",
       "    }\n",
       "\n",
       "    .dataframe thead th {\n",
       "        text-align: right;\n",
       "    }\n",
       "</style>\n",
       "<table border=\"1\" class=\"dataframe\">\n",
       "  <thead>\n",
       "    <tr style=\"text-align: right;\">\n",
       "      <th></th>\n",
       "      <th>k</th>\n",
       "      <th>x</th>\n",
       "      <th>y</th>\n",
       "      <th>depo_flag</th>\n",
       "    </tr>\n",
       "  </thead>\n",
       "  <tbody>\n",
       "    <tr>\n",
       "      <th>0</th>\n",
       "      <td>p</td>\n",
       "      <td>0</td>\n",
       "      <td>0</td>\n",
       "      <td>1</td>\n",
       "    </tr>\n",
       "    <tr>\n",
       "      <th>1</th>\n",
       "      <td>s1</td>\n",
       "      <td>-2</td>\n",
       "      <td>0</td>\n",
       "      <td>0</td>\n",
       "    </tr>\n",
       "    <tr>\n",
       "      <th>2</th>\n",
       "      <td>s2</td>\n",
       "      <td>-2</td>\n",
       "      <td>-2</td>\n",
       "      <td>0</td>\n",
       "    </tr>\n",
       "  </tbody>\n",
       "</table>\n",
       "</div>"
      ],
      "text/plain": [
       "    k  x  y  depo_flag\n",
       "0   p  0  0          1\n",
       "1  s1 -2  0          0\n",
       "2  s2 -2 -2          0"
      ]
     },
     "metadata": {},
     "output_type": "display_data"
    },
    {
     "name": "stdout",
     "output_type": "stream",
     "text": [
      "(8, 5)\n"
     ]
    },
    {
     "data": {
      "text/html": [
       "<div>\n",
       "<style scoped>\n",
       "    .dataframe tbody tr th:only-of-type {\n",
       "        vertical-align: middle;\n",
       "    }\n",
       "\n",
       "    .dataframe tbody tr th {\n",
       "        vertical-align: top;\n",
       "    }\n",
       "\n",
       "    .dataframe thead th {\n",
       "        text-align: right;\n",
       "    }\n",
       "</style>\n",
       "<table border=\"1\" class=\"dataframe\">\n",
       "  <thead>\n",
       "    <tr style=\"text-align: right;\">\n",
       "      <th></th>\n",
       "      <th>r</th>\n",
       "      <th>s</th>\n",
       "      <th>w</th>\n",
       "      <th>b</th>\n",
       "      <th>e</th>\n",
       "    </tr>\n",
       "  </thead>\n",
       "  <tbody>\n",
       "    <tr>\n",
       "      <th>0</th>\n",
       "      <td>r1</td>\n",
       "      <td>s1</td>\n",
       "      <td>1000</td>\n",
       "      <td>1</td>\n",
       "      <td>1</td>\n",
       "    </tr>\n",
       "    <tr>\n",
       "      <th>1</th>\n",
       "      <td>r2</td>\n",
       "      <td>s2</td>\n",
       "      <td>1000</td>\n",
       "      <td>1</td>\n",
       "      <td>2</td>\n",
       "    </tr>\n",
       "    <tr>\n",
       "      <th>2</th>\n",
       "      <td>r3</td>\n",
       "      <td>s3</td>\n",
       "      <td>1000</td>\n",
       "      <td>2</td>\n",
       "      <td>2</td>\n",
       "    </tr>\n",
       "  </tbody>\n",
       "</table>\n",
       "</div>"
      ],
      "text/plain": [
       "    r   s     w  b  e\n",
       "0  r1  s1  1000  1  1\n",
       "1  r2  s2  1000  1  2\n",
       "2  r3  s3  1000  2  2"
      ]
     },
     "metadata": {},
     "output_type": "display_data"
    }
   ],
   "source": [
    "for df in dfs[3:]:\n",
    "    print(df.shape)\n",
    "    display(df.head(3))"
   ]
  },
  {
   "cell_type": "code",
   "execution_count": 52,
   "metadata": {},
   "outputs": [
    {
     "data": {
      "image/png": "[encoded data removed]",
      "text/plain": [
       "<Figure size 400x300 with 1 Axes>"
      ]
     },
     "metadata": {},
     "output_type": "display_data"
    }
   ],
   "source": [
    "fig = plt.figure(figsize=(4, 3))\n",
    "for r in dfs[4].itertuples():\n",
    "    plt.scatter(r.x, r.y, marker='x')\n",
    "    plt.annotate(r.k, (r.x+0.2, r.y))"
   ]
  },
  {
   "cell_type": "code",
   "execution_count": 53,
   "metadata": {},
   "outputs": [],
   "source": [
    "kk_df = dfs[3].copy()\n",
    "k_df = dfs[4].copy()\n",
    "r_df = dfs[5].copy()\n",
    "\n",
    "D = list(range(r_df['b'].min(), r_df['e'].max()+1))\n",
    "P = k_df['k'][k_df['depo_flag'] == 1]\n",
    "S = k_df['k'][k_df['depo_flag'] == 0]\n",
    "K = k_df['k']\n",
    "R = r_df['r']"
   ]
  },
  {
   "cell_type": "code",
   "execution_count": 54,
   "metadata": {},
   "outputs": [
    {
     "name": "stdout",
     "output_type": "stream",
     "text": [
      "100\n",
      "32\n",
      "20\n"
     ]
    }
   ],
   "source": [
    "DKK = [(d, k1, k2) for d in D for k1 in K for k2 in K]\n",
    "DR = [(d, r) for d in D for r in R]\n",
    "DK = [(d, k) for d in D for k in K]\n",
    "print(len(DKK))\n",
    "print(len(DR))\n",
    "print(len(DK))\n",
    "# D"
   ]
  },
  {
   "cell_type": "code",
   "execution_count": 55,
   "metadata": {},
   "outputs": [
    {
     "name": "stdout",
     "output_type": "stream",
     "text": [
      "8\n",
      "25\n"
     ]
    }
   ],
   "source": [
    "R2SWBE = {r.r: (r.s, r.w, r.b, r.e) for r in r_df.itertuples()}\n",
    "KK2T = {(r.k1, r.k2): r.t for r in kk_df.itertuples()}\n",
    "print(len(R2SWBE))\n",
    "print(len(KK2T))\n",
    "# KK2T"
   ]
  },
  {
   "cell_type": "code",
   "execution_count": 56,
   "metadata": {},
   "outputs": [],
   "source": [
    "x = LpVariable.dicts('x', DKK, cat='Binary')\n",
    "u = LpVariable.dicts('u', DK, cat='Interger')\n",
    "u = LpVariable.dicts('u', DK)\n",
    "y = LpVariable.dicts('y', DR, cat='Binary')\n",
    "h = LpVariable.dicts('h', D, cat='Continuous', lowBound=0)"
   ]
  },
  {
   "cell_type": "code",
   "execution_count": 62,
   "metadata": {},
   "outputs": [
    {
     "data": {
      "text/plain": [
       "vrp_small:\n",
       "MINIMIZE\n",
       "-46000*y_(1,_'r1') + -46000*y_(1,_'r2') + -46000*y_(1,_'r3') + -69000*y_(1,_'r4') + -69000*y_(1,_'r5') + -69000*y_(1,_'r6') + -69000*y_(1,_'r7') + -138000*y_(1,_'r8') + -46000*y_(2,_'r1') + -46000*y_(2,_'r2') + -46000*y_(2,_'r3') + -69000*y_(2,_'r4') + -69000*y_(2,_'r5') + -69000*y_(2,_'r6') + -69000*y_(2,_'r7') + -138000*y_(2,_'r8') + -46000*y_(3,_'r1') + -46000*y_(3,_'r2') + -46000*y_(3,_'r3') + -69000*y_(3,_'r4') + -69000*y_(3,_'r5') + -69000*y_(3,_'r6') + -69000*y_(3,_'r7') + -138000*y_(3,_'r8') + -46000*y_(4,_'r1') + -46000*y_(4,_'r2') + -46000*y_(4,_'r3') + -69000*y_(4,_'r4') + -69000*y_(4,_'r5') + -69000*y_(4,_'r6') + -69000*y_(4,_'r7') + -138000*y_(4,_'r8') + 552000\n",
       "VARIABLES\n",
       "0 <= y_(1,_'r1') <= 1 Integer\n",
       "0 <= y_(1,_'r2') <= 1 Integer\n",
       "0 <= y_(1,_'r3') <= 1 Integer\n",
       "0 <= y_(1,_'r4') <= 1 Integer\n",
       "0 <= y_(1,_'r5') <= 1 Integer\n",
       "0 <= y_(1,_'r6') <= 1 Integer\n",
       "0 <= y_(1,_'r7') <= 1 Integer\n",
       "0 <= y_(1,_'r8') <= 1 Integer\n",
       "0 <= y_(2,_'r1') <= 1 Integer\n",
       "0 <= y_(2,_'r2') <= 1 Integer\n",
       "0 <= y_(2,_'r3') <= 1 Integer\n",
       "0 <= y_(2,_'r4') <= 1 Integer\n",
       "0 <= y_(2,_'r5') <= 1 Integer\n",
       "0 <= y_(2,_'r6') <= 1 Integer\n",
       "0 <= y_(2,_'r7') <= 1 Integer\n",
       "0 <= y_(2,_'r8') <= 1 Integer\n",
       "0 <= y_(3,_'r1') <= 1 Integer\n",
       "0 <= y_(3,_'r2') <= 1 Integer\n",
       "0 <= y_(3,_'r3') <= 1 Integer\n",
       "0 <= y_(3,_'r4') <= 1 Integer\n",
       "0 <= y_(3,_'r5') <= 1 Integer\n",
       "0 <= y_(3,_'r6') <= 1 Integer\n",
       "0 <= y_(3,_'r7') <= 1 Integer\n",
       "0 <= y_(3,_'r8') <= 1 Integer\n",
       "0 <= y_(4,_'r1') <= 1 Integer\n",
       "0 <= y_(4,_'r2') <= 1 Integer\n",
       "0 <= y_(4,_'r3') <= 1 Integer\n",
       "0 <= y_(4,_'r4') <= 1 Integer\n",
       "0 <= y_(4,_'r5') <= 1 Integer\n",
       "0 <= y_(4,_'r6') <= 1 Integer\n",
       "0 <= y_(4,_'r7') <= 1 Integer\n",
       "0 <= y_(4,_'r8') <= 1 Integer"
      ]
     },
     "execution_count": 62,
     "metadata": {},
     "output_type": "execute_result"
    }
   ],
   "source": [
    "m = LpProblem(name='vrp_small', sense=LpMinimize)\n",
    "\n",
    "# 残業費用の最小化\n",
    "OVER_WORK_UNIT_PRICE = 3000\n",
    "OUTSOURSING_WEIGHT = 46\n",
    "zangyo_costs = lpSum([OVER_WORK_UNIT_PRICE * h[d] for d in D])\n",
    "outsourse_costs = lpSum(OUTSOURSING_WEIGHT * R2SWBE[r][1] * (1 - lpSum([y[d, r] for d in D])) for r in R)\n",
    "# m += zangyo_costs + outsourse_costs\n",
    "m += outsourse_costs\n",
    "\n",
    "# for d in D:\n",
    "#     for k1 in K:\n",
    "#         # A-1 変数x x[d, k1, k2]の合計は 1 以下\n",
    "#         m += lpSum([x[d, k2, k1] for k2 in K]) <= 1\n",
    "#         # A-2 変数x x[d, k1, k2]の合計 と (x[d, k2, k1])の合計は同じ\n",
    "#         m += lpSum([x[d, k1, k2] for k2 in K]) == lpSum([x[d, k2, k1] for k2 in K])\n",
    "\n",
    "#     # B-1 変数u(順番)は、地点Pはゼロをとる\n",
    "#     m += u[d, 'p'] == 0\n",
    "\n",
    "#     # B-2 変数u(順番)は、1から地点数以下の値をとる\n",
    "#     for s in S:\n",
    "#         m += u[d, s] >= 1\n",
    "#         m += u[d, s] <= len(S)\n",
    "\n",
    "#     # B-3 変数u(順番)は、変数x=0で必ず成立し、変数x=1 で s1<s2 の順番をとる\n",
    "#     for s1 in S:\n",
    "#         for s2 in S:\n",
    "#             m += u[d, s1] + 1 <= u[d, s2] + (len(K)-1) * (1-x[d, s1, s2])\n",
    "\n",
    "# for r in R:\n",
    "#     # C-1 変数y(荷物)は期間内で1回\n",
    "#     m += lpSum([y[d, r] for d in D]) <= 1\n",
    "\n",
    "# for d in D:\n",
    "#     for r in R:\n",
    "#         tar_s = R2SWBE[r][0]\n",
    "#         # D-1 変数y(荷物)は変数xの合計より小さくなる\n",
    "#         m += y[d, r] <= lpSum([x[d, k, tar_s] for k in K])\n",
    "\n",
    "# MAX_WEIGHT = 4000\n",
    "# for d in D:\n",
    "#     # E-1 最大重量4000以下\n",
    "#     m += lpSum([y[d, r] * R2SWBE[r][1] for r in R]) <= MAX_WEIGHT\n",
    "\n",
    "# MAX_OFFICE_HOURS = 8\n",
    "# for d in D:\n",
    "#     # F-1 最大労働時間は8時間以下\n",
    "#     m += lpSum([KK2T[k1, k2] * x[d, k1, k2] for k1 in K for k2 in K]) - MAX_OFFICE_HOURS <= h[d]\n",
    "\n",
    "# OVERWORK_HOURS = 3\n",
    "# for d in D:\n",
    "#     # 残業/日 は3時間以内\n",
    "#     m += h[d] <= OVERWORK_HOURS\n",
    "\n",
    "# for r in R:\n",
    "#     for d in D:\n",
    "#         if d < R2SWBE[r][2]:\n",
    "#             # H-1 指定日以前は禁止\n",
    "#             m += y[d, r] == 0\n",
    "#         if R2SWBE[r][3] < d:\n",
    "#             # H-1 指定日以後は禁止\n",
    "#             m += y[d, r] == 0\n",
    "\n",
    "m"
   ]
  },
  {
   "cell_type": "code",
   "execution_count": 58,
   "metadata": {},
   "outputs": [],
   "source": [
    "solver = PULP_CBC_CMD()\n",
    "status = m.solve(solver=solver)"
   ]
  },
  {
   "cell_type": "code",
   "execution_count": 14,
   "metadata": {},
   "outputs": [
    {
     "name": "stdout",
     "output_type": "stream",
     "text": [
      "Status : Optimal\n",
      "Overtime Cost :           \\10,249.22373\n",
      "Outsourcing Cost :        \\69,000.0\n",
      "Total Cost:               \\79,249.22373\n"
     ]
    }
   ],
   "source": [
    "print(f'Status : {LpStatus[status]}')\n",
    "# Result\n",
    "length = 25\n",
    "print(f'Overtime Cost :'.ljust(length), f'\\{zangyo_costs.value():,}')\n",
    "print(f'Outsourcing Cost :'.ljust(length), f'\\{outsourse_costs.value():,}')\n",
    "print(f'Total Cost: '.ljust(length), f'\\{zangyo_costs.value() + outsourse_costs.value():,}')"
   ]
  },
  {
   "cell_type": "code",
   "execution_count": 27,
   "metadata": {},
   "outputs": [
    {
     "name": "stdout",
     "output_type": "stream",
     "text": [
      "x_(1,_'p',_'s1'), x_(1,_'s1',_'s2'), x_(1,_'s2',_'p'), x_(2,_'p',_'s3'), x_(2,_'s3',_'s4'), x_(2,_'s4',_'p'), x_(3,_'p',_'s1'), x_(3,_'s1',_'s2'), x_(3,_'s2',_'p'), x_(4,_'p',_'s4'), x_(4,_'s4',_'p'), "
     ]
    }
   ],
   "source": [
    "for (d, k1, k2) in DKK:\n",
    "    if x[d, k1, k2].value() == 1 and d == d:\n",
    "        print(x[d, k1, k2], end=', ')"
   ]
  },
  {
   "cell_type": "code",
   "execution_count": 26,
   "metadata": {},
   "outputs": [
    {
     "name": "stdout",
     "output_type": "stream",
     "text": [
      "u_(1,_'s1'), u_(1,_'s3'), u_(1,_'s4'), u_(2,_'s1'), u_(2,_'s2'), u_(2,_'s3'), u_(3,_'s1'), u_(3,_'s3'), u_(3,_'s4'), u_(4,_'s1'), u_(4,_'s2'), u_(4,_'s3'), u_(4,_'s4'), "
     ]
    }
   ],
   "source": [
    "for (d, k) in DK:\n",
    "    if u[d, k].value() == 1:\n",
    "        print(u[d, k], end=', ')"
   ]
  },
  {
   "cell_type": "code",
   "execution_count": 28,
   "metadata": {},
   "outputs": [
    {
     "name": "stdout",
     "output_type": "stream",
     "text": [
      "y_(1,_'r1'), y_(1,_'r2'), y_(2,_'r3'), y_(2,_'r4'), y_(3,_'r5'), y_(3,_'r6'), y_(4,_'r8'), "
     ]
    }
   ],
   "source": [
    "for (d, r) in DR:\n",
    "    if y[d, r].value() == 1:\n",
    "        print(y[d, r], end=', ')"
   ]
  },
  {
   "cell_type": "code",
   "execution_count": 31,
   "metadata": {},
   "outputs": [
    {
     "name": "stdout",
     "output_type": "stream",
     "text": [
      "0.00, 2.47, 0.00, 0.94, "
     ]
    }
   ],
   "source": [
    "for d in D:\n",
    "    print(f'{h[d].value():.02f}', end=', ')"
   ]
  },
  {
   "cell_type": "code",
   "execution_count": 17,
   "metadata": {},
   "outputs": [
    {
     "name": "stdout",
     "output_type": "stream",
     "text": [
      "Day 1 Route: [('p', 's1'), ('s1', 's2'), ('s2', 'p')] Weight: 2000.0 [Kg] Time: 6.8 [H] Overwork: 0.0\n",
      "Day 2 Route: [('p', 's3'), ('s3', 's4'), ('s4', 'p')] Weight: 2500.0 [Kg] Time: 10.5 [H] Overwork: 2.5\n",
      "Day 3 Route: [('p', 's1'), ('s1', 's2'), ('s2', 'p')] Weight: 3000.0 [Kg] Time: 6.8 [H] Overwork: 0.0\n",
      "Day 4 Route: [('p', 's4'), ('s4', 'p')] Weight: 3000.0 [Kg] Time: 8.9 [H] Overwork: 0.9\n"
     ]
    }
   ],
   "source": [
    "for d in D:\n",
    "    X = [(k1, k2) for k1 in K for k2 in K if x[d, k1, k2].value() == 1]\n",
    "    time = sum([KK2T[k1, k2] for k1, k2 in X])\n",
    "    weight = sum([y[d, r].value() * R2SWBE[r][1] for r in R])\n",
    "    overwork = h[d].value()\n",
    "    print(f'Day {d}', f'Route: {X}', f'Weight: {weight} [Kg]', f'Time: {time:.01f} [H]', f'Overwork: {overwork:.01f}')"
   ]
  },
  {
   "cell_type": "code",
   "execution_count": 48,
   "metadata": {},
   "outputs": [
    {
     "name": "stdout",
     "output_type": "stream",
     "text": [
      "荷物: r1 Day: 1 Shop: s1 Weight: 1,000 [Kg]\n",
      "荷物: r2 Day: 1 Shop: s2 Weight: 1,000 [Kg]\n",
      "荷物: r3 Day: 2 Shop: s3 Weight: 1,000 [Kg]\n",
      "荷物: r4 Day: 2 Shop: s4 Weight: 1,500 [Kg]\n",
      "荷物: r5 Day: 3 Shop: s1 Weight: 1,500 [Kg]\n",
      "荷物: r6 Day: 3 Shop: s2 Weight: 1,500 [Kg]\n",
      "荷物: r7 Day: 3 Outsourse costs: 69,000 [YEN]\n",
      "荷物: r8 Day: 4 Shop: s4 Weight: 3,000 [Kg]\n"
     ]
    }
   ],
   "source": [
    "for r in R:\n",
    "    owned_flag =sum([y[d, r].value() for d in D])\n",
    "    if owned_flag:\n",
    "        tar_d = [d for d in D if y[d, r].value() == 1][0]\n",
    "        print(f'荷物: {r}', f'Day: {tar_d}', f'Shop: {R2SWBE[r][0]}', f'Weight: {R2SWBE[r][1]:,} [Kg]')\n",
    "    else:\n",
    "        outsourse_costs = OUTSOURSING_WEIGHT * R2SWBE[r][1]\n",
    "        print(f'荷物: {r}', f'Day: {tar_d}', f'Outsourse costs: {outsourse_costs:,} [YEN]')"
   ]
  }
 ],
 "metadata": {
  "kernelspec": {
   "display_name": "Python 3",
   "language": "python",
   "name": "python3"
  },
  "language_info": {
   "codemirror_mode": {
    "name": "ipython",
    "version": 3
   },
   "file_extension": ".py",
   "mimetype": "text/x-python",
   "name": "python",
   "nbconvert_exporter": "python",
   "pygments_lexer": "ipython3",
   "version": "3.11.9"
  }
 },
 "nbformat": 4,
 "nbformat_minor": 2
}
